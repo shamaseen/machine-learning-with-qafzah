{
 "cells": [
  {
   "cell_type": "code",
   "execution_count": 2,
   "metadata": {},
   "outputs": [
    {
     "name": "stderr",
     "output_type": "stream",
     "text": [
      "/home/shamaseen/anaconda3/envs/phone/lib/python3.10/site-packages/pandas/core/arrays/masked.py:60: UserWarning: Pandas requires version '1.3.6' or newer of 'bottleneck' (version '1.3.5' currently installed).\n",
      "  from pandas.core import (\n"
     ]
    }
   ],
   "source": [
    "import numpy as np\n",
    "import pandas as pd\n",
    "\n",
    "import matplotlib.pyplot as plt\n",
    "import seaborn as sns"
   ]
  },
  {
   "cell_type": "markdown",
   "metadata": {},
   "source": [
    "# Take a quick look at the data"
   ]
  },
  {
   "cell_type": "code",
   "execution_count": 3,
   "metadata": {},
   "outputs": [],
   "source": [
    "# Data: https://www.kaggle.com/competitions/titanic/overview"
   ]
  },
  {
   "cell_type": "code",
   "execution_count": 4,
   "metadata": {},
   "outputs": [],
   "source": [
    "data = pd.read_csv('../data/titanic.csv')"
   ]
  },
  {
   "cell_type": "code",
   "execution_count": 5,
   "metadata": {},
   "outputs": [
    {
     "name": "stdout",
     "output_type": "stream",
     "text": [
      "First few rows of the dataset and shape:\n",
      "(891, 12)\n"
     ]
    },
    {
     "data": {
      "text/html": [
       "<div>\n",
       "<style scoped>\n",
       "    .dataframe tbody tr th:only-of-type {\n",
       "        vertical-align: middle;\n",
       "    }\n",
       "\n",
       "    .dataframe tbody tr th {\n",
       "        vertical-align: top;\n",
       "    }\n",
       "\n",
       "    .dataframe thead th {\n",
       "        text-align: right;\n",
       "    }\n",
       "</style>\n",
       "<table border=\"1\" class=\"dataframe\">\n",
       "  <thead>\n",
       "    <tr style=\"text-align: right;\">\n",
       "      <th></th>\n",
       "      <th>PassengerId</th>\n",
       "      <th>Survived</th>\n",
       "      <th>Pclass</th>\n",
       "      <th>Name</th>\n",
       "      <th>Sex</th>\n",
       "      <th>Age</th>\n",
       "      <th>SibSp</th>\n",
       "      <th>Parch</th>\n",
       "      <th>Ticket</th>\n",
       "      <th>Fare</th>\n",
       "      <th>Cabin</th>\n",
       "      <th>Embarked</th>\n",
       "    </tr>\n",
       "  </thead>\n",
       "  <tbody>\n",
       "    <tr>\n",
       "      <th>0</th>\n",
       "      <td>1</td>\n",
       "      <td>0</td>\n",
       "      <td>3</td>\n",
       "      <td>Braund, Mr. Owen Harris</td>\n",
       "      <td>male</td>\n",
       "      <td>22.0</td>\n",
       "      <td>1</td>\n",
       "      <td>0</td>\n",
       "      <td>A/5 21171</td>\n",
       "      <td>7.2500</td>\n",
       "      <td>NaN</td>\n",
       "      <td>S</td>\n",
       "    </tr>\n",
       "    <tr>\n",
       "      <th>1</th>\n",
       "      <td>2</td>\n",
       "      <td>1</td>\n",
       "      <td>1</td>\n",
       "      <td>Cumings, Mrs. John Bradley (Florence Briggs Th...</td>\n",
       "      <td>female</td>\n",
       "      <td>38.0</td>\n",
       "      <td>1</td>\n",
       "      <td>0</td>\n",
       "      <td>PC 17599</td>\n",
       "      <td>71.2833</td>\n",
       "      <td>C85</td>\n",
       "      <td>C</td>\n",
       "    </tr>\n",
       "    <tr>\n",
       "      <th>2</th>\n",
       "      <td>3</td>\n",
       "      <td>1</td>\n",
       "      <td>3</td>\n",
       "      <td>Heikkinen, Miss. Laina</td>\n",
       "      <td>female</td>\n",
       "      <td>26.0</td>\n",
       "      <td>0</td>\n",
       "      <td>0</td>\n",
       "      <td>STON/O2. 3101282</td>\n",
       "      <td>7.9250</td>\n",
       "      <td>NaN</td>\n",
       "      <td>S</td>\n",
       "    </tr>\n",
       "    <tr>\n",
       "      <th>3</th>\n",
       "      <td>4</td>\n",
       "      <td>1</td>\n",
       "      <td>1</td>\n",
       "      <td>Futrelle, Mrs. Jacques Heath (Lily May Peel)</td>\n",
       "      <td>female</td>\n",
       "      <td>35.0</td>\n",
       "      <td>1</td>\n",
       "      <td>0</td>\n",
       "      <td>113803</td>\n",
       "      <td>53.1000</td>\n",
       "      <td>C123</td>\n",
       "      <td>S</td>\n",
       "    </tr>\n",
       "    <tr>\n",
       "      <th>4</th>\n",
       "      <td>5</td>\n",
       "      <td>0</td>\n",
       "      <td>3</td>\n",
       "      <td>Allen, Mr. William Henry</td>\n",
       "      <td>male</td>\n",
       "      <td>35.0</td>\n",
       "      <td>0</td>\n",
       "      <td>0</td>\n",
       "      <td>373450</td>\n",
       "      <td>8.0500</td>\n",
       "      <td>NaN</td>\n",
       "      <td>S</td>\n",
       "    </tr>\n",
       "  </tbody>\n",
       "</table>\n",
       "</div>"
      ],
      "text/plain": [
       "   PassengerId  Survived  Pclass  \\\n",
       "0            1         0       3   \n",
       "1            2         1       1   \n",
       "2            3         1       3   \n",
       "3            4         1       1   \n",
       "4            5         0       3   \n",
       "\n",
       "                                                Name     Sex   Age  SibSp  \\\n",
       "0                            Braund, Mr. Owen Harris    male  22.0      1   \n",
       "1  Cumings, Mrs. John Bradley (Florence Briggs Th...  female  38.0      1   \n",
       "2                             Heikkinen, Miss. Laina  female  26.0      0   \n",
       "3       Futrelle, Mrs. Jacques Heath (Lily May Peel)  female  35.0      1   \n",
       "4                           Allen, Mr. William Henry    male  35.0      0   \n",
       "\n",
       "   Parch            Ticket     Fare Cabin Embarked  \n",
       "0      0         A/5 21171   7.2500   NaN        S  \n",
       "1      0          PC 17599  71.2833   C85        C  \n",
       "2      0  STON/O2. 3101282   7.9250   NaN        S  \n",
       "3      0            113803  53.1000  C123        S  \n",
       "4      0            373450   8.0500   NaN        S  "
      ]
     },
     "execution_count": 5,
     "metadata": {},
     "output_type": "execute_result"
    }
   ],
   "source": [
    "print(\"First few rows of the dataset and shape:\")\n",
    "print(data.shape)\n",
    "data.head()"
   ]
  },
  {
   "cell_type": "code",
   "execution_count": 6,
   "metadata": {},
   "outputs": [
    {
     "name": "stdout",
     "output_type": "stream",
     "text": [
      "\n",
      "Data structure information:\n",
      "<class 'pandas.core.frame.DataFrame'>\n",
      "RangeIndex: 891 entries, 0 to 890\n",
      "Data columns (total 12 columns):\n",
      " #   Column       Non-Null Count  Dtype  \n",
      "---  ------       --------------  -----  \n",
      " 0   PassengerId  891 non-null    int64  \n",
      " 1   Survived     891 non-null    int64  \n",
      " 2   Pclass       891 non-null    int64  \n",
      " 3   Name         891 non-null    object \n",
      " 4   Sex          891 non-null    object \n",
      " 5   Age          714 non-null    float64\n",
      " 6   SibSp        891 non-null    int64  \n",
      " 7   Parch        891 non-null    int64  \n",
      " 8   Ticket       891 non-null    object \n",
      " 9   Fare         891 non-null    float64\n",
      " 10  Cabin        204 non-null    object \n",
      " 11  Embarked     889 non-null    object \n",
      "dtypes: float64(2), int64(5), object(5)\n",
      "memory usage: 83.7+ KB\n",
      "None\n"
     ]
    }
   ],
   "source": [
    "print(\"\\nData structure information:\")\n",
    "print(data.info())"
   ]
  },
  {
   "cell_type": "code",
   "execution_count": 7,
   "metadata": {},
   "outputs": [
    {
     "name": "stdout",
     "output_type": "stream",
     "text": [
      "\n",
      "Summary statistics of numerical columns:\n",
      "       PassengerId    Survived      Pclass         Age       SibSp  \\\n",
      "count   891.000000  891.000000  891.000000  714.000000  891.000000   \n",
      "mean    446.000000    0.383838    2.308642   29.699118    0.523008   \n",
      "std     257.353842    0.486592    0.836071   14.526497    1.102743   \n",
      "min       1.000000    0.000000    1.000000    0.420000    0.000000   \n",
      "25%     223.500000    0.000000    2.000000   20.125000    0.000000   \n",
      "50%     446.000000    0.000000    3.000000   28.000000    0.000000   \n",
      "75%     668.500000    1.000000    3.000000   38.000000    1.000000   \n",
      "max     891.000000    1.000000    3.000000   80.000000    8.000000   \n",
      "\n",
      "            Parch        Fare  \n",
      "count  891.000000  891.000000  \n",
      "mean     0.381594   32.204208  \n",
      "std      0.806057   49.693429  \n",
      "min      0.000000    0.000000  \n",
      "25%      0.000000    7.910400  \n",
      "50%      0.000000   14.454200  \n",
      "75%      0.000000   31.000000  \n",
      "max      6.000000  512.329200  \n"
     ]
    }
   ],
   "source": [
    "print(\"\\nSummary statistics of numerical columns:\")\n",
    "print(data.describe())"
   ]
  },
  {
   "cell_type": "code",
   "execution_count": 7,
   "metadata": {},
   "outputs": [
    {
     "name": "stdout",
     "output_type": "stream",
     "text": [
      "\n",
      "Summary statistics of categorical columns:\n",
      "                           Name   Sex  Ticket    Cabin Embarked\n",
      "count                       891   891     891      204      889\n",
      "unique                      891     2     681      147        3\n",
      "top     Braund, Mr. Owen Harris  male  347082  B96 B98        S\n",
      "freq                          1   577       7        4      644\n"
     ]
    }
   ],
   "source": [
    "print(\"\\nSummary statistics of categorical columns:\")\n",
    "print(data.describe(include='O'))"
   ]
  },
  {
   "cell_type": "code",
   "execution_count": 8,
   "metadata": {},
   "outputs": [
    {
     "name": "stdout",
     "output_type": "stream",
     "text": [
      "\n",
      "Data types of each column:\n",
      "PassengerId      int64\n",
      "Survived         int64\n",
      "Pclass           int64\n",
      "Name            object\n",
      "Sex             object\n",
      "Age            float64\n",
      "SibSp            int64\n",
      "Parch            int64\n",
      "Ticket          object\n",
      "Fare           float64\n",
      "Cabin           object\n",
      "Embarked        object\n",
      "dtype: object\n"
     ]
    }
   ],
   "source": [
    "print(\"\\nData types of each column:\")\n",
    "print(data.dtypes)"
   ]
  },
  {
   "cell_type": "code",
   "execution_count": 9,
   "metadata": {},
   "outputs": [
    {
     "name": "stdout",
     "output_type": "stream",
     "text": [
      "\n",
      "Unique values in each column:\n",
      "PassengerId    891\n",
      "Survived         2\n",
      "Pclass           3\n",
      "Name           891\n",
      "Sex              2\n",
      "Age             88\n",
      "SibSp            7\n",
      "Parch            7\n",
      "Ticket         681\n",
      "Fare           248\n",
      "Cabin          147\n",
      "Embarked         3\n",
      "dtype: int64\n"
     ]
    }
   ],
   "source": [
    "print(\"\\nUnique values in each column:\")\n",
    "print(data.nunique())"
   ]
  },
  {
   "cell_type": "code",
   "execution_count": 10,
   "metadata": {},
   "outputs": [
    {
     "name": "stdout",
     "output_type": "stream",
     "text": [
      "\n",
      "Value counts for the 'Sex' column:\n",
      "Sex\n",
      "male      577\n",
      "female    314\n",
      "Name: count, dtype: int64\n"
     ]
    }
   ],
   "source": [
    "print(\"\\nValue counts for the 'Sex' column:\")\n",
    "print(data['Sex'].value_counts())"
   ]
  },
  {
   "cell_type": "code",
   "execution_count": 11,
   "metadata": {},
   "outputs": [
    {
     "name": "stdout",
     "output_type": "stream",
     "text": [
      "\n",
      "Number of duplicate rows:\n",
      "0\n"
     ]
    }
   ],
   "source": [
    "print(\"\\nNumber of duplicate rows:\")\n",
    "print(data.duplicated().sum())"
   ]
  },
  {
   "cell_type": "markdown",
   "metadata": {},
   "source": [
    "# Split the data into Training, Validation, and Test sets"
   ]
  },
  {
   "cell_type": "code",
   "execution_count": 11,
   "metadata": {},
   "outputs": [],
   "source": [
    "from sklearn.model_selection import train_test_split, StratifiedKFold, cross_val_score\n",
    "from sklearn.dummy import DummyClassifier"
   ]
  },
  {
   "cell_type": "code",
   "execution_count": 13,
   "metadata": {},
   "outputs": [],
   "source": [
    "X = data.drop('Survived', axis=1)\n",
    "y = data['Survived']"
   ]
  },
  {
   "cell_type": "markdown",
   "metadata": {},
   "source": [
    "### Random Split"
   ]
  },
  {
   "cell_type": "code",
   "execution_count": 14,
   "metadata": {},
   "outputs": [
    {
     "name": "stdout",
     "output_type": "stream",
     "text": [
      "\n",
      "Value Counts for Target Variable (Random Split):\n",
      "Training set (Survived):\n",
      "Survived\n",
      "0    0.623596\n",
      "1    0.376404\n",
      "Name: proportion, dtype: float64\n",
      "\n",
      "Validation set (Survived):\n",
      "Survived\n",
      "0    0.634831\n",
      "1    0.365169\n",
      "Name: proportion, dtype: float64\n",
      "\n",
      "Test set (Survived):\n",
      "Survived\n",
      "0    0.575419\n",
      "1    0.424581\n",
      "Name: proportion, dtype: float64\n"
     ]
    }
   ],
   "source": [
    "X_train, X_temp, y_train, y_temp = train_test_split(X, y, test_size=0.4, random_state=42)\n",
    "X_val, X_test, y_val, y_test = train_test_split(X_temp, y_temp, test_size=0.5, random_state=42)\n",
    "\n",
    "print(\"\\nValue Counts for Target Variable (Random Split):\")\n",
    "print(\"Training set (Survived):\")\n",
    "print(y_train.value_counts(normalize=True)) \n",
    "print(\"\\nValidation set (Survived):\")\n",
    "print(y_val.value_counts(normalize=True))    \n",
    "print(\"\\nTest set (Survived):\")\n",
    "print(y_test.value_counts(normalize=True))   "
   ]
  },
  {
   "cell_type": "markdown",
   "metadata": {},
   "source": [
    "### Stratified Split"
   ]
  },
  {
   "cell_type": "code",
   "execution_count": 15,
   "metadata": {},
   "outputs": [
    {
     "name": "stdout",
     "output_type": "stream",
     "text": [
      "\n",
      "Value Counts for Target Variable (Stratified Split):\n",
      "Training set (Survived):\n",
      "Survived\n",
      "0    0.616105\n",
      "1    0.383895\n",
      "Name: proportion, dtype: float64\n",
      "\n",
      "Validation set (Survived):\n",
      "Survived\n",
      "0    0.617978\n",
      "1    0.382022\n",
      "Name: proportion, dtype: float64\n",
      "\n",
      "Test set (Survived):\n",
      "Survived\n",
      "0    0.614525\n",
      "1    0.385475\n",
      "Name: proportion, dtype: float64\n"
     ]
    }
   ],
   "source": [
    "X_train_strat, X_temp_strat, y_train_strat, y_temp_strat = train_test_split(X, y, test_size=0.4, random_state=42, stratify=y)\n",
    "X_val_strat, X_test_strat, y_val_strat, y_test_strat = train_test_split(X_temp_strat, y_temp_strat, test_size=0.5, random_state=42, stratify=y_temp_strat)\n",
    "\n",
    "print(\"\\nValue Counts for Target Variable (Stratified Split):\")\n",
    "print(\"Training set (Survived):\")\n",
    "print(y_train_strat.value_counts(normalize=True))\n",
    "print(\"\\nValidation set (Survived):\")\n",
    "print(y_val_strat.value_counts(normalize=True))  \n",
    "print(\"\\nTest set (Survived):\")\n",
    "print(y_test_strat.value_counts(normalize=True)) "
   ]
  },
  {
   "cell_type": "markdown",
   "metadata": {},
   "source": [
    "### Cross-validation (Data Leakage)"
   ]
  },
  {
   "cell_type": "markdown",
   "metadata": {},
   "source": [
    "##### Wrong"
   ]
  },
  {
   "cell_type": "code",
   "execution_count": 16,
   "metadata": {},
   "outputs": [
    {
     "name": "stdout",
     "output_type": "stream",
     "text": [
      "\n",
      "Cross-Validation Scores:\n",
      "[0.61452514 0.61797753 0.61797753 0.61797753 0.61235955]\n"
     ]
    }
   ],
   "source": [
    "X_clean = X.copy()\n",
    "y_clean = y.copy()\n",
    "\n",
    "dummy_clf = DummyClassifier(strategy='most_frequent')\n",
    "\n",
    "skf = StratifiedKFold(n_splits=5, shuffle=True, random_state=42)\n",
    "\n",
    "cross_val_scores = cross_val_score(dummy_clf, X_clean, y_clean, cv=skf)\n",
    "\n",
    "print(\"\\nCross-Validation Scores:\")\n",
    "print(cross_val_scores)"
   ]
  },
  {
   "cell_type": "markdown",
   "metadata": {},
   "source": [
    "##### Right"
   ]
  },
  {
   "cell_type": "code",
   "execution_count": 17,
   "metadata": {},
   "outputs": [
    {
     "name": "stdout",
     "output_type": "stream",
     "text": [
      "\n",
      "Cross-Validation Scores:\n",
      "[0.6145251396648045, 0.6179775280898876, 0.6179775280898876, 0.6179775280898876, 0.6123595505617978]\n"
     ]
    }
   ],
   "source": [
    "dummy_clf = DummyClassifier(strategy='most_frequent')\n",
    "\n",
    "skf = StratifiedKFold(n_splits=5, shuffle=True, random_state=42)\n",
    "\n",
    "class DataCleaner:\n",
    "    def fit(self, X, y=None):\n",
    "        pass\n",
    "    \n",
    "    def transform(self, X):\n",
    "        return X\n",
    "\n",
    "cross_val_scores = []\n",
    "\n",
    "for train_index, val_index in skf.split(X, y):\n",
    "    X_train, X_val = X.iloc[train_index], X.iloc[val_index]\n",
    "    y_train, y_val = y.iloc[train_index], y.iloc[val_index]\n",
    "\n",
    "    cleaner = DataCleaner()\n",
    "\n",
    "    cleaner.fit(X_train)\n",
    "\n",
    "    X_train_cleaned = cleaner.transform(X_train)\n",
    "    X_val_cleaned = cleaner.transform(X_val)\n",
    "\n",
    "    dummy_clf.fit(X_train_cleaned, y_train)\n",
    "\n",
    "    score = dummy_clf.score(X_val_cleaned, y_val)\n",
    "    cross_val_scores.append(score)\n",
    "\n",
    "print(\"\\nCross-Validation Scores:\")\n",
    "print(cross_val_scores)"
   ]
  },
  {
   "cell_type": "markdown",
   "metadata": {},
   "source": [
    "___"
   ]
  },
  {
   "cell_type": "code",
   "execution_count": 50,
   "metadata": {},
   "outputs": [],
   "source": [
    "X_train, X_temp, y_train, y_temp = train_test_split(X, y, test_size=0.4, random_state=42, stratify=y)\n",
    "\n",
    "X_val, X_test, y_val, y_test = train_test_split(X_temp, y_temp, test_size=0.5, random_state=42, stratify=y_temp)"
   ]
  },
  {
   "cell_type": "code",
   "execution_count": 51,
   "metadata": {},
   "outputs": [
    {
     "name": "stdout",
     "output_type": "stream",
     "text": [
      "Training set (X_train, y_train) shape: (534, 11), (534,)\n",
      "Validation set (X_val, y_val) shape: (178, 11), (178,)\n",
      "Test set (X_test, y_test) shape: (179, 11), (179,)\n"
     ]
    }
   ],
   "source": [
    "print(f\"Training set (X_train, y_train) shape: {X_train.shape}, {y_train.shape}\")\n",
    "print(f\"Validation set (X_val, y_val) shape: {X_val.shape}, {y_val.shape}\")\n",
    "print(f\"Test set (X_test, y_test) shape: {X_test.shape}, {y_test.shape}\")"
   ]
  },
  {
   "cell_type": "code",
   "execution_count": 52,
   "metadata": {},
   "outputs": [],
   "source": [
    "X_train_copy = X_train.copy()\n",
    "y_train_copy = y_train.copy()"
   ]
  },
  {
   "cell_type": "markdown",
   "metadata": {},
   "source": [
    "___"
   ]
  },
  {
   "cell_type": "markdown",
   "metadata": {},
   "source": [
    "# Exploratory Data Analysis (EDA)"
   ]
  },
  {
   "cell_type": "markdown",
   "metadata": {},
   "source": [
    "### Analyze the target variable"
   ]
  },
  {
   "cell_type": "code",
   "execution_count": 18,
   "metadata": {},
   "outputs": [
    {
     "name": "stdout",
     "output_type": "stream",
     "text": [
      "Target variable distribution (Survived):\n",
      "Survived\n",
      "0    0.616105\n",
      "1    0.383895\n",
      "Name: proportion, dtype: float64\n"
     ]
    },
    {
     "data": {
      "image/png": "[encoded data removed]",
      "text/plain": [
       "<Figure size 640x480 with 1 Axes>"
      ]
     },
     "metadata": {},
     "output_type": "display_data"
    }
   ],
   "source": [
    "print(\"Target variable distribution (Survived):\")\n",
    "print(y_train.value_counts(normalize=True))\n",
    "sns.countplot(x=y_train, hue=y_train)\n",
    "plt.title('Count of Survivors')\n",
    "plt.show()"
   ]
  },
  {
   "cell_type": "markdown",
   "metadata": {},
   "source": [
    "### Assess Missing Values"
   ]
  },
  {
   "cell_type": "code",
   "execution_count": 19,
   "metadata": {},
   "outputs": [
    {
     "name": "stdout",
     "output_type": "stream",
     "text": [
      "\n",
      "Missing Values in Each Column:\n",
      "PassengerId      0\n",
      "Pclass           0\n",
      "Name             0\n",
      "Sex              0\n",
      "Age            107\n",
      "SibSp            0\n",
      "Parch            0\n",
      "Ticket           0\n",
      "Fare             0\n",
      "Cabin          419\n",
      "Embarked         2\n",
      "dtype: int64\n"
     ]
    }
   ],
   "source": [
    "print(\"\\nMissing Values in Each Column:\")\n",
    "print(X_train.isnull().sum())"
   ]
  },
  {
   "cell_type": "code",
   "execution_count": 20,
   "metadata": {},
   "outputs": [
    {
     "data": {
      "image/png": "[encoded data removed]",
      "text/plain": [
       "<Figure size 640x480 with 1 Axes>"
      ]
     },
     "metadata": {},
     "output_type": "display_data"
    }
   ],
   "source": [
    "sns.heatmap(X_train.isnull(), cbar=False, cmap='binary')\n",
    "plt.title('Missing Values Heatmap')\n",
    "plt.show()"
   ]
  },
  {
   "cell_type": "markdown",
   "metadata": {},
   "source": [
    "### Explore relationships between features and the target variable"
   ]
  },
  {
   "cell_type": "code",
   "execution_count": 21,
   "metadata": {},
   "outputs": [
    {
     "data": {
      "image/png": "[encoded data removed]",
      "text/plain": [
       "<Figure size 800x500 with 1 Axes>"
      ]
     },
     "metadata": {},
     "output_type": "display_data"
    }
   ],
   "source": [
    "plt.figure(figsize=(8, 5))\n",
    "sns.barplot(x='Sex', y=y_train, data=X_train, hue='Sex')\n",
    "plt.title('Survival Rate by Gender')\n",
    "plt.ylabel('Survival Rate')\n",
    "plt.show()"
   ]
  },
  {
   "cell_type": "code",
   "execution_count": 22,
   "metadata": {},
   "outputs": [
    {
     "data": {
      "image/png": "[encoded data removed]",
      "text/plain": [
       "<Figure size 800x500 with 1 Axes>"
      ]
     },
     "metadata": {},
     "output_type": "display_data"
    }
   ],
   "source": [
    "plt.figure(figsize=(8, 5))\n",
    "sns.barplot(x='Pclass', y=y_train, data=X_train, hue='Pclass')\n",
    "plt.title('Survival Rate by Passenger Class')\n",
    "plt.ylabel('Survival Rate')\n",
    "plt.show()"
   ]
  },
  {
   "cell_type": "code",
   "execution_count": 23,
   "metadata": {},
   "outputs": [
    {
     "name": "stderr",
     "output_type": "stream",
     "text": [
      "/home/shamaseen/anaconda3/envs/phone/lib/python3.10/site-packages/seaborn/_oldcore.py:1119: FutureWarning: use_inf_as_na option is deprecated and will be removed in a future version. Convert inf values to NaN before operating instead.\n",
      "  with pd.option_context('mode.use_inf_as_na', True):\n",
      "/home/shamaseen/anaconda3/envs/phone/lib/python3.10/site-packages/seaborn/_oldcore.py:1075: FutureWarning: When grouping with a length-1 list-like, you will need to pass a length-1 tuple to get_group in a future version of pandas. Pass `(name,)` instead of `name` to silence this warning.\n",
      "  data_subset = grouped_data.get_group(pd_key)\n",
      "/home/shamaseen/anaconda3/envs/phone/lib/python3.10/site-packages/seaborn/_oldcore.py:1075: FutureWarning: When grouping with a length-1 list-like, you will need to pass a length-1 tuple to get_group in a future version of pandas. Pass `(name,)` instead of `name` to silence this warning.\n",
      "  data_subset = grouped_data.get_group(pd_key)\n",
      "/home/shamaseen/anaconda3/envs/phone/lib/python3.10/site-packages/seaborn/_oldcore.py:1075: FutureWarning: When grouping with a length-1 list-like, you will need to pass a length-1 tuple to get_group in a future version of pandas. Pass `(name,)` instead of `name` to silence this warning.\n",
      "  data_subset = grouped_data.get_group(pd_key)\n",
      "/home/shamaseen/anaconda3/envs/phone/lib/python3.10/site-packages/seaborn/_oldcore.py:1075: FutureWarning: When grouping with a length-1 list-like, you will need to pass a length-1 tuple to get_group in a future version of pandas. Pass `(name,)` instead of `name` to silence this warning.\n",
      "  data_subset = grouped_data.get_group(pd_key)\n"
     ]
    },
    {
     "data": {
      "image/png": "[encoded data removed]",
      "text/plain": [
       "<Figure size 1000x600 with 1 Axes>"
      ]
     },
     "metadata": {},
     "output_type": "display_data"
    }
   ],
   "source": [
    "plt.figure(figsize=(10, 6))\n",
    "sns.histplot(data=X_train, x='Age', hue=y_train, bins=30, kde=True, \n",
    "             palette='pastel', stat='density', common_norm=False)\n",
    "\n",
    "plt.title('Age Distribution by Survival Status')\n",
    "plt.xlabel('Age')\n",
    "plt.ylabel('Density')\n",
    "plt.legend(title='Survived', labels=['Not Survived (0)', 'Survived (1)'])\n",
    "plt.show()"
   ]
  },
  {
   "cell_type": "code",
   "execution_count": 26,
   "metadata": {},
   "outputs": [
    {
     "data": {
      "text/plain": [
       "<Axes: xlabel='Sex', ylabel='Age'>"
      ]
     },
     "execution_count": 26,
     "metadata": {},
     "output_type": "execute_result"
    },
    {
     "data": {
      "image/png": "[encoded data removed]",
      "text/plain": [
       "<Figure size 640x480 with 1 Axes>"
      ]
     },
     "metadata": {},
     "output_type": "display_data"
    }
   ],
   "source": [
    "# Violinplot Displays distribution of data  \n",
    "# across all levels of a category. \n",
    "sns.violinplot(x =\"Sex\", y =\"Age\", hue =\"Survived\",  \n",
    "data = pd.concat([X_train, y_train], axis=1), split = True) "
   ]
  },
  {
   "cell_type": "markdown",
   "metadata": {},
   "source": [
    "Exercises:\n",
    "\n",
    "\n",
    "Given the Titanic dataset, perform the following tasks:\n",
    "\n",
    "1.Categorize Fare into Quantiles:\n",
    "\n",
    "- Use the qcut function from the Pandas library to divide the 'Fare' column into four equal-sized bins.\n",
    "- Assign appropriate labels to these bins.\n",
    "\n",
    "2.Visualize Survival Rates by Fare Range:\n",
    "\n",
    "- Utilize Seaborn's barplot function to display the survival rates across the different fare ranges.\n",
    "- Ensure that the x-axis represents the fare ranges, and the y-axis represents the survival rate.\n",
    "\n",
    "Note: use  **barplot** "
   ]
  },
  {
   "cell_type": "markdown",
   "metadata": {},
   "source": [
    "<details>\n",
    "\n",
    "<summary><strong>Solution</strong> (show)</summary>\n",
    "\n",
    "```python\n",
    "# Divide Fare into 4 bins \n",
    "X_train['Fare_Range'] = pd.qcut(X_train['Fare'], 4) \n",
    "  \n",
    "# Barplot - Shows approximate values based  \n",
    "# on the height of bars. \n",
    "sns.barplot(x ='Fare_Range', y ='Survived',  \n",
    "data = pd.concat([X_train, y_train], axis=1)) \n",
    "</details>\n",
    "\n",
    "```"
   ]
  },
  {
   "cell_type": "code",
   "execution_count": 28,
   "metadata": {},
   "outputs": [
    {
     "name": "stderr",
     "output_type": "stream",
     "text": [
      "/home/shamaseen/anaconda3/envs/phone/lib/python3.10/site-packages/seaborn/categorical.py:641: FutureWarning: The default of observed=False is deprecated and will be changed to True in a future version of pandas. Pass observed=False to retain current behavior or observed=True to adopt the future default and silence this warning.\n",
      "  grouped_vals = vals.groupby(grouper)\n"
     ]
    },
    {
     "data": {
      "text/plain": [
       "<Axes: xlabel='Fare_Range', ylabel='Survived'>"
      ]
     },
     "execution_count": 28,
     "metadata": {},
     "output_type": "execute_result"
    },
    {
     "data": {
      "image/png": "[encoded data removed]",
      "text/plain": [
       "<Figure size 640x480 with 1 Axes>"
      ]
     },
     "metadata": {},
     "output_type": "display_data"
    }
   ],
   "source": []
  },
  {
   "cell_type": "markdown",
   "metadata": {},
   "source": [
    "### Explore relationships between features and other features"
   ]
  },
  {
   "cell_type": "markdown",
   "metadata": {},
   "source": [
    "corr"
   ]
  },
  {
   "cell_type": "code",
   "execution_count": 27,
   "metadata": {},
   "outputs": [
    {
     "name": "stdout",
     "output_type": "stream",
     "text": [
      "Correlation Matrix:\n",
      "             PassengerId    Pclass       Age     SibSp     Parch      Fare\n",
      "PassengerId     1.000000 -0.033446  0.033496 -0.108968  0.009181  0.013203\n",
      "Pclass         -0.033446  1.000000 -0.350902  0.079670  0.038286 -0.553851\n",
      "Age             0.033496 -0.350902  1.000000 -0.281263 -0.172426  0.093516\n",
      "SibSp          -0.108968  0.079670 -0.281263  1.000000  0.354140  0.102292\n",
      "Parch           0.009181  0.038286 -0.172426  0.354140  1.000000  0.115481\n",
      "Fare            0.013203 -0.553851  0.093516  0.102292  0.115481  1.000000\n"
     ]
    },
    {
     "data": {
      "image/png": "[encoded data removed]",
      "text/plain": [
       "<Figure size 1000x800 with 2 Axes>"
      ]
     },
     "metadata": {},
     "output_type": "display_data"
    }
   ],
   "source": [
    "numerical_features = X_train.select_dtypes(include=['int64', 'float64'])\n",
    "\n",
    "corr_matrix = numerical_features.corr()\n",
    "\n",
    "print(\"Correlation Matrix:\")\n",
    "print(corr_matrix)\n",
    "\n",
    "plt.figure(figsize=(10, 8))\n",
    "sns.heatmap(corr_matrix, annot=True, fmt=\".2f\", cmap=\"coolwarm\", cbar=True)\n",
    "plt.title(\"Correlation Heatmap of Numerical Features\")\n",
    "plt.show()"
   ]
  },
  {
   "cell_type": "markdown",
   "metadata": {},
   "source": [
    "### Split variables into numerical and categorical"
   ]
  },
  {
   "cell_type": "code",
   "execution_count": 28,
   "metadata": {},
   "outputs": [
    {
     "name": "stdout",
     "output_type": "stream",
     "text": [
      "\n",
      "Numerical Features: ['PassengerId', 'Pclass', 'Age', 'SibSp', 'Parch', 'Fare']\n",
      "Categorical Features: ['Name', 'Sex', 'Ticket', 'Cabin', 'Embarked']\n"
     ]
    }
   ],
   "source": [
    "numerical_features = X_train.select_dtypes(include=['int64', 'float64']).columns.tolist()\n",
    "categorical_features = X_train.select_dtypes(include=['object']).columns.tolist()\n",
    "\n",
    "print(\"\\nNumerical Features:\", numerical_features)\n",
    "print(\"Categorical Features:\", categorical_features)"
   ]
  },
  {
   "cell_type": "markdown",
   "metadata": {},
   "source": [
    "### Numerical Features"
   ]
  },
  {
   "cell_type": "markdown",
   "metadata": {},
   "source": [
    "Discrete Features"
   ]
  },
  {
   "cell_type": "code",
   "execution_count": 29,
   "metadata": {},
   "outputs": [
    {
     "name": "stdout",
     "output_type": "stream",
     "text": [
      "3\n"
     ]
    },
    {
     "data": {
      "text/html": [
       "<div>\n",
       "<style scoped>\n",
       "    .dataframe tbody tr th:only-of-type {\n",
       "        vertical-align: middle;\n",
       "    }\n",
       "\n",
       "    .dataframe tbody tr th {\n",
       "        vertical-align: top;\n",
       "    }\n",
       "\n",
       "    .dataframe thead th {\n",
       "        text-align: right;\n",
       "    }\n",
       "</style>\n",
       "<table border=\"1\" class=\"dataframe\">\n",
       "  <thead>\n",
       "    <tr style=\"text-align: right;\">\n",
       "      <th></th>\n",
       "      <th>Pclass</th>\n",
       "      <th>SibSp</th>\n",
       "      <th>Parch</th>\n",
       "    </tr>\n",
       "  </thead>\n",
       "  <tbody>\n",
       "    <tr>\n",
       "      <th>844</th>\n",
       "      <td>3</td>\n",
       "      <td>0</td>\n",
       "      <td>0</td>\n",
       "    </tr>\n",
       "    <tr>\n",
       "      <th>316</th>\n",
       "      <td>2</td>\n",
       "      <td>1</td>\n",
       "      <td>0</td>\n",
       "    </tr>\n",
       "    <tr>\n",
       "      <th>768</th>\n",
       "      <td>3</td>\n",
       "      <td>1</td>\n",
       "      <td>0</td>\n",
       "    </tr>\n",
       "    <tr>\n",
       "      <th>255</th>\n",
       "      <td>3</td>\n",
       "      <td>0</td>\n",
       "      <td>2</td>\n",
       "    </tr>\n",
       "    <tr>\n",
       "      <th>130</th>\n",
       "      <td>3</td>\n",
       "      <td>0</td>\n",
       "      <td>0</td>\n",
       "    </tr>\n",
       "  </tbody>\n",
       "</table>\n",
       "</div>"
      ],
      "text/plain": [
       "     Pclass  SibSp  Parch\n",
       "844       3      0      0\n",
       "316       2      1      0\n",
       "768       3      1      0\n",
       "255       3      0      2\n",
       "130       3      0      0"
      ]
     },
     "execution_count": 29,
     "metadata": {},
     "output_type": "execute_result"
    }
   ],
   "source": [
    "discrete_var = [var for var in numerical_features if X_train[var].nunique() < 20]\n",
    "print(len(discrete_var))\n",
    "X_train[discrete_var].head()"
   ]
  },
  {
   "cell_type": "code",
   "execution_count": 30,
   "metadata": {},
   "outputs": [
    {
     "data": {
      "image/png": "[encoded data removed]",
      "text/plain": [
       "<Figure size 640x480 with 1 Axes>"
      ]
     },
     "metadata": {},
     "output_type": "display_data"
    },
    {
     "data": {
      "image/png": "[encoded data removed]",
      "text/plain": [
       "<Figure size 640x480 with 1 Axes>"
      ]
     },
     "metadata": {},
     "output_type": "display_data"
    },
    {
     "data": {
      "image/png": "[encoded data removed]",
      "text/plain": [
       "<Figure size 640x480 with 1 Axes>"
      ]
     },
     "metadata": {},
     "output_type": "display_data"
    }
   ],
   "source": [
    "for var in discrete_var:\n",
    "    ct = pd.crosstab(X_train[var], y_train)\n",
    "\n",
    "    ct.plot(kind='bar')\n",
    "    plt.xlabel(var)\n",
    "    plt.ylabel('Count')\n",
    "    plt.title(f'Counts of {var} Variable Grouped by Target')\n",
    "    plt.show()"
   ]
  },
  {
   "cell_type": "markdown",
   "metadata": {},
   "source": [
    "Exercises:\n",
    "\n",
    "\n",
    "Using the Titanic dataset, create a count plot that shows the number of passengers who embarked from each port ('Embarked'), differentiated by their survival status ('Survived'), and further separated by passenger class ('Pclass').\n",
    "\n",
    "Note: use  **catplot** "
   ]
  },
  {
   "cell_type": "markdown",
   "metadata": {},
   "source": [
    "<details>\n",
    "\n",
    "<summary><strong>Solution</strong> (show)</summary>\n",
    "\n",
    "```python\n",
    "# Countplot \n",
    "sns.catplot(x ='Embarked', hue ='Survived',  \n",
    "kind ='count', col ='Pclass', data = pd.concat([X_train, y_train], axis=1)) \n",
    "</details>\n",
    "\n",
    "```"
   ]
  },
  {
   "cell_type": "code",
   "execution_count": 31,
   "metadata": {},
   "outputs": [
    {
     "data": {
      "text/plain": [
       "<seaborn.axisgrid.FacetGrid at 0x7e15cfae3850>"
      ]
     },
     "execution_count": 31,
     "metadata": {},
     "output_type": "execute_result"
    },
    {
     "data": {
      "image/png": "[encoded data removed]",
      "text/plain": [
       "<Figure size 1572.11x500 with 3 Axes>"
      ]
     },
     "metadata": {},
     "output_type": "display_data"
    }
   ],
   "source": []
  },
  {
   "cell_type": "markdown",
   "metadata": {},
   "source": [
    "Continuous Feature"
   ]
  },
  {
   "cell_type": "code",
   "execution_count": 31,
   "metadata": {},
   "outputs": [
    {
     "name": "stdout",
     "output_type": "stream",
     "text": [
      "2\n"
     ]
    },
    {
     "data": {
      "text/html": [
       "<div>\n",
       "<style scoped>\n",
       "    .dataframe tbody tr th:only-of-type {\n",
       "        vertical-align: middle;\n",
       "    }\n",
       "\n",
       "    .dataframe tbody tr th {\n",
       "        vertical-align: top;\n",
       "    }\n",
       "\n",
       "    .dataframe thead th {\n",
       "        text-align: right;\n",
       "    }\n",
       "</style>\n",
       "<table border=\"1\" class=\"dataframe\">\n",
       "  <thead>\n",
       "    <tr style=\"text-align: right;\">\n",
       "      <th></th>\n",
       "      <th>Age</th>\n",
       "      <th>Fare</th>\n",
       "    </tr>\n",
       "  </thead>\n",
       "  <tbody>\n",
       "    <tr>\n",
       "      <th>844</th>\n",
       "      <td>17.0</td>\n",
       "      <td>8.6625</td>\n",
       "    </tr>\n",
       "    <tr>\n",
       "      <th>316</th>\n",
       "      <td>24.0</td>\n",
       "      <td>26.0000</td>\n",
       "    </tr>\n",
       "    <tr>\n",
       "      <th>768</th>\n",
       "      <td>NaN</td>\n",
       "      <td>24.1500</td>\n",
       "    </tr>\n",
       "    <tr>\n",
       "      <th>255</th>\n",
       "      <td>29.0</td>\n",
       "      <td>15.2458</td>\n",
       "    </tr>\n",
       "    <tr>\n",
       "      <th>130</th>\n",
       "      <td>33.0</td>\n",
       "      <td>7.8958</td>\n",
       "    </tr>\n",
       "  </tbody>\n",
       "</table>\n",
       "</div>"
      ],
      "text/plain": [
       "      Age     Fare\n",
       "844  17.0   8.6625\n",
       "316  24.0  26.0000\n",
       "768   NaN  24.1500\n",
       "255  29.0  15.2458\n",
       "130  33.0   7.8958"
      ]
     },
     "execution_count": 31,
     "metadata": {},
     "output_type": "execute_result"
    }
   ],
   "source": [
    "continuous_var = [var for var in numerical_features if var not in discrete_var + ['PassengerId']]\n",
    "print(len(continuous_var))\n",
    "X_train[continuous_var].head()"
   ]
  },
  {
   "cell_type": "code",
   "execution_count": 32,
   "metadata": {},
   "outputs": [
    {
     "data": {
      "text/plain": [
       "<seaborn.axisgrid.PairGrid at 0x1524cfd30>"
      ]
     },
     "execution_count": 32,
     "metadata": {},
     "output_type": "execute_result"
    },
    {
     "data": {
      "image/png": "[encoded data removed]",
      "text/plain": [
       "<Figure size 1072.11x1000 with 6 Axes>"
      ]
     },
     "metadata": {},
     "output_type": "display_data"
    }
   ],
   "source": [
    "data_with_target = pd.concat([X_train[continuous_var], y_train], axis=1)\n",
    "\n",
    "sns.pairplot(data_with_target, hue='Survived', height=5)"
   ]
  },
  {
   "cell_type": "code",
   "execution_count": 33,
   "metadata": {},
   "outputs": [
    {
     "data": {
      "image/png": "[encoded data removed]",
      "text/plain": [
       "<Figure size 1000x500 with 2 Axes>"
      ]
     },
     "metadata": {},
     "output_type": "display_data"
    }
   ],
   "source": [
    "X_train[continuous_var].hist(bins=30, figsize=(10, 5));"
   ]
  },
  {
   "cell_type": "markdown",
   "metadata": {},
   "source": [
    "### Categorical Feature"
   ]
  },
  {
   "cell_type": "code",
   "execution_count": 34,
   "metadata": {},
   "outputs": [
    {
     "name": "stdout",
     "output_type": "stream",
     "text": [
      "5\n"
     ]
    },
    {
     "data": {
      "text/html": [
       "<div>\n",
       "<style scoped>\n",
       "    .dataframe tbody tr th:only-of-type {\n",
       "        vertical-align: middle;\n",
       "    }\n",
       "\n",
       "    .dataframe tbody tr th {\n",
       "        vertical-align: top;\n",
       "    }\n",
       "\n",
       "    .dataframe thead th {\n",
       "        text-align: right;\n",
       "    }\n",
       "</style>\n",
       "<table border=\"1\" class=\"dataframe\">\n",
       "  <thead>\n",
       "    <tr style=\"text-align: right;\">\n",
       "      <th></th>\n",
       "      <th>Name</th>\n",
       "      <th>Sex</th>\n",
       "      <th>Ticket</th>\n",
       "      <th>Cabin</th>\n",
       "      <th>Embarked</th>\n",
       "    </tr>\n",
       "  </thead>\n",
       "  <tbody>\n",
       "    <tr>\n",
       "      <th>844</th>\n",
       "      <td>Culumovic, Mr. Jeso</td>\n",
       "      <td>male</td>\n",
       "      <td>315090</td>\n",
       "      <td>NaN</td>\n",
       "      <td>S</td>\n",
       "    </tr>\n",
       "    <tr>\n",
       "      <th>316</th>\n",
       "      <td>Kantor, Mrs. Sinai (Miriam Sternin)</td>\n",
       "      <td>female</td>\n",
       "      <td>244367</td>\n",
       "      <td>NaN</td>\n",
       "      <td>S</td>\n",
       "    </tr>\n",
       "    <tr>\n",
       "      <th>768</th>\n",
       "      <td>Moran, Mr. Daniel J</td>\n",
       "      <td>male</td>\n",
       "      <td>371110</td>\n",
       "      <td>NaN</td>\n",
       "      <td>Q</td>\n",
       "    </tr>\n",
       "    <tr>\n",
       "      <th>255</th>\n",
       "      <td>Touma, Mrs. Darwis (Hanne Youssef Razi)</td>\n",
       "      <td>female</td>\n",
       "      <td>2650</td>\n",
       "      <td>NaN</td>\n",
       "      <td>C</td>\n",
       "    </tr>\n",
       "    <tr>\n",
       "      <th>130</th>\n",
       "      <td>Drazenoic, Mr. Jozef</td>\n",
       "      <td>male</td>\n",
       "      <td>349241</td>\n",
       "      <td>NaN</td>\n",
       "      <td>C</td>\n",
       "    </tr>\n",
       "  </tbody>\n",
       "</table>\n",
       "</div>"
      ],
      "text/plain": [
       "                                        Name     Sex  Ticket Cabin Embarked\n",
       "844                      Culumovic, Mr. Jeso    male  315090   NaN        S\n",
       "316      Kantor, Mrs. Sinai (Miriam Sternin)  female  244367   NaN        S\n",
       "768                      Moran, Mr. Daniel J    male  371110   NaN        Q\n",
       "255  Touma, Mrs. Darwis (Hanne Youssef Razi)  female    2650   NaN        C\n",
       "130                     Drazenoic, Mr. Jozef    male  349241   NaN        C"
      ]
     },
     "execution_count": 34,
     "metadata": {},
     "output_type": "execute_result"
    }
   ],
   "source": [
    "print(len(categorical_features))\n",
    "X_train[categorical_features].head()"
   ]
  },
  {
   "cell_type": "markdown",
   "metadata": {},
   "source": [
    "Number of labels: Cardinality"
   ]
  },
  {
   "cell_type": "code",
   "execution_count": 35,
   "metadata": {},
   "outputs": [
    {
     "name": "stdout",
     "output_type": "stream",
     "text": [
      "Name        1.000000\n",
      "Ticket      0.846442\n",
      "Cabin       0.181648\n",
      "Embarked    0.005618\n",
      "Sex         0.003745\n",
      "dtype: float64\n"
     ]
    },
    {
     "data": {
      "image/png": "[encoded data removed]",
      "text/plain": [
       "<Figure size 640x480 with 1 Axes>"
      ]
     },
     "metadata": {},
     "output_type": "display_data"
    }
   ],
   "source": [
    "cardinalith = X_train[categorical_features].nunique().sort_values(ascending=False)\n",
    "print(cardinalith / X_train.shape[0])\n",
    "cardinalith.plot.bar();"
   ]
  },
  {
   "cell_type": "markdown",
   "metadata": {},
   "source": [
    "# Data Cleaning"
   ]
  },
  {
   "cell_type": "markdown",
   "metadata": {},
   "source": [
    "### Type Conversion"
   ]
  },
  {
   "cell_type": "code",
   "execution_count": 36,
   "metadata": {},
   "outputs": [
    {
     "name": "stdout",
     "output_type": "stream",
     "text": [
      "\n",
      "Data Types Before Conversion:\n",
      "PassengerId      int64\n",
      "Pclass           int64\n",
      "Name            object\n",
      "Sex             object\n",
      "Age            float64\n",
      "SibSp            int64\n",
      "Parch            int64\n",
      "Ticket          object\n",
      "Fare           float64\n",
      "Cabin           object\n",
      "Embarked        object\n",
      "dtype: object\n",
      "\n",
      "Data Types After Conversion:\n",
      "PassengerId      int64\n",
      "Pclass          object\n",
      "Name            object\n",
      "Sex             object\n",
      "Age            float64\n",
      "SibSp            int64\n",
      "Parch            int64\n",
      "Ticket          object\n",
      "Fare           float64\n",
      "Cabin           object\n",
      "Embarked        object\n",
      "dtype: object\n"
     ]
    }
   ],
   "source": [
    "print(\"\\nData Types Before Conversion:\")\n",
    "print(X_train.dtypes)\n",
    "\n",
    "type_mapping = {\n",
    "    'PassengerId': int,\n",
    "    'Pclass': object,\n",
    "    'Name': object,\n",
    "    'Sex': object,\n",
    "    'Age': float,\n",
    "    'SibSp': int,\n",
    "    'Parch': int,\n",
    "    'Ticket': object,\n",
    "    'Fare': float,\n",
    "    'Cabin': object,\n",
    "    'Embarked': object\n",
    "}\n",
    "\n",
    "for column, dtype in type_mapping.items():\n",
    "    X_train[column] = X_train[column].astype(dtype)\n",
    "\n",
    "print(\"\\nData Types After Conversion:\")\n",
    "print(X_train.dtypes)"
   ]
  },
  {
   "cell_type": "markdown",
   "metadata": {},
   "source": [
    "### Filter Bad Data"
   ]
  },
  {
   "cell_type": "code",
   "execution_count": 37,
   "metadata": {},
   "outputs": [],
   "source": [
    "X_train_filter = X_train.copy()"
   ]
  },
  {
   "cell_type": "code",
   "execution_count": 38,
   "metadata": {},
   "outputs": [
    {
     "name": "stdout",
     "output_type": "stream",
     "text": [
      "\n",
      "Original shape of the data:\n",
      "(534, 11)\n",
      "\n",
      "Shape of the data after filtering bad data:\n",
      "(499, 11)\n",
      "\n",
      "Number of rows filtered out:\n",
      "35\n"
     ]
    }
   ],
   "source": [
    "original_shape = X_train_filter.shape\n",
    "print(\"\\nOriginal shape of the data:\")\n",
    "print(original_shape)\n",
    "\n",
    "bad_age_condition = (X_train_filter['Age'] < 5) | (X_train_filter['Age'] > 70)\n",
    "bad_fare_condition = X_train_filter['Fare'] <= 0\n",
    "\n",
    "filtered_data = X_train_filter[~(bad_age_condition | bad_fare_condition)]\n",
    "\n",
    "filtered_shape = filtered_data.shape\n",
    "print(\"\\nShape of the data after filtering bad data:\")\n",
    "print(filtered_shape)\n",
    "\n",
    "filtered_rows = original_shape[0] - filtered_shape[0]\n",
    "print(\"\\nNumber of rows filtered out:\")\n",
    "print(filtered_rows)"
   ]
  },
  {
   "cell_type": "markdown",
   "metadata": {},
   "source": [
    "### Replace and Map Categories to Fix Them"
   ]
  },
  {
   "cell_type": "code",
   "execution_count": 39,
   "metadata": {},
   "outputs": [
    {
     "name": "stdout",
     "output_type": "stream",
     "text": [
      "\n",
      "Unique values in the 'Sex' column after mapping:\n",
      "['Male' 'Female']\n"
     ]
    }
   ],
   "source": [
    "X_train['Sex'] = X_train['Sex'].replace({'male': 'Male', 'female': 'Female', 'F': 'Female', 'M': 'Male'})\n",
    "\n",
    "print(\"\\nUnique values in the 'Sex' column after mapping:\")\n",
    "print(X_train['Sex'].unique())"
   ]
  },
  {
   "cell_type": "markdown",
   "metadata": {},
   "source": [
    "### Drop Unnecessary Features"
   ]
  },
  {
   "cell_type": "code",
   "execution_count": 40,
   "metadata": {},
   "outputs": [],
   "source": [
    "y_train = pd.DataFrame(y_train)\n",
    "y_train.index = X_train['PassengerId']"
   ]
  },
  {
   "cell_type": "code",
   "execution_count": 41,
   "metadata": {},
   "outputs": [
    {
     "name": "stdout",
     "output_type": "stream",
     "text": [
      "\n",
      "Shape of the data after dropping unnecessary features:\n",
      "(534, 8)\n"
     ]
    }
   ],
   "source": [
    "X_train.set_index('PassengerId', inplace=True)  # Set 'PassengerId' as index\n",
    "X_train.drop(columns=['Cabin', 'Ticket'], inplace=True)  # Drop unnecessary columns\n",
    "\n",
    "print(\"\\nShape of the data after dropping unnecessary features:\")\n",
    "print(X_train.shape)"
   ]
  },
  {
   "cell_type": "code",
   "execution_count": 42,
   "metadata": {},
   "outputs": [
    {
     "name": "stdout",
     "output_type": "stream",
     "text": [
      "X:\n"
     ]
    },
    {
     "data": {
      "text/html": [
       "<div>\n",
       "<style scoped>\n",
       "    .dataframe tbody tr th:only-of-type {\n",
       "        vertical-align: middle;\n",
       "    }\n",
       "\n",
       "    .dataframe tbody tr th {\n",
       "        vertical-align: top;\n",
       "    }\n",
       "\n",
       "    .dataframe thead th {\n",
       "        text-align: right;\n",
       "    }\n",
       "</style>\n",
       "<table border=\"1\" class=\"dataframe\">\n",
       "  <thead>\n",
       "    <tr style=\"text-align: right;\">\n",
       "      <th></th>\n",
       "      <th>Pclass</th>\n",
       "      <th>Name</th>\n",
       "      <th>Sex</th>\n",
       "      <th>Age</th>\n",
       "      <th>SibSp</th>\n",
       "      <th>Parch</th>\n",
       "      <th>Fare</th>\n",
       "      <th>Embarked</th>\n",
       "    </tr>\n",
       "    <tr>\n",
       "      <th>PassengerId</th>\n",
       "      <th></th>\n",
       "      <th></th>\n",
       "      <th></th>\n",
       "      <th></th>\n",
       "      <th></th>\n",
       "      <th></th>\n",
       "      <th></th>\n",
       "      <th></th>\n",
       "    </tr>\n",
       "  </thead>\n",
       "  <tbody>\n",
       "    <tr>\n",
       "      <th>845</th>\n",
       "      <td>3</td>\n",
       "      <td>Culumovic, Mr. Jeso</td>\n",
       "      <td>Male</td>\n",
       "      <td>17.0</td>\n",
       "      <td>0</td>\n",
       "      <td>0</td>\n",
       "      <td>8.6625</td>\n",
       "      <td>S</td>\n",
       "    </tr>\n",
       "    <tr>\n",
       "      <th>317</th>\n",
       "      <td>2</td>\n",
       "      <td>Kantor, Mrs. Sinai (Miriam Sternin)</td>\n",
       "      <td>Female</td>\n",
       "      <td>24.0</td>\n",
       "      <td>1</td>\n",
       "      <td>0</td>\n",
       "      <td>26.0000</td>\n",
       "      <td>S</td>\n",
       "    </tr>\n",
       "    <tr>\n",
       "      <th>769</th>\n",
       "      <td>3</td>\n",
       "      <td>Moran, Mr. Daniel J</td>\n",
       "      <td>Male</td>\n",
       "      <td>NaN</td>\n",
       "      <td>1</td>\n",
       "      <td>0</td>\n",
       "      <td>24.1500</td>\n",
       "      <td>Q</td>\n",
       "    </tr>\n",
       "    <tr>\n",
       "      <th>256</th>\n",
       "      <td>3</td>\n",
       "      <td>Touma, Mrs. Darwis (Hanne Youssef Razi)</td>\n",
       "      <td>Female</td>\n",
       "      <td>29.0</td>\n",
       "      <td>0</td>\n",
       "      <td>2</td>\n",
       "      <td>15.2458</td>\n",
       "      <td>C</td>\n",
       "    </tr>\n",
       "    <tr>\n",
       "      <th>131</th>\n",
       "      <td>3</td>\n",
       "      <td>Drazenoic, Mr. Jozef</td>\n",
       "      <td>Male</td>\n",
       "      <td>33.0</td>\n",
       "      <td>0</td>\n",
       "      <td>0</td>\n",
       "      <td>7.8958</td>\n",
       "      <td>C</td>\n",
       "    </tr>\n",
       "  </tbody>\n",
       "</table>\n",
       "</div>"
      ],
      "text/plain": [
       "            Pclass                                     Name     Sex   Age  \\\n",
       "PassengerId                                                                 \n",
       "845              3                      Culumovic, Mr. Jeso    Male  17.0   \n",
       "317              2      Kantor, Mrs. Sinai (Miriam Sternin)  Female  24.0   \n",
       "769              3                      Moran, Mr. Daniel J    Male   NaN   \n",
       "256              3  Touma, Mrs. Darwis (Hanne Youssef Razi)  Female  29.0   \n",
       "131              3                     Drazenoic, Mr. Jozef    Male  33.0   \n",
       "\n",
       "             SibSp  Parch     Fare Embarked  \n",
       "PassengerId                                  \n",
       "845              0      0   8.6625        S  \n",
       "317              1      0  26.0000        S  \n",
       "769              1      0  24.1500        Q  \n",
       "256              0      2  15.2458        C  \n",
       "131              0      0   7.8958        C  "
      ]
     },
     "execution_count": 42,
     "metadata": {},
     "output_type": "execute_result"
    }
   ],
   "source": [
    "print(\"X:\")\n",
    "X_train.head()"
   ]
  },
  {
   "cell_type": "code",
   "execution_count": 43,
   "metadata": {},
   "outputs": [
    {
     "name": "stdout",
     "output_type": "stream",
     "text": [
      "y:\n"
     ]
    },
    {
     "data": {
      "text/html": [
       "<div>\n",
       "<style scoped>\n",
       "    .dataframe tbody tr th:only-of-type {\n",
       "        vertical-align: middle;\n",
       "    }\n",
       "\n",
       "    .dataframe tbody tr th {\n",
       "        vertical-align: top;\n",
       "    }\n",
       "\n",
       "    .dataframe thead th {\n",
       "        text-align: right;\n",
       "    }\n",
       "</style>\n",
       "<table border=\"1\" class=\"dataframe\">\n",
       "  <thead>\n",
       "    <tr style=\"text-align: right;\">\n",
       "      <th></th>\n",
       "      <th>Survived</th>\n",
       "    </tr>\n",
       "    <tr>\n",
       "      <th>PassengerId</th>\n",
       "      <th></th>\n",
       "    </tr>\n",
       "  </thead>\n",
       "  <tbody>\n",
       "    <tr>\n",
       "      <th>845</th>\n",
       "      <td>0</td>\n",
       "    </tr>\n",
       "    <tr>\n",
       "      <th>317</th>\n",
       "      <td>1</td>\n",
       "    </tr>\n",
       "    <tr>\n",
       "      <th>769</th>\n",
       "      <td>0</td>\n",
       "    </tr>\n",
       "    <tr>\n",
       "      <th>256</th>\n",
       "      <td>1</td>\n",
       "    </tr>\n",
       "    <tr>\n",
       "      <th>131</th>\n",
       "      <td>0</td>\n",
       "    </tr>\n",
       "  </tbody>\n",
       "</table>\n",
       "</div>"
      ],
      "text/plain": [
       "             Survived\n",
       "PassengerId          \n",
       "845                 0\n",
       "317                 1\n",
       "769                 0\n",
       "256                 1\n",
       "131                 0"
      ]
     },
     "execution_count": 43,
     "metadata": {},
     "output_type": "execute_result"
    }
   ],
   "source": [
    "print(\"y:\")\n",
    "y_train.head()"
   ]
  },
  {
   "cell_type": "markdown",
   "metadata": {},
   "source": [
    "___"
   ]
  },
  {
   "cell_type": "markdown",
   "metadata": {},
   "source": [
    "# Feature Engineering and Transformation"
   ]
  },
  {
   "cell_type": "markdown",
   "metadata": {},
   "source": [
    "### Transformations Applied to the Target Variable (y)"
   ]
  },
  {
   "cell_type": "code",
   "execution_count": 57,
   "metadata": {},
   "outputs": [
    {
     "data": {
      "image/png": "[encoded data removed]",
      "text/plain": [
       "<Figure size 1400x600 with 3 Axes>"
      ]
     },
     "metadata": {},
     "output_type": "display_data"
    }
   ],
   "source": [
    "from sklearn.preprocessing import PowerTransformer\n",
    "y_fake = X_train['Fare']\n",
    "\n",
    "plt.figure(figsize=(14, 6))\n",
    "\n",
    "plt.subplot(1, 3, 1)\n",
    "plt.hist(y_fake, bins=30, color='blue', alpha=0.7)\n",
    "plt.title('Original Fare Distribution')\n",
    "plt.xlabel('Fare')\n",
    "plt.ylabel('Frequency')\n",
    "\n",
    "y_log = np.log1p(y_fake)\n",
    "\n",
    "plt.subplot(1, 3, 2)\n",
    "plt.hist(y_log, bins=30, color='green', alpha=0.7)\n",
    "plt.title('Log Transformed Fare Distribution')\n",
    "plt.xlabel('Log(Fare + 1)')\n",
    "plt.ylabel('Frequency')\n",
    "\n",
    "# Apply PowerTransformer Transformation\n",
    "pt = PowerTransformer()\n",
    "y_yeojohnson = pt.fit_transform(y_fake.values.reshape(-1, 1)).flatten()\n",
    "\n",
    "# Fifth subplot: Yeo-Johnson Transformed Fare Distribution\n",
    "plt.subplot(1, 3, 3)\n",
    "plt.hist(y_yeojohnson, bins=30, color='orange', alpha=0.7)\n",
    "plt.title('Yeo-Johnson Transformed Fare Distribution')\n",
    "plt.xlabel('Yeo-Johnson Transformed Fare')\n",
    "plt.ylabel('Frequency')\n",
    "\n",
    "plt.tight_layout()\n",
    "plt.show()"
   ]
  },
  {
   "cell_type": "markdown",
   "metadata": {},
   "source": [
    "Transformations vs Scale"
   ]
  },
  {
   "cell_type": "code",
   "execution_count": 59,
   "metadata": {},
   "outputs": [
    {
     "data": {
      "image/png": "[encoded data removed]",
      "text/plain": [
       "<Figure size 1400x600 with 2 Axes>"
      ]
     },
     "metadata": {},
     "output_type": "display_data"
    }
   ],
   "source": [
    "import pandas as pd\n",
    "import numpy as np\n",
    "import matplotlib.pyplot as plt\n",
    "from scipy.stats import boxcox\n",
    "from sklearn.preprocessing import PowerTransformer, Normalizer\n",
    "\n",
    "# Example: Load a sample dataset (you can replace this with your actual dataset)\n",
    "\n",
    "# Extract the 'Fare' column\n",
    "y_fake = X_train['Fare']\n",
    "\n",
    "# Create a figure with a specified size\n",
    "plt.figure(figsize=(14, 6))\n",
    "\n",
    "# First subplot: Original Fare Distribution\n",
    "plt.subplot(1, 2, 1)\n",
    "plt.hist(y_fake, bins=30, color='blue', alpha=0.7)\n",
    "plt.title('Original Fare Distribution')\n",
    "plt.xlabel('Fare')\n",
    "plt.ylabel('Frequency')\n",
    "\n",
    "# Apply Normalizer\n",
    "pt = Normalizer()\n",
    "y_yeojohnson = pt.fit_transform(y_fake.values.reshape(-1, 1)).flatten()\n",
    "\n",
    "# Fifth subplot:\n",
    "plt.subplot(1, 2, 2)\n",
    "plt.hist(y_yeojohnson, bins=30, color='orange', alpha=0.7)\n",
    "plt.title('Normalizer Distribution')\n",
    "plt.xlabel('Normalizer')\n",
    "plt.ylabel('Frequency')\n",
    "\n",
    "# Adjust the layout to prevent overlap\n",
    "plt.tight_layout()\n",
    "\n",
    "# Display the plots\n",
    "plt.show()"
   ]
  },
  {
   "cell_type": "markdown",
   "metadata": {},
   "source": [
    "Exercises:\n",
    "\n",
    "Try QuantileTransformer"
   ]
  },
  {
   "cell_type": "markdown",
   "metadata": {},
   "source": [
    "<details>\n",
    "\n",
    "<summary><strong>Solution</strong> (show)</summary>\n",
    "\n",
    "```python\n",
    "from scipy.stats import boxcox\n",
    "from sklearn.preprocessing import QuantileTransformer\n",
    "# Extract the 'Fare' column\n",
    "y_fake = X_train['Fare']\n",
    "\n",
    "# Create a figure with a specified size\n",
    "plt.figure(figsize=(24, 6))\n",
    "\n",
    "# First subplot: Original Fare Distribution\n",
    "plt.subplot(1, 2, 1)\n",
    "plt.hist(y_fake, bins=30, color='blue', alpha=0.7)\n",
    "plt.title('Original Fare Distribution')\n",
    "plt.xlabel('Fare')\n",
    "plt.ylabel('Frequency')\n",
    "\n",
    "# Apply Quantile Transformation\n",
    "qt = QuantileTransformer(n_quantiles=10, random_state=0, output_distribution='normal')\n",
    "y_quantile = qt.fit_transform(y_fake.values.reshape(-1, 1)).flatten()\n",
    "\n",
    "# Plot the transformed data\n",
    "plt.subplot(1, 2,2)\n",
    "plt.hist(y_quantile, bins=30, color='cyan', alpha=0.7)\n",
    "plt.title('Quantile Transformed Fare Distribution')\n",
    "plt.xlabel('Quantile Transformed Fare')\n",
    "plt.ylabel('Frequency')\n",
    "\n",
    "\n",
    "\n",
    "# Adjust the layout to prevent overlap\n",
    "plt.tight_layout()\n",
    "\n",
    "# Display the plots\n",
    "plt.show()\n",
    "</details>\n",
    "\n",
    "```"
   ]
  },
  {
   "cell_type": "code",
   "execution_count": 55,
   "metadata": {},
   "outputs": [
    {
     "data": {
      "image/png": "[encoded data removed]",
      "text/plain": [
       "<Figure size 2400x600 with 3 Axes>"
      ]
     },
     "metadata": {},
     "output_type": "display_data"
    }
   ],
   "source": []
  },
  {
   "cell_type": "markdown",
   "metadata": {},
   "source": [
    "### Imputing Missing Values"
   ]
  },
  {
   "cell_type": "code",
   "execution_count": 45,
   "metadata": {},
   "outputs": [
    {
     "name": "stdout",
     "output_type": "stream",
     "text": [
      "\n",
      "Missing Values in Each Column Before Imputation:\n",
      "Pclass        0\n",
      "Name          0\n",
      "Sex           0\n",
      "Age         107\n",
      "SibSp         0\n",
      "Parch         0\n",
      "Fare          0\n",
      "Embarked      2\n",
      "dtype: int64\n",
      "\n",
      "Missing Values in Each Column After Imputation:\n",
      "Pclass      0\n",
      "Name        0\n",
      "Sex         0\n",
      "Age         0\n",
      "SibSp       0\n",
      "Parch       0\n",
      "Fare        0\n",
      "Embarked    0\n",
      "dtype: int64\n"
     ]
    }
   ],
   "source": [
    "from sklearn.impute import SimpleImputer\n",
    "\n",
    "print(\"\\nMissing Values in Each Column Before Imputation:\")\n",
    "print(X_train.isnull().sum())\n",
    "\n",
    "age_imputer = SimpleImputer(strategy='median')\n",
    "embarked_imputer = SimpleImputer(strategy='most_frequent')\n",
    "\n",
    "X_train['Age'] = age_imputer.fit_transform(X_train[['Age']])\n",
    "\n",
    "X_train['Embarked'] = embarked_imputer.fit_transform(X_train[['Embarked']]).flatten()\n",
    "\n",
    "print(\"\\nMissing Values in Each Column After Imputation:\")\n",
    "print(X_train.isnull().sum())"
   ]
  },
  {
   "cell_type": "markdown",
   "metadata": {},
   "source": [
    "### Creating New Feature"
   ]
  },
  {
   "cell_type": "code",
   "execution_count": 46,
   "metadata": {},
   "outputs": [
    {
     "data": {
      "text/html": [
       "<div>\n",
       "<style scoped>\n",
       "    .dataframe tbody tr th:only-of-type {\n",
       "        vertical-align: middle;\n",
       "    }\n",
       "\n",
       "    .dataframe tbody tr th {\n",
       "        vertical-align: top;\n",
       "    }\n",
       "\n",
       "    .dataframe thead th {\n",
       "        text-align: right;\n",
       "    }\n",
       "</style>\n",
       "<table border=\"1\" class=\"dataframe\">\n",
       "  <thead>\n",
       "    <tr style=\"text-align: right;\">\n",
       "      <th></th>\n",
       "      <th>Pclass</th>\n",
       "      <th>Name</th>\n",
       "      <th>Sex</th>\n",
       "      <th>Age</th>\n",
       "      <th>SibSp</th>\n",
       "      <th>Parch</th>\n",
       "      <th>Fare</th>\n",
       "      <th>Embarked</th>\n",
       "      <th>FamilySize</th>\n",
       "      <th>Title</th>\n",
       "    </tr>\n",
       "    <tr>\n",
       "      <th>PassengerId</th>\n",
       "      <th></th>\n",
       "      <th></th>\n",
       "      <th></th>\n",
       "      <th></th>\n",
       "      <th></th>\n",
       "      <th></th>\n",
       "      <th></th>\n",
       "      <th></th>\n",
       "      <th></th>\n",
       "      <th></th>\n",
       "    </tr>\n",
       "  </thead>\n",
       "  <tbody>\n",
       "    <tr>\n",
       "      <th>845</th>\n",
       "      <td>3</td>\n",
       "      <td>Culumovic, Mr. Jeso</td>\n",
       "      <td>Male</td>\n",
       "      <td>17.0</td>\n",
       "      <td>0</td>\n",
       "      <td>0</td>\n",
       "      <td>8.6625</td>\n",
       "      <td>S</td>\n",
       "      <td>1</td>\n",
       "      <td>Mr</td>\n",
       "    </tr>\n",
       "    <tr>\n",
       "      <th>317</th>\n",
       "      <td>2</td>\n",
       "      <td>Kantor, Mrs. Sinai (Miriam Sternin)</td>\n",
       "      <td>Female</td>\n",
       "      <td>24.0</td>\n",
       "      <td>1</td>\n",
       "      <td>0</td>\n",
       "      <td>26.0000</td>\n",
       "      <td>S</td>\n",
       "      <td>2</td>\n",
       "      <td>Mrs</td>\n",
       "    </tr>\n",
       "    <tr>\n",
       "      <th>769</th>\n",
       "      <td>3</td>\n",
       "      <td>Moran, Mr. Daniel J</td>\n",
       "      <td>Male</td>\n",
       "      <td>29.0</td>\n",
       "      <td>1</td>\n",
       "      <td>0</td>\n",
       "      <td>24.1500</td>\n",
       "      <td>Q</td>\n",
       "      <td>2</td>\n",
       "      <td>Mr</td>\n",
       "    </tr>\n",
       "    <tr>\n",
       "      <th>256</th>\n",
       "      <td>3</td>\n",
       "      <td>Touma, Mrs. Darwis (Hanne Youssef Razi)</td>\n",
       "      <td>Female</td>\n",
       "      <td>29.0</td>\n",
       "      <td>0</td>\n",
       "      <td>2</td>\n",
       "      <td>15.2458</td>\n",
       "      <td>C</td>\n",
       "      <td>3</td>\n",
       "      <td>Mrs</td>\n",
       "    </tr>\n",
       "    <tr>\n",
       "      <th>131</th>\n",
       "      <td>3</td>\n",
       "      <td>Drazenoic, Mr. Jozef</td>\n",
       "      <td>Male</td>\n",
       "      <td>33.0</td>\n",
       "      <td>0</td>\n",
       "      <td>0</td>\n",
       "      <td>7.8958</td>\n",
       "      <td>C</td>\n",
       "      <td>1</td>\n",
       "      <td>Mr</td>\n",
       "    </tr>\n",
       "  </tbody>\n",
       "</table>\n",
       "</div>"
      ],
      "text/plain": [
       "            Pclass                                     Name     Sex   Age  \\\n",
       "PassengerId                                                                 \n",
       "845              3                      Culumovic, Mr. Jeso    Male  17.0   \n",
       "317              2      Kantor, Mrs. Sinai (Miriam Sternin)  Female  24.0   \n",
       "769              3                      Moran, Mr. Daniel J    Male  29.0   \n",
       "256              3  Touma, Mrs. Darwis (Hanne Youssef Razi)  Female  29.0   \n",
       "131              3                     Drazenoic, Mr. Jozef    Male  33.0   \n",
       "\n",
       "             SibSp  Parch     Fare Embarked  FamilySize Title  \n",
       "PassengerId                                                    \n",
       "845              0      0   8.6625        S           1    Mr  \n",
       "317              1      0  26.0000        S           2   Mrs  \n",
       "769              1      0  24.1500        Q           2    Mr  \n",
       "256              0      2  15.2458        C           3   Mrs  \n",
       "131              0      0   7.8958        C           1    Mr  "
      ]
     },
     "execution_count": 46,
     "metadata": {},
     "output_type": "execute_result"
    }
   ],
   "source": [
    "X_train['FamilySize'] = X_train['SibSp'] + X_train['Parch'] + 1\n",
    "\n",
    "X_train['Title'] = X_train['Name'].str.extract(' ([A-Za-z]+)\\.')\n",
    "\n",
    "title_mapping = {\n",
    "    'Mr': 'Mr',\n",
    "    'Mrs': 'Mrs',\n",
    "    'Miss': 'Miss',\n",
    "    'Master': 'Master',\n",
    "    'Dr': 'Rare',\n",
    "    'Rev': 'Rare',\n",
    "    'Col': 'Rare',\n",
    "    'Mlle': 'Miss',\n",
    "    'Ms': 'Mrs',\n",
    "    'Mme': 'Mrs',\n",
    "    'Don': 'Rare',\n",
    "    'Dona': 'Rare',\n",
    "    'Jonkheer': 'Rare',\n",
    "    'Lady': 'Rare',\n",
    "    'Sir': 'Rare'\n",
    "}\n",
    "X_train['Title'] = X_train['Title'].map(title_mapping)\n",
    "X_train['Title'] = X_train['Title'].fillna('Rare')\n",
    "\n",
    "X_train.head()"
   ]
  },
  {
   "cell_type": "markdown",
   "metadata": {},
   "source": [
    "Exercises:\n",
    "\n",
    "Create a new feature 'IsAlone' "
   ]
  },
  {
   "cell_type": "markdown",
   "metadata": {},
   "source": [
    "<details>\n",
    "\n",
    "<summary><strong>Solution</strong> (show)</summary>\n",
    "\n",
    "```python\n",
    "X_train['IsAlone'] = 1\n",
    "X_train['IsAlone'].loc[X_train['FamilySize'] > 1] = 0\n",
    "</details>\n",
    "\n",
    "```"
   ]
  },
  {
   "cell_type": "code",
   "execution_count": null,
   "metadata": {},
   "outputs": [],
   "source": []
  },
  {
   "cell_type": "markdown",
   "metadata": {},
   "source": [
    "Exercises:\n",
    "\n",
    "Create a 'AgeGroup' feature by binning the 'Age' column"
   ]
  },
  {
   "cell_type": "markdown",
   "metadata": {},
   "source": [
    "<details>\n",
    "\n",
    "<summary><strong>Solution</strong> (show)</summary>\n",
    "\n",
    "```python\n",
    "bins = [0, 12, 18, 35, 60, np.inf]\n",
    "labels = ['Child', 'Teenager', 'Young Adult', 'Adult', 'Senior']\n",
    "X_train['AgeGroup'] = pd.cut(X_train['Age'], bins=bins, labels=labels)\n",
    "</details>\n",
    "\n",
    "```"
   ]
  },
  {
   "cell_type": "code",
   "execution_count": null,
   "metadata": {},
   "outputs": [],
   "source": []
  },
  {
   "cell_type": "markdown",
   "metadata": {},
   "source": [
    "Exercises:\n",
    "\n",
    "Create a 'FareGroup' feature by binning the 'Fare' column"
   ]
  },
  {
   "cell_type": "markdown",
   "metadata": {},
   "source": [
    "<details>\n",
    "\n",
    "<summary><strong>Solution</strong> (show)</summary>\n",
    "\n",
    "```python\n",
    "data['FareGroup'] = pd.qcut(data['Fare'], q=4, labels=['Low', 'Medium', 'High', 'Very High'])\n",
    "</details>\n",
    "\n",
    "```"
   ]
  },
  {
   "cell_type": "code",
   "execution_count": null,
   "metadata": {},
   "outputs": [],
   "source": []
  },
  {
   "cell_type": "markdown",
   "metadata": {},
   "source": [
    "### Drop features"
   ]
  },
  {
   "cell_type": "code",
   "execution_count": 47,
   "metadata": {},
   "outputs": [
    {
     "data": {
      "text/html": [
       "<div>\n",
       "<style scoped>\n",
       "    .dataframe tbody tr th:only-of-type {\n",
       "        vertical-align: middle;\n",
       "    }\n",
       "\n",
       "    .dataframe tbody tr th {\n",
       "        vertical-align: top;\n",
       "    }\n",
       "\n",
       "    .dataframe thead th {\n",
       "        text-align: right;\n",
       "    }\n",
       "</style>\n",
       "<table border=\"1\" class=\"dataframe\">\n",
       "  <thead>\n",
       "    <tr style=\"text-align: right;\">\n",
       "      <th></th>\n",
       "      <th>Pclass</th>\n",
       "      <th>Sex</th>\n",
       "      <th>Age</th>\n",
       "      <th>Fare</th>\n",
       "      <th>Embarked</th>\n",
       "      <th>FamilySize</th>\n",
       "      <th>Title</th>\n",
       "    </tr>\n",
       "    <tr>\n",
       "      <th>PassengerId</th>\n",
       "      <th></th>\n",
       "      <th></th>\n",
       "      <th></th>\n",
       "      <th></th>\n",
       "      <th></th>\n",
       "      <th></th>\n",
       "      <th></th>\n",
       "    </tr>\n",
       "  </thead>\n",
       "  <tbody>\n",
       "    <tr>\n",
       "      <th>845</th>\n",
       "      <td>3</td>\n",
       "      <td>Male</td>\n",
       "      <td>17.0</td>\n",
       "      <td>8.6625</td>\n",
       "      <td>S</td>\n",
       "      <td>1</td>\n",
       "      <td>Mr</td>\n",
       "    </tr>\n",
       "    <tr>\n",
       "      <th>317</th>\n",
       "      <td>2</td>\n",
       "      <td>Female</td>\n",
       "      <td>24.0</td>\n",
       "      <td>26.0000</td>\n",
       "      <td>S</td>\n",
       "      <td>2</td>\n",
       "      <td>Mrs</td>\n",
       "    </tr>\n",
       "    <tr>\n",
       "      <th>769</th>\n",
       "      <td>3</td>\n",
       "      <td>Male</td>\n",
       "      <td>29.0</td>\n",
       "      <td>24.1500</td>\n",
       "      <td>Q</td>\n",
       "      <td>2</td>\n",
       "      <td>Mr</td>\n",
       "    </tr>\n",
       "    <tr>\n",
       "      <th>256</th>\n",
       "      <td>3</td>\n",
       "      <td>Female</td>\n",
       "      <td>29.0</td>\n",
       "      <td>15.2458</td>\n",
       "      <td>C</td>\n",
       "      <td>3</td>\n",
       "      <td>Mrs</td>\n",
       "    </tr>\n",
       "    <tr>\n",
       "      <th>131</th>\n",
       "      <td>3</td>\n",
       "      <td>Male</td>\n",
       "      <td>33.0</td>\n",
       "      <td>7.8958</td>\n",
       "      <td>C</td>\n",
       "      <td>1</td>\n",
       "      <td>Mr</td>\n",
       "    </tr>\n",
       "  </tbody>\n",
       "</table>\n",
       "</div>"
      ],
      "text/plain": [
       "            Pclass     Sex   Age     Fare Embarked  FamilySize Title\n",
       "PassengerId                                                         \n",
       "845              3    Male  17.0   8.6625        S           1    Mr\n",
       "317              2  Female  24.0  26.0000        S           2   Mrs\n",
       "769              3    Male  29.0  24.1500        Q           2    Mr\n",
       "256              3  Female  29.0  15.2458        C           3   Mrs\n",
       "131              3    Male  33.0   7.8958        C           1    Mr"
      ]
     },
     "execution_count": 47,
     "metadata": {},
     "output_type": "execute_result"
    }
   ],
   "source": [
    "from feature_engine.selection import DropFeatures\n",
    "\n",
    "drop_features = DropFeatures(features_to_drop=['Name', 'SibSp', 'Parch'])\n",
    "\n",
    "X_train = drop_features.fit_transform(X_train)\n",
    "\n",
    "X_train.head()"
   ]
  },
  {
   "cell_type": "markdown",
   "metadata": {},
   "source": [
    "### Encoding categorical variables\n"
   ]
  },
  {
   "cell_type": "code",
   "execution_count": 48,
   "metadata": {},
   "outputs": [],
   "source": [
    "from sklearn.preprocessing import OneHotEncoder, LabelEncoder\n",
    "\n",
    "one_hot_encoder = OneHotEncoder(drop='first', sparse_output=False)\n",
    "\n",
    "X_train_embarked_encoded = one_hot_encoder.fit_transform(X_train[['Embarked']])\n",
    "\n",
    "X_train_embarked_encoded = pd.DataFrame(X_train_embarked_encoded, columns=one_hot_encoder.get_feature_names_out(['Embarked']), index=X_train.index)\n",
    "\n",
    "X_train = pd.concat([X_train.drop('Embarked', axis=1), X_train_embarked_encoded], axis=1)"
   ]
  },
  {
   "cell_type": "code",
   "execution_count": 49,
   "metadata": {},
   "outputs": [],
   "source": [
    "label_encoder_sex = LabelEncoder()\n",
    "label_encoder_title = LabelEncoder()\n",
    "\n",
    "X_train['Sex'] = label_encoder_sex.fit_transform(X_train['Sex'])\n",
    "X_train['Title'] = label_encoder_title.fit_transform(X_train['Title'])"
   ]
  },
  {
   "cell_type": "markdown",
   "metadata": {},
   "source": [
    "# Feature scaling"
   ]
  },
  {
   "cell_type": "code",
   "execution_count": 50,
   "metadata": {},
   "outputs": [],
   "source": [
    "from sklearn.preprocessing import StandardScaler, MinMaxScaler\n",
    "\n",
    "standard_scaler = StandardScaler()\n",
    "\n",
    "standard_scaler_features = ['Pclass', 'Age', 'Sex', 'FamilySize', 'Title', 'Embarked_Q', 'Embarked_S']\n",
    "\n",
    "X_train[standard_scaler_features] = standard_scaler.fit_transform(X_train[standard_scaler_features])"
   ]
  },
  {
   "cell_type": "code",
   "execution_count": 51,
   "metadata": {},
   "outputs": [],
   "source": [
    "min_max_scaler = MinMaxScaler()\n",
    "min_max_scaler_features = ['Fare']\n",
    "X_train[min_max_scaler_features] = min_max_scaler.fit_transform(X_train[min_max_scaler_features])"
   ]
  },
  {
   "cell_type": "code",
   "execution_count": 52,
   "metadata": {},
   "outputs": [
    {
     "data": {
      "text/html": [
       "<div>\n",
       "<style scoped>\n",
       "    .dataframe tbody tr th:only-of-type {\n",
       "        vertical-align: middle;\n",
       "    }\n",
       "\n",
       "    .dataframe tbody tr th {\n",
       "        vertical-align: top;\n",
       "    }\n",
       "\n",
       "    .dataframe thead th {\n",
       "        text-align: right;\n",
       "    }\n",
       "</style>\n",
       "<table border=\"1\" class=\"dataframe\">\n",
       "  <thead>\n",
       "    <tr style=\"text-align: right;\">\n",
       "      <th></th>\n",
       "      <th>Pclass</th>\n",
       "      <th>Sex</th>\n",
       "      <th>Age</th>\n",
       "      <th>Fare</th>\n",
       "      <th>FamilySize</th>\n",
       "      <th>Title</th>\n",
       "      <th>Embarked_Q</th>\n",
       "      <th>Embarked_S</th>\n",
       "    </tr>\n",
       "    <tr>\n",
       "      <th>PassengerId</th>\n",
       "      <th></th>\n",
       "      <th></th>\n",
       "      <th></th>\n",
       "      <th></th>\n",
       "      <th></th>\n",
       "      <th></th>\n",
       "      <th></th>\n",
       "      <th></th>\n",
       "    </tr>\n",
       "  </thead>\n",
       "  <tbody>\n",
       "    <tr>\n",
       "      <th>845</th>\n",
       "      <td>0.819472</td>\n",
       "      <td>0.743186</td>\n",
       "      <td>-1.009092</td>\n",
       "      <td>0.016908</td>\n",
       "      <td>-0.570526</td>\n",
       "      <td>0.102505</td>\n",
       "      <td>-0.303355</td>\n",
       "      <td>0.642416</td>\n",
       "    </tr>\n",
       "    <tr>\n",
       "      <th>317</th>\n",
       "      <td>-0.379427</td>\n",
       "      <td>-1.345558</td>\n",
       "      <td>-0.470634</td>\n",
       "      <td>0.050749</td>\n",
       "      <td>0.129844</td>\n",
       "      <td>1.375475</td>\n",
       "      <td>-0.303355</td>\n",
       "      <td>0.642416</td>\n",
       "    </tr>\n",
       "    <tr>\n",
       "      <th>769</th>\n",
       "      <td>0.819472</td>\n",
       "      <td>0.743186</td>\n",
       "      <td>-0.086022</td>\n",
       "      <td>0.047138</td>\n",
       "      <td>0.129844</td>\n",
       "      <td>0.102505</td>\n",
       "      <td>3.296463</td>\n",
       "      <td>-1.556624</td>\n",
       "    </tr>\n",
       "    <tr>\n",
       "      <th>256</th>\n",
       "      <td>0.819472</td>\n",
       "      <td>-1.345558</td>\n",
       "      <td>-0.086022</td>\n",
       "      <td>0.029758</td>\n",
       "      <td>0.830213</td>\n",
       "      <td>1.375475</td>\n",
       "      <td>-0.303355</td>\n",
       "      <td>-1.556624</td>\n",
       "    </tr>\n",
       "    <tr>\n",
       "      <th>131</th>\n",
       "      <td>0.819472</td>\n",
       "      <td>0.743186</td>\n",
       "      <td>0.221668</td>\n",
       "      <td>0.015412</td>\n",
       "      <td>-0.570526</td>\n",
       "      <td>0.102505</td>\n",
       "      <td>-0.303355</td>\n",
       "      <td>-1.556624</td>\n",
       "    </tr>\n",
       "    <tr>\n",
       "      <th>...</th>\n",
       "      <td>...</td>\n",
       "      <td>...</td>\n",
       "      <td>...</td>\n",
       "      <td>...</td>\n",
       "      <td>...</td>\n",
       "      <td>...</td>\n",
       "      <td>...</td>\n",
       "      <td>...</td>\n",
       "    </tr>\n",
       "    <tr>\n",
       "      <th>477</th>\n",
       "      <td>-0.379427</td>\n",
       "      <td>0.743186</td>\n",
       "      <td>0.298590</td>\n",
       "      <td>0.040989</td>\n",
       "      <td>0.129844</td>\n",
       "      <td>0.102505</td>\n",
       "      <td>-0.303355</td>\n",
       "      <td>0.642416</td>\n",
       "    </tr>\n",
       "    <tr>\n",
       "      <th>59</th>\n",
       "      <td>-0.379427</td>\n",
       "      <td>-1.345558</td>\n",
       "      <td>-1.932161</td>\n",
       "      <td>0.054164</td>\n",
       "      <td>1.530583</td>\n",
       "      <td>-1.170465</td>\n",
       "      <td>-0.303355</td>\n",
       "      <td>0.642416</td>\n",
       "    </tr>\n",
       "    <tr>\n",
       "      <th>737</th>\n",
       "      <td>0.819472</td>\n",
       "      <td>-1.345558</td>\n",
       "      <td>1.375505</td>\n",
       "      <td>0.067096</td>\n",
       "      <td>2.230953</td>\n",
       "      <td>1.375475</td>\n",
       "      <td>-0.303355</td>\n",
       "      <td>0.642416</td>\n",
       "    </tr>\n",
       "    <tr>\n",
       "      <th>463</th>\n",
       "      <td>-1.578325</td>\n",
       "      <td>0.743186</td>\n",
       "      <td>1.298582</td>\n",
       "      <td>0.075147</td>\n",
       "      <td>-0.570526</td>\n",
       "      <td>0.102505</td>\n",
       "      <td>-0.303355</td>\n",
       "      <td>0.642416</td>\n",
       "    </tr>\n",
       "    <tr>\n",
       "      <th>748</th>\n",
       "      <td>-0.379427</td>\n",
       "      <td>-1.345558</td>\n",
       "      <td>-0.009100</td>\n",
       "      <td>0.025374</td>\n",
       "      <td>-0.570526</td>\n",
       "      <td>-1.170465</td>\n",
       "      <td>-0.303355</td>\n",
       "      <td>0.642416</td>\n",
       "    </tr>\n",
       "  </tbody>\n",
       "</table>\n",
       "<p>534 rows × 8 columns</p>\n",
       "</div>"
      ],
      "text/plain": [
       "               Pclass       Sex       Age      Fare  FamilySize     Title  \\\n",
       "PassengerId                                                                 \n",
       "845          0.819472  0.743186 -1.009092  0.016908   -0.570526  0.102505   \n",
       "317         -0.379427 -1.345558 -0.470634  0.050749    0.129844  1.375475   \n",
       "769          0.819472  0.743186 -0.086022  0.047138    0.129844  0.102505   \n",
       "256          0.819472 -1.345558 -0.086022  0.029758    0.830213  1.375475   \n",
       "131          0.819472  0.743186  0.221668  0.015412   -0.570526  0.102505   \n",
       "...               ...       ...       ...       ...         ...       ...   \n",
       "477         -0.379427  0.743186  0.298590  0.040989    0.129844  0.102505   \n",
       "59          -0.379427 -1.345558 -1.932161  0.054164    1.530583 -1.170465   \n",
       "737          0.819472 -1.345558  1.375505  0.067096    2.230953  1.375475   \n",
       "463         -1.578325  0.743186  1.298582  0.075147   -0.570526  0.102505   \n",
       "748         -0.379427 -1.345558 -0.009100  0.025374   -0.570526 -1.170465   \n",
       "\n",
       "             Embarked_Q  Embarked_S  \n",
       "PassengerId                          \n",
       "845           -0.303355    0.642416  \n",
       "317           -0.303355    0.642416  \n",
       "769            3.296463   -1.556624  \n",
       "256           -0.303355   -1.556624  \n",
       "131           -0.303355   -1.556624  \n",
       "...                 ...         ...  \n",
       "477           -0.303355    0.642416  \n",
       "59            -0.303355    0.642416  \n",
       "737           -0.303355    0.642416  \n",
       "463           -0.303355    0.642416  \n",
       "748           -0.303355    0.642416  \n",
       "\n",
       "[534 rows x 8 columns]"
      ]
     },
     "execution_count": 52,
     "metadata": {},
     "output_type": "execute_result"
    }
   ],
   "source": [
    "X_train"
   ]
  },
  {
   "cell_type": "markdown",
   "metadata": {},
   "source": [
    "Exercises:\n",
    "\n",
    "Try RobustScaler"
   ]
  },
  {
   "cell_type": "markdown",
   "metadata": {},
   "source": [
    "<details>\n",
    "\n",
    "<summary><strong>Solution</strong> (show)</summary>\n",
    "\n",
    "```python\n",
    "from sklearn.preprocessing import RobustScaler\n",
    "\n",
    "robust_scaler = RobustScaler()\n",
    "robust_scaler_features = ['Fare']\n",
    "X_train[robust_scaler_features] = robust_scaler.fit_transform(X_train[robust_scaler_features])\n",
    "</details>\n",
    "\n",
    "```"
   ]
  },
  {
   "cell_type": "markdown",
   "metadata": {},
   "source": [
    "# Final Data Preparation\n"
   ]
  },
  {
   "cell_type": "markdown",
   "metadata": {},
   "source": [
    "### Build transformation pipelines"
   ]
  },
  {
   "cell_type": "code",
   "execution_count": 53,
   "metadata": {},
   "outputs": [],
   "source": [
    "from sklearn.base import BaseEstimator, TransformerMixin\n",
    "\n",
    "class TypeConverter(BaseEstimator, TransformerMixin):\n",
    "    def __init__(self, type_mapping):\n",
    "        self.type_mapping = type_mapping\n",
    "        \n",
    "    def fit(self, X, y=None):\n",
    "        return self\n",
    "    \n",
    "    def transform(self, X):\n",
    "        X_copy = X.copy()\n",
    "        for column, dtype in self.type_mapping.items():\n",
    "            X_copy[column] = X_copy[column].astype(dtype)\n",
    "        return X_copy\n",
    "\n",
    "class SetIndexByPassengerId(BaseEstimator, TransformerMixin):\n",
    "    def __init__(self):\n",
    "        pass\n",
    "    \n",
    "    def fit(self, X, y=None):\n",
    "        return self\n",
    "    \n",
    "    def transform(self, X):\n",
    "        X_copy = X.copy()\n",
    "        \n",
    "        X_copy.set_index('PassengerId', inplace=True)\n",
    "        \n",
    "        return X_copy\n",
    "    \n",
    "class SexMappingTransformer(BaseEstimator, TransformerMixin):\n",
    "    def __init__(self, sex_col):\n",
    "        self.mapping = {'male': 'Male', 'female': 'Female', 'F': 'Female', 'M': 'Male'}\n",
    "        self.sex_col = sex_col\n",
    "        \n",
    "    def fit(self, X, y=None):\n",
    "        return self\n",
    "    \n",
    "    def transform(self, X):\n",
    "        X_copy = X.copy()\n",
    "        \n",
    "        X_copy[self.sex_col] = X_copy[self.sex_col].replace(self.mapping)\n",
    "        return X_copy\n",
    "    \n",
    "class ColumnImputer(BaseEstimator, TransformerMixin):\n",
    "    def __init__(self, strategy='mean', column_name=None):\n",
    "        self.strategy = strategy\n",
    "        self.column_name = column_name\n",
    "        self.imputer = SimpleImputer(strategy=self.strategy)\n",
    "        \n",
    "    def fit(self, X, y=None):\n",
    "        self.imputer.fit(X[[self.column_name]])\n",
    "        return self\n",
    "    \"\"\n",
    "    def transform(self, X):\n",
    "        X_copy = X.copy()\n",
    "        if self.strategy == 'most_frequent':\n",
    "            X_copy[self.column_name] = self.imputer.transform(X[[self.column_name]]).flatten()\n",
    "        else:\n",
    "            X_copy[self.column_name] = self.imputer.transform(X[[self.column_name]])\n",
    "        return X_copy\n",
    "    \n",
    "class FeatureEngineering(BaseEstimator, TransformerMixin):\n",
    "    def __init__(self, add_title=True, add_family_size=True):\n",
    "        self.add_title = add_title\n",
    "        self.add_family_size = add_family_size\n",
    "        \n",
    "    def fit(self, X, y=None):\n",
    "        return self\n",
    "    \n",
    "    def transform(self, X):\n",
    "        X_copy = X.copy()\n",
    "        \n",
    "        if self.add_family_size:\n",
    "            X_copy['FamilySize'] = X_copy['SibSp'] + X_copy['Parch'] + 1\n",
    "        \n",
    "        if self.add_title:\n",
    "            X_copy['Title'] = X_copy['Name'].str.extract(' ([A-Za-z]+)\\.')\n",
    "            \n",
    "            title_mapping = {\n",
    "                'Mr': 'Mr',\n",
    "                'Mrs': 'Mrs',\n",
    "                'Miss': 'Miss',\n",
    "                'Master': 'Master',\n",
    "                'Dr': 'Rare',\n",
    "                'Rev': 'Rare',\n",
    "                'Col': 'Rare',\n",
    "                'Mlle': 'Miss',\n",
    "                'Ms': 'Mrs',\n",
    "                'Mme': 'Mrs',\n",
    "                'Don': 'Rare',\n",
    "                'Dona': 'Rare',\n",
    "                'Jonkheer': 'Rare',\n",
    "                'Lady': 'Rare',\n",
    "                'Sir': 'Rare'\n",
    "            }\n",
    "            X_copy['Title'] = X_copy['Title'].map(title_mapping)\n",
    "            X_copy['Title'] = X_copy['Title'].fillna('Rare')  # Fill missing titles as 'Rare'\n",
    "        \n",
    "        return X_copy\n",
    "    \n",
    "class OneHotEncoderTransformer(BaseEstimator, TransformerMixin):\n",
    "    def __init__(self, column=None, drop_first=True):\n",
    "        self.column = column\n",
    "        self.drop_first = drop_first\n",
    "        self.encoder = OneHotEncoder(drop='first', sparse_output=False)\n",
    "        \n",
    "    def fit(self, X, y=None):\n",
    "        if self.column:\n",
    "            self.encoder.fit(X[self.column])\n",
    "        return self\n",
    "    \n",
    "    def transform(self, X):\n",
    "        X_copy = X.copy()\n",
    "        if self.column:\n",
    "            X_encoded = self.encoder.transform(X_copy[self.column])\n",
    "            encoded_df = pd.DataFrame(X_encoded, columns=self.encoder.get_feature_names_out(self.column), index=X_copy.index)\n",
    "            X_copy = pd.concat([X_copy.drop(self.column, axis=1), encoded_df], axis=1)\n",
    "        return X_copy\n",
    "    \n",
    "class LabelEncoderTransformer(BaseEstimator, TransformerMixin):\n",
    "    def __init__(self, column=None):\n",
    "        self.column = column\n",
    "        self.encoder = LabelEncoder()\n",
    "\n",
    "    def fit(self, X, y=None):\n",
    "        if self.column:\n",
    "            self.encoder.fit(X[self.column])\n",
    "        return self\n",
    "\n",
    "    def transform(self, X):\n",
    "        X_copy = X.copy()\n",
    "        if self.column:\n",
    "            X_copy[self.column] = self.encoder.transform(X_copy[self.column])\n",
    "        return X_copy\n",
    "    \n",
    "class ScalerTransformer(BaseEstimator, TransformerMixin):\n",
    "    def __init__(self, standard_scaler_features=None, min_max_scaler_features=None):\n",
    "        self.standard_scaler_features = standard_scaler_features\n",
    "        self.min_max_scaler_features = min_max_scaler_features\n",
    "        self.standard_scaler = StandardScaler()\n",
    "        self.min_max_scaler = MinMaxScaler()\n",
    "\n",
    "    def fit(self, X, y=None):\n",
    "        if self.standard_scaler_features:\n",
    "            self.standard_scaler.fit(X[self.standard_scaler_features])\n",
    "        \n",
    "        if self.min_max_scaler_features:\n",
    "            self.min_max_scaler.fit(X[self.min_max_scaler_features])\n",
    "\n",
    "        return self\n",
    "\n",
    "    def transform(self, X):\n",
    "        X_copy = X.copy()\n",
    "        \n",
    "        if self.standard_scaler_features:\n",
    "            X_copy[self.standard_scaler_features] = self.standard_scaler.transform(X_copy[self.standard_scaler_features])\n",
    "        \n",
    "        if self.min_max_scaler_features:\n",
    "            X_copy[self.min_max_scaler_features] = self.min_max_scaler.transform(X_copy[self.min_max_scaler_features])\n",
    "\n",
    "        return X_copy"
   ]
  },
  {
   "cell_type": "code",
   "execution_count": 54,
   "metadata": {},
   "outputs": [],
   "source": [
    "type_mapping = {\n",
    "    'PassengerId': int,\n",
    "    'Pclass': object,\n",
    "    'Name': object,\n",
    "    'Sex': object,\n",
    "    'Age': float,\n",
    "    'SibSp': int,\n",
    "    'Parch': int,\n",
    "    'Ticket': object,\n",
    "    'Fare': float,\n",
    "    'Cabin': object,\n",
    "    'Embarked': object\n",
    "}\n",
    "\n",
    "sex_mapping = 'Sex'\n",
    "unnecessary_features = ['Cabin', 'Ticket']\n",
    "median_imputer = 'Age'\n",
    "most_freq_imputer = 'Embarked'\n",
    "add_title = True\n",
    "add_family_size = True\n",
    "features_to_drop = ['Name', 'SibSp', 'Parch']\n",
    "embarked_encoder = 'Embarked'\n",
    "sex_encoder = 'Sex'\n",
    "title_encoder = 'Title'\n",
    "standard_scaler_features = ['Pclass', 'Age', 'Sex', 'FamilySize', 'Title', 'Embarked_Q', 'Embarked_S']\n",
    "min_max_scaler_features = ['Fare']"
   ]
  },
  {
   "cell_type": "code",
   "execution_count": 55,
   "metadata": {},
   "outputs": [],
   "source": [
    "from sklearn.pipeline import Pipeline\n",
    "from feature_engine.selection import DropFeatures\n",
    "\n",
    "y_train_cleaned = pd.DataFrame(y_train_copy)\n",
    "y_train_cleaned.index = X_train_copy['PassengerId']\n",
    "\n",
    "pipeline = Pipeline(steps=[\n",
    "    ('type_converter', TypeConverter(type_mapping)),\n",
    "    ('sex_mapping', SexMappingTransformer(sex_col=sex_mapping)),\n",
    "    ('set_index', SetIndexByPassengerId()),\n",
    "    ('drop_unnecessary_features', DropFeatures(features_to_drop=unnecessary_features)),\n",
    "    ('age_imputer', ColumnImputer(strategy='median', column_name=median_imputer)),\n",
    "    ('embarked_imputer', ColumnImputer(strategy='most_frequent', column_name=most_freq_imputer)),\n",
    "    ('feature_engineering', FeatureEngineering(add_title=add_title, add_family_size=add_family_size)),\n",
    "    ('drop_features', DropFeatures(features_to_drop=features_to_drop)),\n",
    "    ('onehot_encoder', OneHotEncoderTransformer(column=[embarked_encoder])),\n",
    "    ('sex_label_encoder', LabelEncoderTransformer(column=sex_encoder)),\n",
    "    ('title_label_encoder', LabelEncoderTransformer(column=title_encoder)),\n",
    "    ('scaler', ScalerTransformer(standard_scaler_features=standard_scaler_features,\n",
    "                                 min_max_scaler_features=min_max_scaler_features)),\n",
    "])\n",
    "\n",
    "X_train_cleaned = pipeline.fit_transform(X_train_copy)"
   ]
  },
  {
   "cell_type": "code",
   "execution_count": 56,
   "metadata": {},
   "outputs": [],
   "source": [
    "assert X_train_cleaned.equals(X_train), \"X_train and X_train_copy are not the same after transformation!\"\n",
    "assert y_train_cleaned.equals(y_train), \"y_train and y_train_copy are not the same after transformation!\""
   ]
  },
  {
   "cell_type": "markdown",
   "metadata": {},
   "source": [
    "---"
   ]
  },
  {
   "cell_type": "markdown",
   "metadata": {},
   "source": [
    "# Model Selection and Training"
   ]
  },
  {
   "cell_type": "markdown",
   "metadata": {},
   "source": [
    "### Select appropriate algorithms using validation"
   ]
  },
  {
   "cell_type": "code",
   "execution_count": 57,
   "metadata": {},
   "outputs": [],
   "source": [
    "y_val_cleaned = pd.DataFrame(y_val)\n",
    "y_val_cleaned.index = X_val['PassengerId']\n",
    "X_val_cleaned = pipeline.transform(X_val)"
   ]
  },
  {
   "cell_type": "markdown",
   "metadata": {},
   "source": [
    "1. Logistic Regression"
   ]
  },
  {
   "cell_type": "code",
   "execution_count": 58,
   "metadata": {},
   "outputs": [
    {
     "name": "stdout",
     "output_type": "stream",
     "text": [
      "Logistic Regression Accuracy:\n",
      "Training Accuracy: 0.7959\n",
      "Validation Accuracy: 0.8090\n"
     ]
    }
   ],
   "source": [
    "from sklearn.linear_model import LogisticRegression\n",
    "from sklearn.metrics import accuracy_score\n",
    "\n",
    "log_reg_model = LogisticRegression()\n",
    "log_reg_model.fit(X_train_cleaned, y_train_cleaned.values.ravel())\n",
    "\n",
    "y_train_pred_log_reg = log_reg_model.predict(X_train_cleaned)\n",
    "y_val_pred_log_reg = log_reg_model.predict(X_val_cleaned)\n",
    "\n",
    "acc_train_log_reg = accuracy_score(y_train_cleaned, y_train_pred_log_reg)\n",
    "acc_val_log_reg = accuracy_score(y_val_cleaned, y_val_pred_log_reg)\n",
    "\n",
    "print(\"Logistic Regression Accuracy:\")\n",
    "print(f\"Training Accuracy: {acc_train_log_reg:.4f}\")\n",
    "print(f\"Validation Accuracy: {acc_val_log_reg:.4f}\")\n"
   ]
  },
  {
   "cell_type": "markdown",
   "metadata": {},
   "source": [
    "2. K-Nearest Neighbors (KNN)"
   ]
  },
  {
   "cell_type": "code",
   "execution_count": 59,
   "metadata": {},
   "outputs": [
    {
     "name": "stdout",
     "output_type": "stream",
     "text": [
      "KNN Accuracy:\n",
      "Training Accuracy: 0.8408\n",
      "Validation Accuracy: 0.8258\n"
     ]
    }
   ],
   "source": [
    "from sklearn.neighbors import KNeighborsClassifier\n",
    "\n",
    "knn_model = KNeighborsClassifier()\n",
    "knn_model.fit(X_train_cleaned, y_train_cleaned.values.ravel())\n",
    "\n",
    "y_train_pred_knn = knn_model.predict(X_train_cleaned)\n",
    "y_val_pred_knn = knn_model.predict(X_val_cleaned)\n",
    "\n",
    "acc_train_knn = accuracy_score(y_train_cleaned, y_train_pred_knn)\n",
    "acc_val_knn = accuracy_score(y_val_cleaned, y_val_pred_knn)\n",
    "\n",
    "print(\"KNN Accuracy:\")\n",
    "print(f\"Training Accuracy: {acc_train_knn:.4f}\")\n",
    "print(f\"Validation Accuracy: {acc_val_knn:.4f}\")"
   ]
  },
  {
   "cell_type": "markdown",
   "metadata": {},
   "source": [
    "3. Decision Tree"
   ]
  },
  {
   "cell_type": "code",
   "execution_count": 60,
   "metadata": {},
   "outputs": [
    {
     "name": "stdout",
     "output_type": "stream",
     "text": [
      "Decision Tree Accuracy:\n",
      "Training Accuracy: 0.9794\n",
      "Validation Accuracy: 0.7472\n"
     ]
    }
   ],
   "source": [
    "from sklearn.tree import DecisionTreeClassifier\n",
    "\n",
    "decision_tree_model = DecisionTreeClassifier(random_state=42)\n",
    "decision_tree_model.fit(X_train_cleaned, y_train_cleaned.values.ravel())\n",
    "\n",
    "y_train_pred_dt = decision_tree_model.predict(X_train_cleaned)\n",
    "y_val_pred_dt = decision_tree_model.predict(X_val_cleaned)\n",
    "\n",
    "acc_train_dt = accuracy_score(y_train_cleaned, y_train_pred_dt)\n",
    "acc_val_dt = accuracy_score(y_val_cleaned, y_val_pred_dt)\n",
    "\n",
    "print(\"Decision Tree Accuracy:\")\n",
    "print(f\"Training Accuracy: {acc_train_dt:.4f}\")\n",
    "print(f\"Validation Accuracy: {acc_val_dt:.4f}\")"
   ]
  },
  {
   "cell_type": "markdown",
   "metadata": {},
   "source": [
    "4. Random Forest"
   ]
  },
  {
   "cell_type": "code",
   "execution_count": 61,
   "metadata": {},
   "outputs": [
    {
     "name": "stdout",
     "output_type": "stream",
     "text": [
      "Random Forest Accuracy:\n",
      "Training Accuracy: 0.9794\n",
      "Validation Accuracy: 0.7809\n"
     ]
    }
   ],
   "source": [
    "from sklearn.ensemble import RandomForestClassifier\n",
    "\n",
    "random_forest_model = RandomForestClassifier(random_state=42)\n",
    "random_forest_model.fit(X_train_cleaned, y_train_cleaned.values.ravel())\n",
    "\n",
    "y_train_pred_rf = random_forest_model.predict(X_train_cleaned)\n",
    "y_val_pred_rf = random_forest_model.predict(X_val_cleaned)\n",
    "\n",
    "acc_train_rf = accuracy_score(y_train_cleaned, y_train_pred_rf)\n",
    "acc_val_rf = accuracy_score(y_val_cleaned, y_val_pred_rf)\n",
    "\n",
    "print(\"Random Forest Accuracy:\")\n",
    "print(f\"Training Accuracy: {acc_train_rf:.4f}\")\n",
    "print(f\"Validation Accuracy: {acc_val_rf:.4f}\")"
   ]
  },
  {
   "cell_type": "markdown",
   "metadata": {},
   "source": [
    "### Analyze the best models and their errors"
   ]
  },
  {
   "cell_type": "code",
   "execution_count": 62,
   "metadata": {},
   "outputs": [
    {
     "data": {
      "image/png": "[encoded data removed]",
      "text/plain": [
       "<Figure size 800x600 with 2 Axes>"
      ]
     },
     "metadata": {},
     "output_type": "display_data"
    },
    {
     "name": "stdout",
     "output_type": "stream",
     "text": [
      "              precision    recall  f1-score   support\n",
      "\n",
      "           0       0.82      0.92      0.87       110\n",
      "           1       0.84      0.68      0.75        68\n",
      "\n",
      "    accuracy                           0.83       178\n",
      "   macro avg       0.83      0.80      0.81       178\n",
      "weighted avg       0.83      0.83      0.82       178\n",
      "\n"
     ]
    }
   ],
   "source": [
    "from sklearn.metrics import confusion_matrix, classification_report\n",
    "import seaborn as sns\n",
    "import matplotlib.pyplot as plt\n",
    "\n",
    "y_val_pred_knn = knn_model.predict(X_val_cleaned)\n",
    "\n",
    "conf_matrix = confusion_matrix(y_val_cleaned, y_val_pred_knn)\n",
    "\n",
    "plt.figure(figsize=(8, 6))\n",
    "sns.heatmap(conf_matrix, annot=True, fmt='d', cmap='Blues', xticklabels=['Not Survived', 'Survived'], yticklabels=['Not Survived', 'Survived'])\n",
    "plt.xlabel('Predicted')\n",
    "plt.ylabel('True')\n",
    "plt.title('Confusion Matrix for KNN')\n",
    "plt.show()\n",
    "\n",
    "print(classification_report(y_val_cleaned, y_val_pred_knn))"
   ]
  },
  {
   "cell_type": "markdown",
   "metadata": {},
   "source": [
    "### Train models using pipeline"
   ]
  },
  {
   "cell_type": "code",
   "execution_count": 63,
   "metadata": {},
   "outputs": [],
   "source": [
    "data = pd.read_csv('../data/titanic.csv')\n",
    "\n",
    "X_train, X_temp, y_train, y_temp = train_test_split(X, y, test_size=0.4, random_state=42, stratify=y)\n",
    "X_val, X_test, y_val, y_test = train_test_split(X_temp, y_temp, test_size=0.5, random_state=42, stratify=y_temp)"
   ]
  },
  {
   "cell_type": "code",
   "execution_count": 64,
   "metadata": {},
   "outputs": [],
   "source": [
    "combined_pipeline = Pipeline(steps=[\n",
    "    ('preprocessing', pipeline),\n",
    "    ('model', KNeighborsClassifier())\n",
    "])"
   ]
  },
  {
   "cell_type": "code",
   "execution_count": 65,
   "metadata": {},
   "outputs": [
    {
     "data": {
      "text/html": [
       "<style>#sk-container-id-1 {\n",
       "  /* Definition of color scheme common for light and dark mode */\n",
       "  --sklearn-color-text: black;\n",
       "  --sklearn-color-line: gray;\n",
       "  /* Definition of color scheme for unfitted estimators */\n",
       "  --sklearn-color-unfitted-level-0: #fff5e6;\n",
       "  --sklearn-color-unfitted-level-1: #f6e4d2;\n",
       "  --sklearn-color-unfitted-level-2: #ffe0b3;\n",
       "  --sklearn-color-unfitted-level-3: chocolate;\n",
       "  /* Definition of color scheme for fitted estimators */\n",
       "  --sklearn-color-fitted-level-0: #f0f8ff;\n",
       "  --sklearn-color-fitted-level-1: #d4ebff;\n",
       "  --sklearn-color-fitted-level-2: #b3dbfd;\n",
       "  --sklearn-color-fitted-level-3: cornflowerblue;\n",
       "\n",
       "  /* Specific color for light theme */\n",
       "  --sklearn-color-text-on-default-background: var(--sg-text-color, var(--theme-code-foreground, var(--jp-content-font-color1, black)));\n",
       "  --sklearn-color-background: var(--sg-background-color, var(--theme-background, var(--jp-layout-color0, white)));\n",
       "  --sklearn-color-border-box: var(--sg-text-color, var(--theme-code-foreground, var(--jp-content-font-color1, black)));\n",
       "  --sklearn-color-icon: #696969;\n",
       "\n",
       "  @media (prefers-color-scheme: dark) {\n",
       "    /* Redefinition of color scheme for dark theme */\n",
       "    --sklearn-color-text-on-default-background: var(--sg-text-color, var(--theme-code-foreground, var(--jp-content-font-color1, white)));\n",
       "    --sklearn-color-background: var(--sg-background-color, var(--theme-background, var(--jp-layout-color0, #111)));\n",
       "    --sklearn-color-border-box: var(--sg-text-color, var(--theme-code-foreground, var(--jp-content-font-color1, white)));\n",
       "    --sklearn-color-icon: #878787;\n",
       "  }\n",
       "}\n",
       "\n",
       "#sk-container-id-1 {\n",
       "  color: var(--sklearn-color-text);\n",
       "}\n",
       "\n",
       "#sk-container-id-1 pre {\n",
       "  padding: 0;\n",
       "}\n",
       "\n",
       "#sk-container-id-1 input.sk-hidden--visually {\n",
       "  border: 0;\n",
       "  clip: rect(1px 1px 1px 1px);\n",
       "  clip: rect(1px, 1px, 1px, 1px);\n",
       "  height: 1px;\n",
       "  margin: -1px;\n",
       "  overflow: hidden;\n",
       "  padding: 0;\n",
       "  position: absolute;\n",
       "  width: 1px;\n",
       "}\n",
       "\n",
       "#sk-container-id-1 div.sk-dashed-wrapped {\n",
       "  border: 1px dashed var(--sklearn-color-line);\n",
       "  margin: 0 0.4em 0.5em 0.4em;\n",
       "  box-sizing: border-box;\n",
       "  padding-bottom: 0.4em;\n",
       "  background-color: var(--sklearn-color-background);\n",
       "}\n",
       "\n",
       "#sk-container-id-1 div.sk-container {\n",
       "  /* jupyter's `normalize.less` sets `[hidden] { display: none; }`\n",
       "     but bootstrap.min.css set `[hidden] { display: none !important; }`\n",
       "     so we also need the `!important` here to be able to override the\n",
       "     default hidden behavior on the sphinx rendered scikit-learn.org.\n",
       "     See: https://github.com/scikit-learn/scikit-learn/issues/21755 */\n",
       "  display: inline-block !important;\n",
       "  position: relative;\n",
       "}\n",
       "\n",
       "#sk-container-id-1 div.sk-text-repr-fallback {\n",
       "  display: none;\n",
       "}\n",
       "\n",
       "div.sk-parallel-item,\n",
       "div.sk-serial,\n",
       "div.sk-item {\n",
       "  /* draw centered vertical line to link estimators */\n",
       "  background-image: linear-gradient(var(--sklearn-color-text-on-default-background), var(--sklearn-color-text-on-default-background));\n",
       "  background-size: 2px 100%;\n",
       "  background-repeat: no-repeat;\n",
       "  background-position: center center;\n",
       "}\n",
       "\n",
       "/* Parallel-specific style estimator block */\n",
       "\n",
       "#sk-container-id-1 div.sk-parallel-item::after {\n",
       "  content: \"\";\n",
       "  width: 100%;\n",
       "  border-bottom: 2px solid var(--sklearn-color-text-on-default-background);\n",
       "  flex-grow: 1;\n",
       "}\n",
       "\n",
       "#sk-container-id-1 div.sk-parallel {\n",
       "  display: flex;\n",
       "  align-items: stretch;\n",
       "  justify-content: center;\n",
       "  background-color: var(--sklearn-color-background);\n",
       "  position: relative;\n",
       "}\n",
       "\n",
       "#sk-container-id-1 div.sk-parallel-item {\n",
       "  display: flex;\n",
       "  flex-direction: column;\n",
       "}\n",
       "\n",
       "#sk-container-id-1 div.sk-parallel-item:first-child::after {\n",
       "  align-self: flex-end;\n",
       "  width: 50%;\n",
       "}\n",
       "\n",
       "#sk-container-id-1 div.sk-parallel-item:last-child::after {\n",
       "  align-self: flex-start;\n",
       "  width: 50%;\n",
       "}\n",
       "\n",
       "#sk-container-id-1 div.sk-parallel-item:only-child::after {\n",
       "  width: 0;\n",
       "}\n",
       "\n",
       "/* Serial-specific style estimator block */\n",
       "\n",
       "#sk-container-id-1 div.sk-serial {\n",
       "  display: flex;\n",
       "  flex-direction: column;\n",
       "  align-items: center;\n",
       "  background-color: var(--sklearn-color-background);\n",
       "  padding-right: 1em;\n",
       "  padding-left: 1em;\n",
       "}\n",
       "\n",
       "\n",
       "/* Toggleable style: style used for estimator/Pipeline/ColumnTransformer box that is\n",
       "clickable and can be expanded/collapsed.\n",
       "- Pipeline and ColumnTransformer use this feature and define the default style\n",
       "- Estimators will overwrite some part of the style using the `sk-estimator` class\n",
       "*/\n",
       "\n",
       "/* Pipeline and ColumnTransformer style (default) */\n",
       "\n",
       "#sk-container-id-1 div.sk-toggleable {\n",
       "  /* Default theme specific background. It is overwritten whether we have a\n",
       "  specific estimator or a Pipeline/ColumnTransformer */\n",
       "  background-color: var(--sklearn-color-background);\n",
       "}\n",
       "\n",
       "/* Toggleable label */\n",
       "#sk-container-id-1 label.sk-toggleable__label {\n",
       "  cursor: pointer;\n",
       "  display: block;\n",
       "  width: 100%;\n",
       "  margin-bottom: 0;\n",
       "  padding: 0.5em;\n",
       "  box-sizing: border-box;\n",
       "  text-align: center;\n",
       "}\n",
       "\n",
       "#sk-container-id-1 label.sk-toggleable__label-arrow:before {\n",
       "  /* Arrow on the left of the label */\n",
       "  content: \"▸\";\n",
       "  float: left;\n",
       "  margin-right: 0.25em;\n",
       "  color: var(--sklearn-color-icon);\n",
       "}\n",
       "\n",
       "#sk-container-id-1 label.sk-toggleable__label-arrow:hover:before {\n",
       "  color: var(--sklearn-color-text);\n",
       "}\n",
       "\n",
       "/* Toggleable content - dropdown */\n",
       "\n",
       "#sk-container-id-1 div.sk-toggleable__content {\n",
       "  max-height: 0;\n",
       "  max-width: 0;\n",
       "  overflow: hidden;\n",
       "  text-align: left;\n",
       "  /* unfitted */\n",
       "  background-color: var(--sklearn-color-unfitted-level-0);\n",
       "}\n",
       "\n",
       "#sk-container-id-1 div.sk-toggleable__content.fitted {\n",
       "  /* fitted */\n",
       "  background-color: var(--sklearn-color-fitted-level-0);\n",
       "}\n",
       "\n",
       "#sk-container-id-1 div.sk-toggleable__content pre {\n",
       "  margin: 0.2em;\n",
       "  border-radius: 0.25em;\n",
       "  color: var(--sklearn-color-text);\n",
       "  /* unfitted */\n",
       "  background-color: var(--sklearn-color-unfitted-level-0);\n",
       "}\n",
       "\n",
       "#sk-container-id-1 div.sk-toggleable__content.fitted pre {\n",
       "  /* unfitted */\n",
       "  background-color: var(--sklearn-color-fitted-level-0);\n",
       "}\n",
       "\n",
       "#sk-container-id-1 input.sk-toggleable__control:checked~div.sk-toggleable__content {\n",
       "  /* Expand drop-down */\n",
       "  max-height: 200px;\n",
       "  max-width: 100%;\n",
       "  overflow: auto;\n",
       "}\n",
       "\n",
       "#sk-container-id-1 input.sk-toggleable__control:checked~label.sk-toggleable__label-arrow:before {\n",
       "  content: \"▾\";\n",
       "}\n",
       "\n",
       "/* Pipeline/ColumnTransformer-specific style */\n",
       "\n",
       "#sk-container-id-1 div.sk-label input.sk-toggleable__control:checked~label.sk-toggleable__label {\n",
       "  color: var(--sklearn-color-text);\n",
       "  background-color: var(--sklearn-color-unfitted-level-2);\n",
       "}\n",
       "\n",
       "#sk-container-id-1 div.sk-label.fitted input.sk-toggleable__control:checked~label.sk-toggleable__label {\n",
       "  background-color: var(--sklearn-color-fitted-level-2);\n",
       "}\n",
       "\n",
       "/* Estimator-specific style */\n",
       "\n",
       "/* Colorize estimator box */\n",
       "#sk-container-id-1 div.sk-estimator input.sk-toggleable__control:checked~label.sk-toggleable__label {\n",
       "  /* unfitted */\n",
       "  background-color: var(--sklearn-color-unfitted-level-2);\n",
       "}\n",
       "\n",
       "#sk-container-id-1 div.sk-estimator.fitted input.sk-toggleable__control:checked~label.sk-toggleable__label {\n",
       "  /* fitted */\n",
       "  background-color: var(--sklearn-color-fitted-level-2);\n",
       "}\n",
       "\n",
       "#sk-container-id-1 div.sk-label label.sk-toggleable__label,\n",
       "#sk-container-id-1 div.sk-label label {\n",
       "  /* The background is the default theme color */\n",
       "  color: var(--sklearn-color-text-on-default-background);\n",
       "}\n",
       "\n",
       "/* On hover, darken the color of the background */\n",
       "#sk-container-id-1 div.sk-label:hover label.sk-toggleable__label {\n",
       "  color: var(--sklearn-color-text);\n",
       "  background-color: var(--sklearn-color-unfitted-level-2);\n",
       "}\n",
       "\n",
       "/* Label box, darken color on hover, fitted */\n",
       "#sk-container-id-1 div.sk-label.fitted:hover label.sk-toggleable__label.fitted {\n",
       "  color: var(--sklearn-color-text);\n",
       "  background-color: var(--sklearn-color-fitted-level-2);\n",
       "}\n",
       "\n",
       "/* Estimator label */\n",
       "\n",
       "#sk-container-id-1 div.sk-label label {\n",
       "  font-family: monospace;\n",
       "  font-weight: bold;\n",
       "  display: inline-block;\n",
       "  line-height: 1.2em;\n",
       "}\n",
       "\n",
       "#sk-container-id-1 div.sk-label-container {\n",
       "  text-align: center;\n",
       "}\n",
       "\n",
       "/* Estimator-specific */\n",
       "#sk-container-id-1 div.sk-estimator {\n",
       "  font-family: monospace;\n",
       "  border: 1px dotted var(--sklearn-color-border-box);\n",
       "  border-radius: 0.25em;\n",
       "  box-sizing: border-box;\n",
       "  margin-bottom: 0.5em;\n",
       "  /* unfitted */\n",
       "  background-color: var(--sklearn-color-unfitted-level-0);\n",
       "}\n",
       "\n",
       "#sk-container-id-1 div.sk-estimator.fitted {\n",
       "  /* fitted */\n",
       "  background-color: var(--sklearn-color-fitted-level-0);\n",
       "}\n",
       "\n",
       "/* on hover */\n",
       "#sk-container-id-1 div.sk-estimator:hover {\n",
       "  /* unfitted */\n",
       "  background-color: var(--sklearn-color-unfitted-level-2);\n",
       "}\n",
       "\n",
       "#sk-container-id-1 div.sk-estimator.fitted:hover {\n",
       "  /* fitted */\n",
       "  background-color: var(--sklearn-color-fitted-level-2);\n",
       "}\n",
       "\n",
       "/* Specification for estimator info (e.g. \"i\" and \"?\") */\n",
       "\n",
       "/* Common style for \"i\" and \"?\" */\n",
       "\n",
       ".sk-estimator-doc-link,\n",
       "a:link.sk-estimator-doc-link,\n",
       "a:visited.sk-estimator-doc-link {\n",
       "  float: right;\n",
       "  font-size: smaller;\n",
       "  line-height: 1em;\n",
       "  font-family: monospace;\n",
       "  background-color: var(--sklearn-color-background);\n",
       "  border-radius: 1em;\n",
       "  height: 1em;\n",
       "  width: 1em;\n",
       "  text-decoration: none !important;\n",
       "  margin-left: 1ex;\n",
       "  /* unfitted */\n",
       "  border: var(--sklearn-color-unfitted-level-1) 1pt solid;\n",
       "  color: var(--sklearn-color-unfitted-level-1);\n",
       "}\n",
       "\n",
       ".sk-estimator-doc-link.fitted,\n",
       "a:link.sk-estimator-doc-link.fitted,\n",
       "a:visited.sk-estimator-doc-link.fitted {\n",
       "  /* fitted */\n",
       "  border: var(--sklearn-color-fitted-level-1) 1pt solid;\n",
       "  color: var(--sklearn-color-fitted-level-1);\n",
       "}\n",
       "\n",
       "/* On hover */\n",
       "div.sk-estimator:hover .sk-estimator-doc-link:hover,\n",
       ".sk-estimator-doc-link:hover,\n",
       "div.sk-label-container:hover .sk-estimator-doc-link:hover,\n",
       ".sk-estimator-doc-link:hover {\n",
       "  /* unfitted */\n",
       "  background-color: var(--sklearn-color-unfitted-level-3);\n",
       "  color: var(--sklearn-color-background);\n",
       "  text-decoration: none;\n",
       "}\n",
       "\n",
       "div.sk-estimator.fitted:hover .sk-estimator-doc-link.fitted:hover,\n",
       ".sk-estimator-doc-link.fitted:hover,\n",
       "div.sk-label-container:hover .sk-estimator-doc-link.fitted:hover,\n",
       ".sk-estimator-doc-link.fitted:hover {\n",
       "  /* fitted */\n",
       "  background-color: var(--sklearn-color-fitted-level-3);\n",
       "  color: var(--sklearn-color-background);\n",
       "  text-decoration: none;\n",
       "}\n",
       "\n",
       "/* Span, style for the box shown on hovering the info icon */\n",
       ".sk-estimator-doc-link span {\n",
       "  display: none;\n",
       "  z-index: 9999;\n",
       "  position: relative;\n",
       "  font-weight: normal;\n",
       "  right: .2ex;\n",
       "  padding: .5ex;\n",
       "  margin: .5ex;\n",
       "  width: min-content;\n",
       "  min-width: 20ex;\n",
       "  max-width: 50ex;\n",
       "  color: var(--sklearn-color-text);\n",
       "  box-shadow: 2pt 2pt 4pt #999;\n",
       "  /* unfitted */\n",
       "  background: var(--sklearn-color-unfitted-level-0);\n",
       "  border: .5pt solid var(--sklearn-color-unfitted-level-3);\n",
       "}\n",
       "\n",
       ".sk-estimator-doc-link.fitted span {\n",
       "  /* fitted */\n",
       "  background: var(--sklearn-color-fitted-level-0);\n",
       "  border: var(--sklearn-color-fitted-level-3);\n",
       "}\n",
       "\n",
       ".sk-estimator-doc-link:hover span {\n",
       "  display: block;\n",
       "}\n",
       "\n",
       "/* \"?\"-specific style due to the `<a>` HTML tag */\n",
       "\n",
       "#sk-container-id-1 a.estimator_doc_link {\n",
       "  float: right;\n",
       "  font-size: 1rem;\n",
       "  line-height: 1em;\n",
       "  font-family: monospace;\n",
       "  background-color: var(--sklearn-color-background);\n",
       "  border-radius: 1rem;\n",
       "  height: 1rem;\n",
       "  width: 1rem;\n",
       "  text-decoration: none;\n",
       "  /* unfitted */\n",
       "  color: var(--sklearn-color-unfitted-level-1);\n",
       "  border: var(--sklearn-color-unfitted-level-1) 1pt solid;\n",
       "}\n",
       "\n",
       "#sk-container-id-1 a.estimator_doc_link.fitted {\n",
       "  /* fitted */\n",
       "  border: var(--sklearn-color-fitted-level-1) 1pt solid;\n",
       "  color: var(--sklearn-color-fitted-level-1);\n",
       "}\n",
       "\n",
       "/* On hover */\n",
       "#sk-container-id-1 a.estimator_doc_link:hover {\n",
       "  /* unfitted */\n",
       "  background-color: var(--sklearn-color-unfitted-level-3);\n",
       "  color: var(--sklearn-color-background);\n",
       "  text-decoration: none;\n",
       "}\n",
       "\n",
       "#sk-container-id-1 a.estimator_doc_link.fitted:hover {\n",
       "  /* fitted */\n",
       "  background-color: var(--sklearn-color-fitted-level-3);\n",
       "}\n",
       "</style><div id=\"sk-container-id-1\" class=\"sk-top-container\"><div class=\"sk-text-repr-fallback\"><pre>Pipeline(steps=[(&#x27;preprocessing&#x27;,\n",
       "                 Pipeline(steps=[(&#x27;type_converter&#x27;,\n",
       "                                  TypeConverter(type_mapping={&#x27;Age&#x27;: &lt;class &#x27;float&#x27;&gt;,\n",
       "                                                              &#x27;Cabin&#x27;: &lt;class &#x27;object&#x27;&gt;,\n",
       "                                                              &#x27;Embarked&#x27;: &lt;class &#x27;object&#x27;&gt;,\n",
       "                                                              &#x27;Fare&#x27;: &lt;class &#x27;float&#x27;&gt;,\n",
       "                                                              &#x27;Name&#x27;: &lt;class &#x27;object&#x27;&gt;,\n",
       "                                                              &#x27;Parch&#x27;: &lt;class &#x27;int&#x27;&gt;,\n",
       "                                                              &#x27;PassengerId&#x27;: &lt;class &#x27;int&#x27;&gt;,\n",
       "                                                              &#x27;Pclass&#x27;: &lt;class &#x27;object&#x27;&gt;,\n",
       "                                                              &#x27;Sex&#x27;: &lt;class &#x27;object&#x27;&gt;,\n",
       "                                                              &#x27;SibSp&#x27;: &lt;class &#x27;int&#x27;&gt;,\n",
       "                                                              &#x27;Ticket&#x27;: &lt;class &#x27;object...\n",
       "                                  OneHotEncoderTransformer(column=[&#x27;Embarked&#x27;])),\n",
       "                                 (&#x27;sex_label_encoder&#x27;,\n",
       "                                  LabelEncoderTransformer(column=&#x27;Sex&#x27;)),\n",
       "                                 (&#x27;title_label_encoder&#x27;,\n",
       "                                  LabelEncoderTransformer(column=&#x27;Title&#x27;)),\n",
       "                                 (&#x27;scaler&#x27;,\n",
       "                                  ScalerTransformer(min_max_scaler_features=[&#x27;Fare&#x27;],\n",
       "                                                    standard_scaler_features=[&#x27;Pclass&#x27;,\n",
       "                                                                              &#x27;Age&#x27;,\n",
       "                                                                              &#x27;Sex&#x27;,\n",
       "                                                                              &#x27;FamilySize&#x27;,\n",
       "                                                                              &#x27;Title&#x27;,\n",
       "                                                                              &#x27;Embarked_Q&#x27;,\n",
       "                                                                              &#x27;Embarked_S&#x27;]))])),\n",
       "                (&#x27;model&#x27;, KNeighborsClassifier())])</pre><b>In a Jupyter environment, please rerun this cell to show the HTML representation or trust the notebook. <br />On GitHub, the HTML representation is unable to render, please try loading this page with nbviewer.org.</b></div><div class=\"sk-container\" hidden><div class=\"sk-item sk-dashed-wrapped\"><div class=\"sk-label-container\"><div class=\"sk-label fitted sk-toggleable\"><input class=\"sk-toggleable__control sk-hidden--visually\" id=\"sk-estimator-id-1\" type=\"checkbox\" ><label for=\"sk-estimator-id-1\" class=\"sk-toggleable__label fitted sk-toggleable__label-arrow fitted\">&nbsp;&nbsp;Pipeline<a class=\"sk-estimator-doc-link fitted\" rel=\"noreferrer\" target=\"_blank\" href=\"https://scikit-learn.org/1.5/modules/generated/sklearn.pipeline.Pipeline.html\">?<span>Documentation for Pipeline</span></a><span class=\"sk-estimator-doc-link fitted\">i<span>Fitted</span></span></label><div class=\"sk-toggleable__content fitted\"><pre>Pipeline(steps=[(&#x27;preprocessing&#x27;,\n",
       "                 Pipeline(steps=[(&#x27;type_converter&#x27;,\n",
       "                                  TypeConverter(type_mapping={&#x27;Age&#x27;: &lt;class &#x27;float&#x27;&gt;,\n",
       "                                                              &#x27;Cabin&#x27;: &lt;class &#x27;object&#x27;&gt;,\n",
       "                                                              &#x27;Embarked&#x27;: &lt;class &#x27;object&#x27;&gt;,\n",
       "                                                              &#x27;Fare&#x27;: &lt;class &#x27;float&#x27;&gt;,\n",
       "                                                              &#x27;Name&#x27;: &lt;class &#x27;object&#x27;&gt;,\n",
       "                                                              &#x27;Parch&#x27;: &lt;class &#x27;int&#x27;&gt;,\n",
       "                                                              &#x27;PassengerId&#x27;: &lt;class &#x27;int&#x27;&gt;,\n",
       "                                                              &#x27;Pclass&#x27;: &lt;class &#x27;object&#x27;&gt;,\n",
       "                                                              &#x27;Sex&#x27;: &lt;class &#x27;object&#x27;&gt;,\n",
       "                                                              &#x27;SibSp&#x27;: &lt;class &#x27;int&#x27;&gt;,\n",
       "                                                              &#x27;Ticket&#x27;: &lt;class &#x27;object...\n",
       "                                  OneHotEncoderTransformer(column=[&#x27;Embarked&#x27;])),\n",
       "                                 (&#x27;sex_label_encoder&#x27;,\n",
       "                                  LabelEncoderTransformer(column=&#x27;Sex&#x27;)),\n",
       "                                 (&#x27;title_label_encoder&#x27;,\n",
       "                                  LabelEncoderTransformer(column=&#x27;Title&#x27;)),\n",
       "                                 (&#x27;scaler&#x27;,\n",
       "                                  ScalerTransformer(min_max_scaler_features=[&#x27;Fare&#x27;],\n",
       "                                                    standard_scaler_features=[&#x27;Pclass&#x27;,\n",
       "                                                                              &#x27;Age&#x27;,\n",
       "                                                                              &#x27;Sex&#x27;,\n",
       "                                                                              &#x27;FamilySize&#x27;,\n",
       "                                                                              &#x27;Title&#x27;,\n",
       "                                                                              &#x27;Embarked_Q&#x27;,\n",
       "                                                                              &#x27;Embarked_S&#x27;]))])),\n",
       "                (&#x27;model&#x27;, KNeighborsClassifier())])</pre></div> </div></div><div class=\"sk-serial\"><div class=\"sk-item\"><div class=\"sk-label-container\"><div class=\"sk-label fitted sk-toggleable\"><input class=\"sk-toggleable__control sk-hidden--visually\" id=\"sk-estimator-id-2\" type=\"checkbox\" ><label for=\"sk-estimator-id-2\" class=\"sk-toggleable__label fitted sk-toggleable__label-arrow fitted\">&nbsp;preprocessing: Pipeline<a class=\"sk-estimator-doc-link fitted\" rel=\"noreferrer\" target=\"_blank\" href=\"https://scikit-learn.org/1.5/modules/generated/sklearn.pipeline.Pipeline.html\">?<span>Documentation for preprocessing: Pipeline</span></a></label><div class=\"sk-toggleable__content fitted\"><pre>Pipeline(steps=[(&#x27;type_converter&#x27;,\n",
       "                 TypeConverter(type_mapping={&#x27;Age&#x27;: &lt;class &#x27;float&#x27;&gt;,\n",
       "                                             &#x27;Cabin&#x27;: &lt;class &#x27;object&#x27;&gt;,\n",
       "                                             &#x27;Embarked&#x27;: &lt;class &#x27;object&#x27;&gt;,\n",
       "                                             &#x27;Fare&#x27;: &lt;class &#x27;float&#x27;&gt;,\n",
       "                                             &#x27;Name&#x27;: &lt;class &#x27;object&#x27;&gt;,\n",
       "                                             &#x27;Parch&#x27;: &lt;class &#x27;int&#x27;&gt;,\n",
       "                                             &#x27;PassengerId&#x27;: &lt;class &#x27;int&#x27;&gt;,\n",
       "                                             &#x27;Pclass&#x27;: &lt;class &#x27;object&#x27;&gt;,\n",
       "                                             &#x27;Sex&#x27;: &lt;class &#x27;object&#x27;&gt;,\n",
       "                                             &#x27;SibSp&#x27;: &lt;class &#x27;int&#x27;&gt;,\n",
       "                                             &#x27;Ticket&#x27;: &lt;class &#x27;object&#x27;&gt;})),\n",
       "                (&#x27;sex_mapping&#x27;, SexMappingTr...\n",
       "                 DropFeatures(features_to_drop=[&#x27;Name&#x27;, &#x27;SibSp&#x27;, &#x27;Parch&#x27;])),\n",
       "                (&#x27;onehot_encoder&#x27;,\n",
       "                 OneHotEncoderTransformer(column=[&#x27;Embarked&#x27;])),\n",
       "                (&#x27;sex_label_encoder&#x27;, LabelEncoderTransformer(column=&#x27;Sex&#x27;)),\n",
       "                (&#x27;title_label_encoder&#x27;,\n",
       "                 LabelEncoderTransformer(column=&#x27;Title&#x27;)),\n",
       "                (&#x27;scaler&#x27;,\n",
       "                 ScalerTransformer(min_max_scaler_features=[&#x27;Fare&#x27;],\n",
       "                                   standard_scaler_features=[&#x27;Pclass&#x27;, &#x27;Age&#x27;,\n",
       "                                                             &#x27;Sex&#x27;,\n",
       "                                                             &#x27;FamilySize&#x27;,\n",
       "                                                             &#x27;Title&#x27;,\n",
       "                                                             &#x27;Embarked_Q&#x27;,\n",
       "                                                             &#x27;Embarked_S&#x27;]))])</pre></div> </div></div><div class=\"sk-serial\"><div class=\"sk-item\"><div class=\"sk-estimator fitted sk-toggleable\"><input class=\"sk-toggleable__control sk-hidden--visually\" id=\"sk-estimator-id-3\" type=\"checkbox\" ><label for=\"sk-estimator-id-3\" class=\"sk-toggleable__label fitted sk-toggleable__label-arrow fitted\">TypeConverter</label><div class=\"sk-toggleable__content fitted\"><pre>TypeConverter(type_mapping={&#x27;Age&#x27;: &lt;class &#x27;float&#x27;&gt;, &#x27;Cabin&#x27;: &lt;class &#x27;object&#x27;&gt;,\n",
       "                            &#x27;Embarked&#x27;: &lt;class &#x27;object&#x27;&gt;,\n",
       "                            &#x27;Fare&#x27;: &lt;class &#x27;float&#x27;&gt;, &#x27;Name&#x27;: &lt;class &#x27;object&#x27;&gt;,\n",
       "                            &#x27;Parch&#x27;: &lt;class &#x27;int&#x27;&gt;,\n",
       "                            &#x27;PassengerId&#x27;: &lt;class &#x27;int&#x27;&gt;,\n",
       "                            &#x27;Pclass&#x27;: &lt;class &#x27;object&#x27;&gt;, &#x27;Sex&#x27;: &lt;class &#x27;object&#x27;&gt;,\n",
       "                            &#x27;SibSp&#x27;: &lt;class &#x27;int&#x27;&gt;,\n",
       "                            &#x27;Ticket&#x27;: &lt;class &#x27;object&#x27;&gt;})</pre></div> </div></div><div class=\"sk-item\"><div class=\"sk-estimator fitted sk-toggleable\"><input class=\"sk-toggleable__control sk-hidden--visually\" id=\"sk-estimator-id-4\" type=\"checkbox\" ><label for=\"sk-estimator-id-4\" class=\"sk-toggleable__label fitted sk-toggleable__label-arrow fitted\">SexMappingTransformer</label><div class=\"sk-toggleable__content fitted\"><pre>SexMappingTransformer(sex_col=&#x27;Sex&#x27;)</pre></div> </div></div><div class=\"sk-item\"><div class=\"sk-estimator fitted sk-toggleable\"><input class=\"sk-toggleable__control sk-hidden--visually\" id=\"sk-estimator-id-5\" type=\"checkbox\" ><label for=\"sk-estimator-id-5\" class=\"sk-toggleable__label fitted sk-toggleable__label-arrow fitted\">SetIndexByPassengerId</label><div class=\"sk-toggleable__content fitted\"><pre>SetIndexByPassengerId()</pre></div> </div></div><div class=\"sk-item\"><div class=\"sk-estimator fitted sk-toggleable\"><input class=\"sk-toggleable__control sk-hidden--visually\" id=\"sk-estimator-id-6\" type=\"checkbox\" ><label for=\"sk-estimator-id-6\" class=\"sk-toggleable__label fitted sk-toggleable__label-arrow fitted\">DropFeatures</label><div class=\"sk-toggleable__content fitted\"><pre>DropFeatures(features_to_drop=[&#x27;Cabin&#x27;, &#x27;Ticket&#x27;])</pre></div> </div></div><div class=\"sk-item\"><div class=\"sk-estimator fitted sk-toggleable\"><input class=\"sk-toggleable__control sk-hidden--visually\" id=\"sk-estimator-id-7\" type=\"checkbox\" ><label for=\"sk-estimator-id-7\" class=\"sk-toggleable__label fitted sk-toggleable__label-arrow fitted\">ColumnImputer</label><div class=\"sk-toggleable__content fitted\"><pre>ColumnImputer(column_name=&#x27;Age&#x27;, strategy=&#x27;median&#x27;)</pre></div> </div></div><div class=\"sk-item\"><div class=\"sk-estimator fitted sk-toggleable\"><input class=\"sk-toggleable__control sk-hidden--visually\" id=\"sk-estimator-id-8\" type=\"checkbox\" ><label for=\"sk-estimator-id-8\" class=\"sk-toggleable__label fitted sk-toggleable__label-arrow fitted\">ColumnImputer</label><div class=\"sk-toggleable__content fitted\"><pre>ColumnImputer(column_name=&#x27;Embarked&#x27;, strategy=&#x27;most_frequent&#x27;)</pre></div> </div></div><div class=\"sk-item\"><div class=\"sk-estimator fitted sk-toggleable\"><input class=\"sk-toggleable__control sk-hidden--visually\" id=\"sk-estimator-id-9\" type=\"checkbox\" ><label for=\"sk-estimator-id-9\" class=\"sk-toggleable__label fitted sk-toggleable__label-arrow fitted\">FeatureEngineering</label><div class=\"sk-toggleable__content fitted\"><pre>FeatureEngineering()</pre></div> </div></div><div class=\"sk-item\"><div class=\"sk-estimator fitted sk-toggleable\"><input class=\"sk-toggleable__control sk-hidden--visually\" id=\"sk-estimator-id-10\" type=\"checkbox\" ><label for=\"sk-estimator-id-10\" class=\"sk-toggleable__label fitted sk-toggleable__label-arrow fitted\">DropFeatures</label><div class=\"sk-toggleable__content fitted\"><pre>DropFeatures(features_to_drop=[&#x27;Name&#x27;, &#x27;SibSp&#x27;, &#x27;Parch&#x27;])</pre></div> </div></div><div class=\"sk-item\"><div class=\"sk-estimator fitted sk-toggleable\"><input class=\"sk-toggleable__control sk-hidden--visually\" id=\"sk-estimator-id-11\" type=\"checkbox\" ><label for=\"sk-estimator-id-11\" class=\"sk-toggleable__label fitted sk-toggleable__label-arrow fitted\">OneHotEncoderTransformer</label><div class=\"sk-toggleable__content fitted\"><pre>OneHotEncoderTransformer(column=[&#x27;Embarked&#x27;])</pre></div> </div></div><div class=\"sk-item\"><div class=\"sk-estimator fitted sk-toggleable\"><input class=\"sk-toggleable__control sk-hidden--visually\" id=\"sk-estimator-id-12\" type=\"checkbox\" ><label for=\"sk-estimator-id-12\" class=\"sk-toggleable__label fitted sk-toggleable__label-arrow fitted\">LabelEncoderTransformer</label><div class=\"sk-toggleable__content fitted\"><pre>LabelEncoderTransformer(column=&#x27;Sex&#x27;)</pre></div> </div></div><div class=\"sk-item\"><div class=\"sk-estimator fitted sk-toggleable\"><input class=\"sk-toggleable__control sk-hidden--visually\" id=\"sk-estimator-id-13\" type=\"checkbox\" ><label for=\"sk-estimator-id-13\" class=\"sk-toggleable__label fitted sk-toggleable__label-arrow fitted\">LabelEncoderTransformer</label><div class=\"sk-toggleable__content fitted\"><pre>LabelEncoderTransformer(column=&#x27;Title&#x27;)</pre></div> </div></div><div class=\"sk-item\"><div class=\"sk-estimator fitted sk-toggleable\"><input class=\"sk-toggleable__control sk-hidden--visually\" id=\"sk-estimator-id-14\" type=\"checkbox\" ><label for=\"sk-estimator-id-14\" class=\"sk-toggleable__label fitted sk-toggleable__label-arrow fitted\">ScalerTransformer</label><div class=\"sk-toggleable__content fitted\"><pre>ScalerTransformer(min_max_scaler_features=[&#x27;Fare&#x27;],\n",
       "                  standard_scaler_features=[&#x27;Pclass&#x27;, &#x27;Age&#x27;, &#x27;Sex&#x27;,\n",
       "                                            &#x27;FamilySize&#x27;, &#x27;Title&#x27;, &#x27;Embarked_Q&#x27;,\n",
       "                                            &#x27;Embarked_S&#x27;])</pre></div> </div></div></div></div><div class=\"sk-item\"><div class=\"sk-estimator fitted sk-toggleable\"><input class=\"sk-toggleable__control sk-hidden--visually\" id=\"sk-estimator-id-15\" type=\"checkbox\" ><label for=\"sk-estimator-id-15\" class=\"sk-toggleable__label fitted sk-toggleable__label-arrow fitted\">&nbsp;KNeighborsClassifier<a class=\"sk-estimator-doc-link fitted\" rel=\"noreferrer\" target=\"_blank\" href=\"https://scikit-learn.org/1.5/modules/generated/sklearn.neighbors.KNeighborsClassifier.html\">?<span>Documentation for KNeighborsClassifier</span></a></label><div class=\"sk-toggleable__content fitted\"><pre>KNeighborsClassifier()</pre></div> </div></div></div></div></div></div>"
      ],
      "text/plain": [
       "Pipeline(steps=[('preprocessing',\n",
       "                 Pipeline(steps=[('type_converter',\n",
       "                                  TypeConverter(type_mapping={'Age': <class 'float'>,\n",
       "                                                              'Cabin': <class 'object'>,\n",
       "                                                              'Embarked': <class 'object'>,\n",
       "                                                              'Fare': <class 'float'>,\n",
       "                                                              'Name': <class 'object'>,\n",
       "                                                              'Parch': <class 'int'>,\n",
       "                                                              'PassengerId': <class 'int'>,\n",
       "                                                              'Pclass': <class 'object'>,\n",
       "                                                              'Sex': <class 'object'>,\n",
       "                                                              'SibSp': <class 'int'>,\n",
       "                                                              'Ticket': <class 'object...\n",
       "                                  OneHotEncoderTransformer(column=['Embarked'])),\n",
       "                                 ('sex_label_encoder',\n",
       "                                  LabelEncoderTransformer(column='Sex')),\n",
       "                                 ('title_label_encoder',\n",
       "                                  LabelEncoderTransformer(column='Title')),\n",
       "                                 ('scaler',\n",
       "                                  ScalerTransformer(min_max_scaler_features=['Fare'],\n",
       "                                                    standard_scaler_features=['Pclass',\n",
       "                                                                              'Age',\n",
       "                                                                              'Sex',\n",
       "                                                                              'FamilySize',\n",
       "                                                                              'Title',\n",
       "                                                                              'Embarked_Q',\n",
       "                                                                              'Embarked_S']))])),\n",
       "                ('model', KNeighborsClassifier())])"
      ]
     },
     "execution_count": 65,
     "metadata": {},
     "output_type": "execute_result"
    }
   ],
   "source": [
    "combined_pipeline.fit(X_train, y_train)"
   ]
  },
  {
   "cell_type": "code",
   "execution_count": 66,
   "metadata": {},
   "outputs": [
    {
     "name": "stdout",
     "output_type": "stream",
     "text": [
      "\n",
      "KNN Model Accuracy:\n",
      "Training Accuracy: 0.8408\n",
      "Validation Accuracy: 0.8258\n"
     ]
    }
   ],
   "source": [
    "y_train_pred = combined_pipeline.predict(X_train)\n",
    "y_val_pred = combined_pipeline.predict(X_val)\n",
    "\n",
    "train_acc = accuracy_score(y_train, y_train_pred)\n",
    "val_acc = accuracy_score(y_val, y_val_pred)\n",
    "\n",
    "print(\"\\nKNN Model Accuracy:\")\n",
    "print(f\"Training Accuracy: {train_acc:.4f}\")\n",
    "print(f\"Validation Accuracy: {val_acc:.4f}\")"
   ]
  },
  {
   "cell_type": "markdown",
   "metadata": {},
   "source": [
    "# Fine-Tuning the Model"
   ]
  },
  {
   "cell_type": "markdown",
   "metadata": {},
   "source": [
    "### Grid Search"
   ]
  },
  {
   "cell_type": "code",
   "execution_count": 67,
   "metadata": {},
   "outputs": [
    {
     "name": "stdout",
     "output_type": "stream",
     "text": [
      "Best Parameters (Grid Search): {'model__metric': 'manhattan', 'model__n_neighbors': 9, 'model__weights': 'uniform'}\n",
      "Best Accuracy (Grid Search): 0.8108799153588432\n",
      "Validation Accuracy (Grid Search): 0.8427\n"
     ]
    }
   ],
   "source": [
    "from sklearn.model_selection import GridSearchCV\n",
    "\n",
    "param_grid = {\n",
    "    'model__n_neighbors': [3, 5, 7, 9],\n",
    "    'model__weights': ['uniform', 'distance'],\n",
    "    'model__metric': ['euclidean', 'manhattan']\n",
    "}\n",
    "\n",
    "grid_search = GridSearchCV(\n",
    "    estimator=combined_pipeline,\n",
    "    param_grid=param_grid,\n",
    "    cv=5,  \n",
    "    scoring='accuracy',\n",
    "    n_jobs=-1\n",
    ")\n",
    "\n",
    "grid_search.fit(X_train, y_train)\n",
    "\n",
    "print(\"Best Parameters (Grid Search):\", grid_search.best_params_)\n",
    "print(\"Best Accuracy (Grid Search):\", grid_search.best_score_)\n",
    "\n",
    "best_pipeline_grid = grid_search.best_estimator_\n",
    "y_val_pred_grid = best_pipeline_grid.predict(X_val)\n",
    "val_acc_grid = accuracy_score(y_val, y_val_pred_grid)\n",
    "print(f\"Validation Accuracy (Grid Search): {val_acc_grid:.4f}\")"
   ]
  },
  {
   "cell_type": "code",
   "execution_count": 68,
   "metadata": {},
   "outputs": [
    {
     "name": "stdout",
     "output_type": "stream",
     "text": [
      "All Grid Search Results:\n"
     ]
    },
    {
     "data": {
      "text/html": [
       "<div>\n",
       "<style scoped>\n",
       "    .dataframe tbody tr th:only-of-type {\n",
       "        vertical-align: middle;\n",
       "    }\n",
       "\n",
       "    .dataframe tbody tr th {\n",
       "        vertical-align: top;\n",
       "    }\n",
       "\n",
       "    .dataframe thead th {\n",
       "        text-align: right;\n",
       "    }\n",
       "</style>\n",
       "<table border=\"1\" class=\"dataframe\">\n",
       "  <thead>\n",
       "    <tr style=\"text-align: right;\">\n",
       "      <th></th>\n",
       "      <th>param_model__n_neighbors</th>\n",
       "      <th>param_model__weights</th>\n",
       "      <th>param_model__metric</th>\n",
       "      <th>mean_test_score</th>\n",
       "    </tr>\n",
       "  </thead>\n",
       "  <tbody>\n",
       "    <tr>\n",
       "      <th>0</th>\n",
       "      <td>3</td>\n",
       "      <td>uniform</td>\n",
       "      <td>euclidean</td>\n",
       "      <td>0.775331</td>\n",
       "    </tr>\n",
       "    <tr>\n",
       "      <th>1</th>\n",
       "      <td>3</td>\n",
       "      <td>distance</td>\n",
       "      <td>euclidean</td>\n",
       "      <td>0.756657</td>\n",
       "    </tr>\n",
       "    <tr>\n",
       "      <th>2</th>\n",
       "      <td>5</td>\n",
       "      <td>uniform</td>\n",
       "      <td>euclidean</td>\n",
       "      <td>0.790284</td>\n",
       "    </tr>\n",
       "    <tr>\n",
       "      <th>3</th>\n",
       "      <td>5</td>\n",
       "      <td>distance</td>\n",
       "      <td>euclidean</td>\n",
       "      <td>0.779087</td>\n",
       "    </tr>\n",
       "    <tr>\n",
       "      <th>4</th>\n",
       "      <td>7</td>\n",
       "      <td>uniform</td>\n",
       "      <td>euclidean</td>\n",
       "      <td>0.799647</td>\n",
       "    </tr>\n",
       "    <tr>\n",
       "      <th>5</th>\n",
       "      <td>7</td>\n",
       "      <td>distance</td>\n",
       "      <td>euclidean</td>\n",
       "      <td>0.777217</td>\n",
       "    </tr>\n",
       "    <tr>\n",
       "      <th>6</th>\n",
       "      <td>9</td>\n",
       "      <td>uniform</td>\n",
       "      <td>euclidean</td>\n",
       "      <td>0.805290</td>\n",
       "    </tr>\n",
       "    <tr>\n",
       "      <th>7</th>\n",
       "      <td>9</td>\n",
       "      <td>distance</td>\n",
       "      <td>euclidean</td>\n",
       "      <td>0.777235</td>\n",
       "    </tr>\n",
       "    <tr>\n",
       "      <th>8</th>\n",
       "      <td>3</td>\n",
       "      <td>uniform</td>\n",
       "      <td>manhattan</td>\n",
       "      <td>0.784676</td>\n",
       "    </tr>\n",
       "    <tr>\n",
       "      <th>9</th>\n",
       "      <td>3</td>\n",
       "      <td>distance</td>\n",
       "      <td>manhattan</td>\n",
       "      <td>0.760377</td>\n",
       "    </tr>\n",
       "    <tr>\n",
       "      <th>10</th>\n",
       "      <td>5</td>\n",
       "      <td>uniform</td>\n",
       "      <td>manhattan</td>\n",
       "      <td>0.799647</td>\n",
       "    </tr>\n",
       "    <tr>\n",
       "      <th>11</th>\n",
       "      <td>5</td>\n",
       "      <td>distance</td>\n",
       "      <td>manhattan</td>\n",
       "      <td>0.777217</td>\n",
       "    </tr>\n",
       "    <tr>\n",
       "      <th>12</th>\n",
       "      <td>7</td>\n",
       "      <td>uniform</td>\n",
       "      <td>manhattan</td>\n",
       "      <td>0.809011</td>\n",
       "    </tr>\n",
       "    <tr>\n",
       "      <th>13</th>\n",
       "      <td>7</td>\n",
       "      <td>distance</td>\n",
       "      <td>manhattan</td>\n",
       "      <td>0.777217</td>\n",
       "    </tr>\n",
       "    <tr>\n",
       "      <th>14</th>\n",
       "      <td>9</td>\n",
       "      <td>uniform</td>\n",
       "      <td>manhattan</td>\n",
       "      <td>0.810880</td>\n",
       "    </tr>\n",
       "    <tr>\n",
       "      <th>15</th>\n",
       "      <td>9</td>\n",
       "      <td>distance</td>\n",
       "      <td>manhattan</td>\n",
       "      <td>0.777235</td>\n",
       "    </tr>\n",
       "  </tbody>\n",
       "</table>\n",
       "</div>"
      ],
      "text/plain": [
       "    param_model__n_neighbors param_model__weights param_model__metric  \\\n",
       "0                          3              uniform           euclidean   \n",
       "1                          3             distance           euclidean   \n",
       "2                          5              uniform           euclidean   \n",
       "3                          5             distance           euclidean   \n",
       "4                          7              uniform           euclidean   \n",
       "5                          7             distance           euclidean   \n",
       "6                          9              uniform           euclidean   \n",
       "7                          9             distance           euclidean   \n",
       "8                          3              uniform           manhattan   \n",
       "9                          3             distance           manhattan   \n",
       "10                         5              uniform           manhattan   \n",
       "11                         5             distance           manhattan   \n",
       "12                         7              uniform           manhattan   \n",
       "13                         7             distance           manhattan   \n",
       "14                         9              uniform           manhattan   \n",
       "15                         9             distance           manhattan   \n",
       "\n",
       "    mean_test_score  \n",
       "0          0.775331  \n",
       "1          0.756657  \n",
       "2          0.790284  \n",
       "3          0.779087  \n",
       "4          0.799647  \n",
       "5          0.777217  \n",
       "6          0.805290  \n",
       "7          0.777235  \n",
       "8          0.784676  \n",
       "9          0.760377  \n",
       "10         0.799647  \n",
       "11         0.777217  \n",
       "12         0.809011  \n",
       "13         0.777217  \n",
       "14         0.810880  \n",
       "15         0.777235  "
      ]
     },
     "execution_count": 68,
     "metadata": {},
     "output_type": "execute_result"
    }
   ],
   "source": [
    "results_df = pd.DataFrame(grid_search.cv_results_)\n",
    "\n",
    "print(\"All Grid Search Results:\")\n",
    "results_df[['param_model__n_neighbors', 'param_model__weights', 'param_model__metric', 'mean_test_score']]\n"
   ]
  },
  {
   "cell_type": "markdown",
   "metadata": {},
   "source": [
    "### Randomized Search"
   ]
  },
  {
   "cell_type": "code",
   "execution_count": 69,
   "metadata": {},
   "outputs": [
    {
     "name": "stdout",
     "output_type": "stream",
     "text": [
      "Best Parameters (Randomized Search): {'model__weights': 'uniform', 'model__n_neighbors': 15, 'model__metric': 'manhattan'}\n",
      "Best Accuracy (Randomized Search): 0.8221301357785225\n",
      "Validation Accuracy (Randomized Search): 0.8258\n"
     ]
    }
   ],
   "source": [
    "from sklearn.model_selection import RandomizedSearchCV\n",
    "import numpy as np\n",
    "\n",
    "param_distributions = {\n",
    "    'model__n_neighbors': np.arange(1, 20),\n",
    "    'model__weights': ['uniform', 'distance'],\n",
    "    'model__metric': ['euclidean', 'manhattan', 'chebyshev']\n",
    "}\n",
    "\n",
    "random_search = RandomizedSearchCV(\n",
    "    estimator=combined_pipeline,\n",
    "    param_distributions=param_distributions,\n",
    "    n_iter=20,\n",
    "    cv=5,\n",
    "    scoring='accuracy',\n",
    "    n_jobs=-1,\n",
    "    random_state=42\n",
    ")\n",
    "\n",
    "random_search.fit(X_train, y_train)\n",
    "\n",
    "print(\"Best Parameters (Randomized Search):\", random_search.best_params_)\n",
    "print(\"Best Accuracy (Randomized Search):\", random_search.best_score_)\n",
    "\n",
    "best_pipeline_random = random_search.best_estimator_\n",
    "y_val_pred_random = best_pipeline_random.predict(X_val)\n",
    "val_acc_random = accuracy_score(y_val, y_val_pred_random)\n",
    "print(f\"Validation Accuracy (Randomized Search): {val_acc_random:.4f}\")"
   ]
  },
  {
   "cell_type": "code",
   "execution_count": 70,
   "metadata": {},
   "outputs": [
    {
     "name": "stdout",
     "output_type": "stream",
     "text": [
      "All Random Search Results:\n"
     ]
    },
    {
     "data": {
      "text/html": [
       "<div>\n",
       "<style scoped>\n",
       "    .dataframe tbody tr th:only-of-type {\n",
       "        vertical-align: middle;\n",
       "    }\n",
       "\n",
       "    .dataframe tbody tr th {\n",
       "        vertical-align: top;\n",
       "    }\n",
       "\n",
       "    .dataframe thead th {\n",
       "        text-align: right;\n",
       "    }\n",
       "</style>\n",
       "<table border=\"1\" class=\"dataframe\">\n",
       "  <thead>\n",
       "    <tr style=\"text-align: right;\">\n",
       "      <th></th>\n",
       "      <th>param_model__n_neighbors</th>\n",
       "      <th>param_model__weights</th>\n",
       "      <th>param_model__metric</th>\n",
       "      <th>mean_test_score</th>\n",
       "    </tr>\n",
       "  </thead>\n",
       "  <tbody>\n",
       "    <tr>\n",
       "      <th>0</th>\n",
       "      <td>3</td>\n",
       "      <td>uniform</td>\n",
       "      <td>chebyshev</td>\n",
       "      <td>0.771539</td>\n",
       "    </tr>\n",
       "    <tr>\n",
       "      <th>1</th>\n",
       "      <td>3</td>\n",
       "      <td>uniform</td>\n",
       "      <td>euclidean</td>\n",
       "      <td>0.775331</td>\n",
       "    </tr>\n",
       "    <tr>\n",
       "      <th>2</th>\n",
       "      <td>2</td>\n",
       "      <td>uniform</td>\n",
       "      <td>manhattan</td>\n",
       "      <td>0.764098</td>\n",
       "    </tr>\n",
       "    <tr>\n",
       "      <th>3</th>\n",
       "      <td>16</td>\n",
       "      <td>distance</td>\n",
       "      <td>manhattan</td>\n",
       "      <td>0.790337</td>\n",
       "    </tr>\n",
       "    <tr>\n",
       "      <th>4</th>\n",
       "      <td>6</td>\n",
       "      <td>uniform</td>\n",
       "      <td>euclidean</td>\n",
       "      <td>0.809028</td>\n",
       "    </tr>\n",
       "    <tr>\n",
       "      <th>5</th>\n",
       "      <td>4</td>\n",
       "      <td>distance</td>\n",
       "      <td>manhattan</td>\n",
       "      <td>0.762247</td>\n",
       "    </tr>\n",
       "    <tr>\n",
       "      <th>6</th>\n",
       "      <td>17</td>\n",
       "      <td>uniform</td>\n",
       "      <td>manhattan</td>\n",
       "      <td>0.812784</td>\n",
       "    </tr>\n",
       "    <tr>\n",
       "      <th>7</th>\n",
       "      <td>15</td>\n",
       "      <td>uniform</td>\n",
       "      <td>manhattan</td>\n",
       "      <td>0.822130</td>\n",
       "    </tr>\n",
       "    <tr>\n",
       "      <th>8</th>\n",
       "      <td>5</td>\n",
       "      <td>distance</td>\n",
       "      <td>manhattan</td>\n",
       "      <td>0.777217</td>\n",
       "    </tr>\n",
       "    <tr>\n",
       "      <th>9</th>\n",
       "      <td>6</td>\n",
       "      <td>distance</td>\n",
       "      <td>euclidean</td>\n",
       "      <td>0.767872</td>\n",
       "    </tr>\n",
       "    <tr>\n",
       "      <th>10</th>\n",
       "      <td>12</td>\n",
       "      <td>uniform</td>\n",
       "      <td>chebyshev</td>\n",
       "      <td>0.790231</td>\n",
       "    </tr>\n",
       "    <tr>\n",
       "      <th>11</th>\n",
       "      <td>19</td>\n",
       "      <td>uniform</td>\n",
       "      <td>euclidean</td>\n",
       "      <td>0.803386</td>\n",
       "    </tr>\n",
       "    <tr>\n",
       "      <th>12</th>\n",
       "      <td>4</td>\n",
       "      <td>distance</td>\n",
       "      <td>chebyshev</td>\n",
       "      <td>0.765914</td>\n",
       "    </tr>\n",
       "    <tr>\n",
       "      <th>13</th>\n",
       "      <td>19</td>\n",
       "      <td>uniform</td>\n",
       "      <td>chebyshev</td>\n",
       "      <td>0.790284</td>\n",
       "    </tr>\n",
       "    <tr>\n",
       "      <th>14</th>\n",
       "      <td>10</td>\n",
       "      <td>uniform</td>\n",
       "      <td>euclidean</td>\n",
       "      <td>0.814654</td>\n",
       "    </tr>\n",
       "    <tr>\n",
       "      <th>15</th>\n",
       "      <td>1</td>\n",
       "      <td>uniform</td>\n",
       "      <td>euclidean</td>\n",
       "      <td>0.722818</td>\n",
       "    </tr>\n",
       "    <tr>\n",
       "      <th>16</th>\n",
       "      <td>18</td>\n",
       "      <td>uniform</td>\n",
       "      <td>manhattan</td>\n",
       "      <td>0.810845</td>\n",
       "    </tr>\n",
       "    <tr>\n",
       "      <th>17</th>\n",
       "      <td>14</td>\n",
       "      <td>uniform</td>\n",
       "      <td>euclidean</td>\n",
       "      <td>0.818339</td>\n",
       "    </tr>\n",
       "    <tr>\n",
       "      <th>18</th>\n",
       "      <td>3</td>\n",
       "      <td>distance</td>\n",
       "      <td>chebyshev</td>\n",
       "      <td>0.751014</td>\n",
       "    </tr>\n",
       "    <tr>\n",
       "      <th>19</th>\n",
       "      <td>8</td>\n",
       "      <td>distance</td>\n",
       "      <td>manhattan</td>\n",
       "      <td>0.777235</td>\n",
       "    </tr>\n",
       "  </tbody>\n",
       "</table>\n",
       "</div>"
      ],
      "text/plain": [
       "    param_model__n_neighbors param_model__weights param_model__metric  \\\n",
       "0                          3              uniform           chebyshev   \n",
       "1                          3              uniform           euclidean   \n",
       "2                          2              uniform           manhattan   \n",
       "3                         16             distance           manhattan   \n",
       "4                          6              uniform           euclidean   \n",
       "5                          4             distance           manhattan   \n",
       "6                         17              uniform           manhattan   \n",
       "7                         15              uniform           manhattan   \n",
       "8                          5             distance           manhattan   \n",
       "9                          6             distance           euclidean   \n",
       "10                        12              uniform           chebyshev   \n",
       "11                        19              uniform           euclidean   \n",
       "12                         4             distance           chebyshev   \n",
       "13                        19              uniform           chebyshev   \n",
       "14                        10              uniform           euclidean   \n",
       "15                         1              uniform           euclidean   \n",
       "16                        18              uniform           manhattan   \n",
       "17                        14              uniform           euclidean   \n",
       "18                         3             distance           chebyshev   \n",
       "19                         8             distance           manhattan   \n",
       "\n",
       "    mean_test_score  \n",
       "0          0.771539  \n",
       "1          0.775331  \n",
       "2          0.764098  \n",
       "3          0.790337  \n",
       "4          0.809028  \n",
       "5          0.762247  \n",
       "6          0.812784  \n",
       "7          0.822130  \n",
       "8          0.777217  \n",
       "9          0.767872  \n",
       "10         0.790231  \n",
       "11         0.803386  \n",
       "12         0.765914  \n",
       "13         0.790284  \n",
       "14         0.814654  \n",
       "15         0.722818  \n",
       "16         0.810845  \n",
       "17         0.818339  \n",
       "18         0.751014  \n",
       "19         0.777235  "
      ]
     },
     "execution_count": 70,
     "metadata": {},
     "output_type": "execute_result"
    }
   ],
   "source": [
    "results_df = pd.DataFrame(random_search.cv_results_)\n",
    "\n",
    "print(\"All Random Search Results:\")\n",
    "results_df[['param_model__n_neighbors', 'param_model__weights', 'param_model__metric', 'mean_test_score']]"
   ]
  },
  {
   "cell_type": "code",
   "execution_count": 71,
   "metadata": {},
   "outputs": [
    {
     "data": {
      "text/html": [
       "<style>#sk-container-id-2 {\n",
       "  /* Definition of color scheme common for light and dark mode */\n",
       "  --sklearn-color-text: black;\n",
       "  --sklearn-color-line: gray;\n",
       "  /* Definition of color scheme for unfitted estimators */\n",
       "  --sklearn-color-unfitted-level-0: #fff5e6;\n",
       "  --sklearn-color-unfitted-level-1: #f6e4d2;\n",
       "  --sklearn-color-unfitted-level-2: #ffe0b3;\n",
       "  --sklearn-color-unfitted-level-3: chocolate;\n",
       "  /* Definition of color scheme for fitted estimators */\n",
       "  --sklearn-color-fitted-level-0: #f0f8ff;\n",
       "  --sklearn-color-fitted-level-1: #d4ebff;\n",
       "  --sklearn-color-fitted-level-2: #b3dbfd;\n",
       "  --sklearn-color-fitted-level-3: cornflowerblue;\n",
       "\n",
       "  /* Specific color for light theme */\n",
       "  --sklearn-color-text-on-default-background: var(--sg-text-color, var(--theme-code-foreground, var(--jp-content-font-color1, black)));\n",
       "  --sklearn-color-background: var(--sg-background-color, var(--theme-background, var(--jp-layout-color0, white)));\n",
       "  --sklearn-color-border-box: var(--sg-text-color, var(--theme-code-foreground, var(--jp-content-font-color1, black)));\n",
       "  --sklearn-color-icon: #696969;\n",
       "\n",
       "  @media (prefers-color-scheme: dark) {\n",
       "    /* Redefinition of color scheme for dark theme */\n",
       "    --sklearn-color-text-on-default-background: var(--sg-text-color, var(--theme-code-foreground, var(--jp-content-font-color1, white)));\n",
       "    --sklearn-color-background: var(--sg-background-color, var(--theme-background, var(--jp-layout-color0, #111)));\n",
       "    --sklearn-color-border-box: var(--sg-text-color, var(--theme-code-foreground, var(--jp-content-font-color1, white)));\n",
       "    --sklearn-color-icon: #878787;\n",
       "  }\n",
       "}\n",
       "\n",
       "#sk-container-id-2 {\n",
       "  color: var(--sklearn-color-text);\n",
       "}\n",
       "\n",
       "#sk-container-id-2 pre {\n",
       "  padding: 0;\n",
       "}\n",
       "\n",
       "#sk-container-id-2 input.sk-hidden--visually {\n",
       "  border: 0;\n",
       "  clip: rect(1px 1px 1px 1px);\n",
       "  clip: rect(1px, 1px, 1px, 1px);\n",
       "  height: 1px;\n",
       "  margin: -1px;\n",
       "  overflow: hidden;\n",
       "  padding: 0;\n",
       "  position: absolute;\n",
       "  width: 1px;\n",
       "}\n",
       "\n",
       "#sk-container-id-2 div.sk-dashed-wrapped {\n",
       "  border: 1px dashed var(--sklearn-color-line);\n",
       "  margin: 0 0.4em 0.5em 0.4em;\n",
       "  box-sizing: border-box;\n",
       "  padding-bottom: 0.4em;\n",
       "  background-color: var(--sklearn-color-background);\n",
       "}\n",
       "\n",
       "#sk-container-id-2 div.sk-container {\n",
       "  /* jupyter's `normalize.less` sets `[hidden] { display: none; }`\n",
       "     but bootstrap.min.css set `[hidden] { display: none !important; }`\n",
       "     so we also need the `!important` here to be able to override the\n",
       "     default hidden behavior on the sphinx rendered scikit-learn.org.\n",
       "     See: https://github.com/scikit-learn/scikit-learn/issues/21755 */\n",
       "  display: inline-block !important;\n",
       "  position: relative;\n",
       "}\n",
       "\n",
       "#sk-container-id-2 div.sk-text-repr-fallback {\n",
       "  display: none;\n",
       "}\n",
       "\n",
       "div.sk-parallel-item,\n",
       "div.sk-serial,\n",
       "div.sk-item {\n",
       "  /* draw centered vertical line to link estimators */\n",
       "  background-image: linear-gradient(var(--sklearn-color-text-on-default-background), var(--sklearn-color-text-on-default-background));\n",
       "  background-size: 2px 100%;\n",
       "  background-repeat: no-repeat;\n",
       "  background-position: center center;\n",
       "}\n",
       "\n",
       "/* Parallel-specific style estimator block */\n",
       "\n",
       "#sk-container-id-2 div.sk-parallel-item::after {\n",
       "  content: \"\";\n",
       "  width: 100%;\n",
       "  border-bottom: 2px solid var(--sklearn-color-text-on-default-background);\n",
       "  flex-grow: 1;\n",
       "}\n",
       "\n",
       "#sk-container-id-2 div.sk-parallel {\n",
       "  display: flex;\n",
       "  align-items: stretch;\n",
       "  justify-content: center;\n",
       "  background-color: var(--sklearn-color-background);\n",
       "  position: relative;\n",
       "}\n",
       "\n",
       "#sk-container-id-2 div.sk-parallel-item {\n",
       "  display: flex;\n",
       "  flex-direction: column;\n",
       "}\n",
       "\n",
       "#sk-container-id-2 div.sk-parallel-item:first-child::after {\n",
       "  align-self: flex-end;\n",
       "  width: 50%;\n",
       "}\n",
       "\n",
       "#sk-container-id-2 div.sk-parallel-item:last-child::after {\n",
       "  align-self: flex-start;\n",
       "  width: 50%;\n",
       "}\n",
       "\n",
       "#sk-container-id-2 div.sk-parallel-item:only-child::after {\n",
       "  width: 0;\n",
       "}\n",
       "\n",
       "/* Serial-specific style estimator block */\n",
       "\n",
       "#sk-container-id-2 div.sk-serial {\n",
       "  display: flex;\n",
       "  flex-direction: column;\n",
       "  align-items: center;\n",
       "  background-color: var(--sklearn-color-background);\n",
       "  padding-right: 1em;\n",
       "  padding-left: 1em;\n",
       "}\n",
       "\n",
       "\n",
       "/* Toggleable style: style used for estimator/Pipeline/ColumnTransformer box that is\n",
       "clickable and can be expanded/collapsed.\n",
       "- Pipeline and ColumnTransformer use this feature and define the default style\n",
       "- Estimators will overwrite some part of the style using the `sk-estimator` class\n",
       "*/\n",
       "\n",
       "/* Pipeline and ColumnTransformer style (default) */\n",
       "\n",
       "#sk-container-id-2 div.sk-toggleable {\n",
       "  /* Default theme specific background. It is overwritten whether we have a\n",
       "  specific estimator or a Pipeline/ColumnTransformer */\n",
       "  background-color: var(--sklearn-color-background);\n",
       "}\n",
       "\n",
       "/* Toggleable label */\n",
       "#sk-container-id-2 label.sk-toggleable__label {\n",
       "  cursor: pointer;\n",
       "  display: block;\n",
       "  width: 100%;\n",
       "  margin-bottom: 0;\n",
       "  padding: 0.5em;\n",
       "  box-sizing: border-box;\n",
       "  text-align: center;\n",
       "}\n",
       "\n",
       "#sk-container-id-2 label.sk-toggleable__label-arrow:before {\n",
       "  /* Arrow on the left of the label */\n",
       "  content: \"▸\";\n",
       "  float: left;\n",
       "  margin-right: 0.25em;\n",
       "  color: var(--sklearn-color-icon);\n",
       "}\n",
       "\n",
       "#sk-container-id-2 label.sk-toggleable__label-arrow:hover:before {\n",
       "  color: var(--sklearn-color-text);\n",
       "}\n",
       "\n",
       "/* Toggleable content - dropdown */\n",
       "\n",
       "#sk-container-id-2 div.sk-toggleable__content {\n",
       "  max-height: 0;\n",
       "  max-width: 0;\n",
       "  overflow: hidden;\n",
       "  text-align: left;\n",
       "  /* unfitted */\n",
       "  background-color: var(--sklearn-color-unfitted-level-0);\n",
       "}\n",
       "\n",
       "#sk-container-id-2 div.sk-toggleable__content.fitted {\n",
       "  /* fitted */\n",
       "  background-color: var(--sklearn-color-fitted-level-0);\n",
       "}\n",
       "\n",
       "#sk-container-id-2 div.sk-toggleable__content pre {\n",
       "  margin: 0.2em;\n",
       "  border-radius: 0.25em;\n",
       "  color: var(--sklearn-color-text);\n",
       "  /* unfitted */\n",
       "  background-color: var(--sklearn-color-unfitted-level-0);\n",
       "}\n",
       "\n",
       "#sk-container-id-2 div.sk-toggleable__content.fitted pre {\n",
       "  /* unfitted */\n",
       "  background-color: var(--sklearn-color-fitted-level-0);\n",
       "}\n",
       "\n",
       "#sk-container-id-2 input.sk-toggleable__control:checked~div.sk-toggleable__content {\n",
       "  /* Expand drop-down */\n",
       "  max-height: 200px;\n",
       "  max-width: 100%;\n",
       "  overflow: auto;\n",
       "}\n",
       "\n",
       "#sk-container-id-2 input.sk-toggleable__control:checked~label.sk-toggleable__label-arrow:before {\n",
       "  content: \"▾\";\n",
       "}\n",
       "\n",
       "/* Pipeline/ColumnTransformer-specific style */\n",
       "\n",
       "#sk-container-id-2 div.sk-label input.sk-toggleable__control:checked~label.sk-toggleable__label {\n",
       "  color: var(--sklearn-color-text);\n",
       "  background-color: var(--sklearn-color-unfitted-level-2);\n",
       "}\n",
       "\n",
       "#sk-container-id-2 div.sk-label.fitted input.sk-toggleable__control:checked~label.sk-toggleable__label {\n",
       "  background-color: var(--sklearn-color-fitted-level-2);\n",
       "}\n",
       "\n",
       "/* Estimator-specific style */\n",
       "\n",
       "/* Colorize estimator box */\n",
       "#sk-container-id-2 div.sk-estimator input.sk-toggleable__control:checked~label.sk-toggleable__label {\n",
       "  /* unfitted */\n",
       "  background-color: var(--sklearn-color-unfitted-level-2);\n",
       "}\n",
       "\n",
       "#sk-container-id-2 div.sk-estimator.fitted input.sk-toggleable__control:checked~label.sk-toggleable__label {\n",
       "  /* fitted */\n",
       "  background-color: var(--sklearn-color-fitted-level-2);\n",
       "}\n",
       "\n",
       "#sk-container-id-2 div.sk-label label.sk-toggleable__label,\n",
       "#sk-container-id-2 div.sk-label label {\n",
       "  /* The background is the default theme color */\n",
       "  color: var(--sklearn-color-text-on-default-background);\n",
       "}\n",
       "\n",
       "/* On hover, darken the color of the background */\n",
       "#sk-container-id-2 div.sk-label:hover label.sk-toggleable__label {\n",
       "  color: var(--sklearn-color-text);\n",
       "  background-color: var(--sklearn-color-unfitted-level-2);\n",
       "}\n",
       "\n",
       "/* Label box, darken color on hover, fitted */\n",
       "#sk-container-id-2 div.sk-label.fitted:hover label.sk-toggleable__label.fitted {\n",
       "  color: var(--sklearn-color-text);\n",
       "  background-color: var(--sklearn-color-fitted-level-2);\n",
       "}\n",
       "\n",
       "/* Estimator label */\n",
       "\n",
       "#sk-container-id-2 div.sk-label label {\n",
       "  font-family: monospace;\n",
       "  font-weight: bold;\n",
       "  display: inline-block;\n",
       "  line-height: 1.2em;\n",
       "}\n",
       "\n",
       "#sk-container-id-2 div.sk-label-container {\n",
       "  text-align: center;\n",
       "}\n",
       "\n",
       "/* Estimator-specific */\n",
       "#sk-container-id-2 div.sk-estimator {\n",
       "  font-family: monospace;\n",
       "  border: 1px dotted var(--sklearn-color-border-box);\n",
       "  border-radius: 0.25em;\n",
       "  box-sizing: border-box;\n",
       "  margin-bottom: 0.5em;\n",
       "  /* unfitted */\n",
       "  background-color: var(--sklearn-color-unfitted-level-0);\n",
       "}\n",
       "\n",
       "#sk-container-id-2 div.sk-estimator.fitted {\n",
       "  /* fitted */\n",
       "  background-color: var(--sklearn-color-fitted-level-0);\n",
       "}\n",
       "\n",
       "/* on hover */\n",
       "#sk-container-id-2 div.sk-estimator:hover {\n",
       "  /* unfitted */\n",
       "  background-color: var(--sklearn-color-unfitted-level-2);\n",
       "}\n",
       "\n",
       "#sk-container-id-2 div.sk-estimator.fitted:hover {\n",
       "  /* fitted */\n",
       "  background-color: var(--sklearn-color-fitted-level-2);\n",
       "}\n",
       "\n",
       "/* Specification for estimator info (e.g. \"i\" and \"?\") */\n",
       "\n",
       "/* Common style for \"i\" and \"?\" */\n",
       "\n",
       ".sk-estimator-doc-link,\n",
       "a:link.sk-estimator-doc-link,\n",
       "a:visited.sk-estimator-doc-link {\n",
       "  float: right;\n",
       "  font-size: smaller;\n",
       "  line-height: 1em;\n",
       "  font-family: monospace;\n",
       "  background-color: var(--sklearn-color-background);\n",
       "  border-radius: 1em;\n",
       "  height: 1em;\n",
       "  width: 1em;\n",
       "  text-decoration: none !important;\n",
       "  margin-left: 1ex;\n",
       "  /* unfitted */\n",
       "  border: var(--sklearn-color-unfitted-level-1) 1pt solid;\n",
       "  color: var(--sklearn-color-unfitted-level-1);\n",
       "}\n",
       "\n",
       ".sk-estimator-doc-link.fitted,\n",
       "a:link.sk-estimator-doc-link.fitted,\n",
       "a:visited.sk-estimator-doc-link.fitted {\n",
       "  /* fitted */\n",
       "  border: var(--sklearn-color-fitted-level-1) 1pt solid;\n",
       "  color: var(--sklearn-color-fitted-level-1);\n",
       "}\n",
       "\n",
       "/* On hover */\n",
       "div.sk-estimator:hover .sk-estimator-doc-link:hover,\n",
       ".sk-estimator-doc-link:hover,\n",
       "div.sk-label-container:hover .sk-estimator-doc-link:hover,\n",
       ".sk-estimator-doc-link:hover {\n",
       "  /* unfitted */\n",
       "  background-color: var(--sklearn-color-unfitted-level-3);\n",
       "  color: var(--sklearn-color-background);\n",
       "  text-decoration: none;\n",
       "}\n",
       "\n",
       "div.sk-estimator.fitted:hover .sk-estimator-doc-link.fitted:hover,\n",
       ".sk-estimator-doc-link.fitted:hover,\n",
       "div.sk-label-container:hover .sk-estimator-doc-link.fitted:hover,\n",
       ".sk-estimator-doc-link.fitted:hover {\n",
       "  /* fitted */\n",
       "  background-color: var(--sklearn-color-fitted-level-3);\n",
       "  color: var(--sklearn-color-background);\n",
       "  text-decoration: none;\n",
       "}\n",
       "\n",
       "/* Span, style for the box shown on hovering the info icon */\n",
       ".sk-estimator-doc-link span {\n",
       "  display: none;\n",
       "  z-index: 9999;\n",
       "  position: relative;\n",
       "  font-weight: normal;\n",
       "  right: .2ex;\n",
       "  padding: .5ex;\n",
       "  margin: .5ex;\n",
       "  width: min-content;\n",
       "  min-width: 20ex;\n",
       "  max-width: 50ex;\n",
       "  color: var(--sklearn-color-text);\n",
       "  box-shadow: 2pt 2pt 4pt #999;\n",
       "  /* unfitted */\n",
       "  background: var(--sklearn-color-unfitted-level-0);\n",
       "  border: .5pt solid var(--sklearn-color-unfitted-level-3);\n",
       "}\n",
       "\n",
       ".sk-estimator-doc-link.fitted span {\n",
       "  /* fitted */\n",
       "  background: var(--sklearn-color-fitted-level-0);\n",
       "  border: var(--sklearn-color-fitted-level-3);\n",
       "}\n",
       "\n",
       ".sk-estimator-doc-link:hover span {\n",
       "  display: block;\n",
       "}\n",
       "\n",
       "/* \"?\"-specific style due to the `<a>` HTML tag */\n",
       "\n",
       "#sk-container-id-2 a.estimator_doc_link {\n",
       "  float: right;\n",
       "  font-size: 1rem;\n",
       "  line-height: 1em;\n",
       "  font-family: monospace;\n",
       "  background-color: var(--sklearn-color-background);\n",
       "  border-radius: 1rem;\n",
       "  height: 1rem;\n",
       "  width: 1rem;\n",
       "  text-decoration: none;\n",
       "  /* unfitted */\n",
       "  color: var(--sklearn-color-unfitted-level-1);\n",
       "  border: var(--sklearn-color-unfitted-level-1) 1pt solid;\n",
       "}\n",
       "\n",
       "#sk-container-id-2 a.estimator_doc_link.fitted {\n",
       "  /* fitted */\n",
       "  border: var(--sklearn-color-fitted-level-1) 1pt solid;\n",
       "  color: var(--sklearn-color-fitted-level-1);\n",
       "}\n",
       "\n",
       "/* On hover */\n",
       "#sk-container-id-2 a.estimator_doc_link:hover {\n",
       "  /* unfitted */\n",
       "  background-color: var(--sklearn-color-unfitted-level-3);\n",
       "  color: var(--sklearn-color-background);\n",
       "  text-decoration: none;\n",
       "}\n",
       "\n",
       "#sk-container-id-2 a.estimator_doc_link.fitted:hover {\n",
       "  /* fitted */\n",
       "  background-color: var(--sklearn-color-fitted-level-3);\n",
       "}\n",
       "</style><div id=\"sk-container-id-2\" class=\"sk-top-container\"><div class=\"sk-text-repr-fallback\"><pre>Pipeline(steps=[(&#x27;preprocessing&#x27;,\n",
       "                 Pipeline(steps=[(&#x27;type_converter&#x27;,\n",
       "                                  TypeConverter(type_mapping={&#x27;Age&#x27;: &lt;class &#x27;float&#x27;&gt;,\n",
       "                                                              &#x27;Cabin&#x27;: &lt;class &#x27;object&#x27;&gt;,\n",
       "                                                              &#x27;Embarked&#x27;: &lt;class &#x27;object&#x27;&gt;,\n",
       "                                                              &#x27;Fare&#x27;: &lt;class &#x27;float&#x27;&gt;,\n",
       "                                                              &#x27;Name&#x27;: &lt;class &#x27;object&#x27;&gt;,\n",
       "                                                              &#x27;Parch&#x27;: &lt;class &#x27;int&#x27;&gt;,\n",
       "                                                              &#x27;PassengerId&#x27;: &lt;class &#x27;int&#x27;&gt;,\n",
       "                                                              &#x27;Pclass&#x27;: &lt;class &#x27;object&#x27;&gt;,\n",
       "                                                              &#x27;Sex&#x27;: &lt;class &#x27;object&#x27;&gt;,\n",
       "                                                              &#x27;SibSp&#x27;: &lt;class &#x27;int&#x27;&gt;,\n",
       "                                                              &#x27;Ticket&#x27;: &lt;class &#x27;object...\n",
       "                                 (&#x27;sex_label_encoder&#x27;,\n",
       "                                  LabelEncoderTransformer(column=&#x27;Sex&#x27;)),\n",
       "                                 (&#x27;title_label_encoder&#x27;,\n",
       "                                  LabelEncoderTransformer(column=&#x27;Title&#x27;)),\n",
       "                                 (&#x27;scaler&#x27;,\n",
       "                                  ScalerTransformer(min_max_scaler_features=[&#x27;Fare&#x27;],\n",
       "                                                    standard_scaler_features=[&#x27;Pclass&#x27;,\n",
       "                                                                              &#x27;Age&#x27;,\n",
       "                                                                              &#x27;Sex&#x27;,\n",
       "                                                                              &#x27;FamilySize&#x27;,\n",
       "                                                                              &#x27;Title&#x27;,\n",
       "                                                                              &#x27;Embarked_Q&#x27;,\n",
       "                                                                              &#x27;Embarked_S&#x27;]))])),\n",
       "                (&#x27;model&#x27;,\n",
       "                 KNeighborsClassifier(metric=&#x27;manhattan&#x27;, n_neighbors=15))])</pre><b>In a Jupyter environment, please rerun this cell to show the HTML representation or trust the notebook. <br />On GitHub, the HTML representation is unable to render, please try loading this page with nbviewer.org.</b></div><div class=\"sk-container\" hidden><div class=\"sk-item sk-dashed-wrapped\"><div class=\"sk-label-container\"><div class=\"sk-label fitted sk-toggleable\"><input class=\"sk-toggleable__control sk-hidden--visually\" id=\"sk-estimator-id-16\" type=\"checkbox\" ><label for=\"sk-estimator-id-16\" class=\"sk-toggleable__label fitted sk-toggleable__label-arrow fitted\">&nbsp;&nbsp;Pipeline<a class=\"sk-estimator-doc-link fitted\" rel=\"noreferrer\" target=\"_blank\" href=\"https://scikit-learn.org/1.5/modules/generated/sklearn.pipeline.Pipeline.html\">?<span>Documentation for Pipeline</span></a><span class=\"sk-estimator-doc-link fitted\">i<span>Fitted</span></span></label><div class=\"sk-toggleable__content fitted\"><pre>Pipeline(steps=[(&#x27;preprocessing&#x27;,\n",
       "                 Pipeline(steps=[(&#x27;type_converter&#x27;,\n",
       "                                  TypeConverter(type_mapping={&#x27;Age&#x27;: &lt;class &#x27;float&#x27;&gt;,\n",
       "                                                              &#x27;Cabin&#x27;: &lt;class &#x27;object&#x27;&gt;,\n",
       "                                                              &#x27;Embarked&#x27;: &lt;class &#x27;object&#x27;&gt;,\n",
       "                                                              &#x27;Fare&#x27;: &lt;class &#x27;float&#x27;&gt;,\n",
       "                                                              &#x27;Name&#x27;: &lt;class &#x27;object&#x27;&gt;,\n",
       "                                                              &#x27;Parch&#x27;: &lt;class &#x27;int&#x27;&gt;,\n",
       "                                                              &#x27;PassengerId&#x27;: &lt;class &#x27;int&#x27;&gt;,\n",
       "                                                              &#x27;Pclass&#x27;: &lt;class &#x27;object&#x27;&gt;,\n",
       "                                                              &#x27;Sex&#x27;: &lt;class &#x27;object&#x27;&gt;,\n",
       "                                                              &#x27;SibSp&#x27;: &lt;class &#x27;int&#x27;&gt;,\n",
       "                                                              &#x27;Ticket&#x27;: &lt;class &#x27;object...\n",
       "                                 (&#x27;sex_label_encoder&#x27;,\n",
       "                                  LabelEncoderTransformer(column=&#x27;Sex&#x27;)),\n",
       "                                 (&#x27;title_label_encoder&#x27;,\n",
       "                                  LabelEncoderTransformer(column=&#x27;Title&#x27;)),\n",
       "                                 (&#x27;scaler&#x27;,\n",
       "                                  ScalerTransformer(min_max_scaler_features=[&#x27;Fare&#x27;],\n",
       "                                                    standard_scaler_features=[&#x27;Pclass&#x27;,\n",
       "                                                                              &#x27;Age&#x27;,\n",
       "                                                                              &#x27;Sex&#x27;,\n",
       "                                                                              &#x27;FamilySize&#x27;,\n",
       "                                                                              &#x27;Title&#x27;,\n",
       "                                                                              &#x27;Embarked_Q&#x27;,\n",
       "                                                                              &#x27;Embarked_S&#x27;]))])),\n",
       "                (&#x27;model&#x27;,\n",
       "                 KNeighborsClassifier(metric=&#x27;manhattan&#x27;, n_neighbors=15))])</pre></div> </div></div><div class=\"sk-serial\"><div class=\"sk-item\"><div class=\"sk-label-container\"><div class=\"sk-label fitted sk-toggleable\"><input class=\"sk-toggleable__control sk-hidden--visually\" id=\"sk-estimator-id-17\" type=\"checkbox\" ><label for=\"sk-estimator-id-17\" class=\"sk-toggleable__label fitted sk-toggleable__label-arrow fitted\">&nbsp;preprocessing: Pipeline<a class=\"sk-estimator-doc-link fitted\" rel=\"noreferrer\" target=\"_blank\" href=\"https://scikit-learn.org/1.5/modules/generated/sklearn.pipeline.Pipeline.html\">?<span>Documentation for preprocessing: Pipeline</span></a></label><div class=\"sk-toggleable__content fitted\"><pre>Pipeline(steps=[(&#x27;type_converter&#x27;,\n",
       "                 TypeConverter(type_mapping={&#x27;Age&#x27;: &lt;class &#x27;float&#x27;&gt;,\n",
       "                                             &#x27;Cabin&#x27;: &lt;class &#x27;object&#x27;&gt;,\n",
       "                                             &#x27;Embarked&#x27;: &lt;class &#x27;object&#x27;&gt;,\n",
       "                                             &#x27;Fare&#x27;: &lt;class &#x27;float&#x27;&gt;,\n",
       "                                             &#x27;Name&#x27;: &lt;class &#x27;object&#x27;&gt;,\n",
       "                                             &#x27;Parch&#x27;: &lt;class &#x27;int&#x27;&gt;,\n",
       "                                             &#x27;PassengerId&#x27;: &lt;class &#x27;int&#x27;&gt;,\n",
       "                                             &#x27;Pclass&#x27;: &lt;class &#x27;object&#x27;&gt;,\n",
       "                                             &#x27;Sex&#x27;: &lt;class &#x27;object&#x27;&gt;,\n",
       "                                             &#x27;SibSp&#x27;: &lt;class &#x27;int&#x27;&gt;,\n",
       "                                             &#x27;Ticket&#x27;: &lt;class &#x27;object&#x27;&gt;})),\n",
       "                (&#x27;sex_mapping&#x27;, SexMappingTr...\n",
       "                 DropFeatures(features_to_drop=[&#x27;Name&#x27;, &#x27;SibSp&#x27;, &#x27;Parch&#x27;])),\n",
       "                (&#x27;onehot_encoder&#x27;,\n",
       "                 OneHotEncoderTransformer(column=[&#x27;Embarked&#x27;])),\n",
       "                (&#x27;sex_label_encoder&#x27;, LabelEncoderTransformer(column=&#x27;Sex&#x27;)),\n",
       "                (&#x27;title_label_encoder&#x27;,\n",
       "                 LabelEncoderTransformer(column=&#x27;Title&#x27;)),\n",
       "                (&#x27;scaler&#x27;,\n",
       "                 ScalerTransformer(min_max_scaler_features=[&#x27;Fare&#x27;],\n",
       "                                   standard_scaler_features=[&#x27;Pclass&#x27;, &#x27;Age&#x27;,\n",
       "                                                             &#x27;Sex&#x27;,\n",
       "                                                             &#x27;FamilySize&#x27;,\n",
       "                                                             &#x27;Title&#x27;,\n",
       "                                                             &#x27;Embarked_Q&#x27;,\n",
       "                                                             &#x27;Embarked_S&#x27;]))])</pre></div> </div></div><div class=\"sk-serial\"><div class=\"sk-item\"><div class=\"sk-estimator fitted sk-toggleable\"><input class=\"sk-toggleable__control sk-hidden--visually\" id=\"sk-estimator-id-18\" type=\"checkbox\" ><label for=\"sk-estimator-id-18\" class=\"sk-toggleable__label fitted sk-toggleable__label-arrow fitted\">TypeConverter</label><div class=\"sk-toggleable__content fitted\"><pre>TypeConverter(type_mapping={&#x27;Age&#x27;: &lt;class &#x27;float&#x27;&gt;, &#x27;Cabin&#x27;: &lt;class &#x27;object&#x27;&gt;,\n",
       "                            &#x27;Embarked&#x27;: &lt;class &#x27;object&#x27;&gt;,\n",
       "                            &#x27;Fare&#x27;: &lt;class &#x27;float&#x27;&gt;, &#x27;Name&#x27;: &lt;class &#x27;object&#x27;&gt;,\n",
       "                            &#x27;Parch&#x27;: &lt;class &#x27;int&#x27;&gt;,\n",
       "                            &#x27;PassengerId&#x27;: &lt;class &#x27;int&#x27;&gt;,\n",
       "                            &#x27;Pclass&#x27;: &lt;class &#x27;object&#x27;&gt;, &#x27;Sex&#x27;: &lt;class &#x27;object&#x27;&gt;,\n",
       "                            &#x27;SibSp&#x27;: &lt;class &#x27;int&#x27;&gt;,\n",
       "                            &#x27;Ticket&#x27;: &lt;class &#x27;object&#x27;&gt;})</pre></div> </div></div><div class=\"sk-item\"><div class=\"sk-estimator fitted sk-toggleable\"><input class=\"sk-toggleable__control sk-hidden--visually\" id=\"sk-estimator-id-19\" type=\"checkbox\" ><label for=\"sk-estimator-id-19\" class=\"sk-toggleable__label fitted sk-toggleable__label-arrow fitted\">SexMappingTransformer</label><div class=\"sk-toggleable__content fitted\"><pre>SexMappingTransformer(sex_col=&#x27;Sex&#x27;)</pre></div> </div></div><div class=\"sk-item\"><div class=\"sk-estimator fitted sk-toggleable\"><input class=\"sk-toggleable__control sk-hidden--visually\" id=\"sk-estimator-id-20\" type=\"checkbox\" ><label for=\"sk-estimator-id-20\" class=\"sk-toggleable__label fitted sk-toggleable__label-arrow fitted\">SetIndexByPassengerId</label><div class=\"sk-toggleable__content fitted\"><pre>SetIndexByPassengerId()</pre></div> </div></div><div class=\"sk-item\"><div class=\"sk-estimator fitted sk-toggleable\"><input class=\"sk-toggleable__control sk-hidden--visually\" id=\"sk-estimator-id-21\" type=\"checkbox\" ><label for=\"sk-estimator-id-21\" class=\"sk-toggleable__label fitted sk-toggleable__label-arrow fitted\">DropFeatures</label><div class=\"sk-toggleable__content fitted\"><pre>DropFeatures(features_to_drop=[&#x27;Cabin&#x27;, &#x27;Ticket&#x27;])</pre></div> </div></div><div class=\"sk-item\"><div class=\"sk-estimator fitted sk-toggleable\"><input class=\"sk-toggleable__control sk-hidden--visually\" id=\"sk-estimator-id-22\" type=\"checkbox\" ><label for=\"sk-estimator-id-22\" class=\"sk-toggleable__label fitted sk-toggleable__label-arrow fitted\">ColumnImputer</label><div class=\"sk-toggleable__content fitted\"><pre>ColumnImputer(column_name=&#x27;Age&#x27;, strategy=&#x27;median&#x27;)</pre></div> </div></div><div class=\"sk-item\"><div class=\"sk-estimator fitted sk-toggleable\"><input class=\"sk-toggleable__control sk-hidden--visually\" id=\"sk-estimator-id-23\" type=\"checkbox\" ><label for=\"sk-estimator-id-23\" class=\"sk-toggleable__label fitted sk-toggleable__label-arrow fitted\">ColumnImputer</label><div class=\"sk-toggleable__content fitted\"><pre>ColumnImputer(column_name=&#x27;Embarked&#x27;, strategy=&#x27;most_frequent&#x27;)</pre></div> </div></div><div class=\"sk-item\"><div class=\"sk-estimator fitted sk-toggleable\"><input class=\"sk-toggleable__control sk-hidden--visually\" id=\"sk-estimator-id-24\" type=\"checkbox\" ><label for=\"sk-estimator-id-24\" class=\"sk-toggleable__label fitted sk-toggleable__label-arrow fitted\">FeatureEngineering</label><div class=\"sk-toggleable__content fitted\"><pre>FeatureEngineering()</pre></div> </div></div><div class=\"sk-item\"><div class=\"sk-estimator fitted sk-toggleable\"><input class=\"sk-toggleable__control sk-hidden--visually\" id=\"sk-estimator-id-25\" type=\"checkbox\" ><label for=\"sk-estimator-id-25\" class=\"sk-toggleable__label fitted sk-toggleable__label-arrow fitted\">DropFeatures</label><div class=\"sk-toggleable__content fitted\"><pre>DropFeatures(features_to_drop=[&#x27;Name&#x27;, &#x27;SibSp&#x27;, &#x27;Parch&#x27;])</pre></div> </div></div><div class=\"sk-item\"><div class=\"sk-estimator fitted sk-toggleable\"><input class=\"sk-toggleable__control sk-hidden--visually\" id=\"sk-estimator-id-26\" type=\"checkbox\" ><label for=\"sk-estimator-id-26\" class=\"sk-toggleable__label fitted sk-toggleable__label-arrow fitted\">OneHotEncoderTransformer</label><div class=\"sk-toggleable__content fitted\"><pre>OneHotEncoderTransformer(column=[&#x27;Embarked&#x27;])</pre></div> </div></div><div class=\"sk-item\"><div class=\"sk-estimator fitted sk-toggleable\"><input class=\"sk-toggleable__control sk-hidden--visually\" id=\"sk-estimator-id-27\" type=\"checkbox\" ><label for=\"sk-estimator-id-27\" class=\"sk-toggleable__label fitted sk-toggleable__label-arrow fitted\">LabelEncoderTransformer</label><div class=\"sk-toggleable__content fitted\"><pre>LabelEncoderTransformer(column=&#x27;Sex&#x27;)</pre></div> </div></div><div class=\"sk-item\"><div class=\"sk-estimator fitted sk-toggleable\"><input class=\"sk-toggleable__control sk-hidden--visually\" id=\"sk-estimator-id-28\" type=\"checkbox\" ><label for=\"sk-estimator-id-28\" class=\"sk-toggleable__label fitted sk-toggleable__label-arrow fitted\">LabelEncoderTransformer</label><div class=\"sk-toggleable__content fitted\"><pre>LabelEncoderTransformer(column=&#x27;Title&#x27;)</pre></div> </div></div><div class=\"sk-item\"><div class=\"sk-estimator fitted sk-toggleable\"><input class=\"sk-toggleable__control sk-hidden--visually\" id=\"sk-estimator-id-29\" type=\"checkbox\" ><label for=\"sk-estimator-id-29\" class=\"sk-toggleable__label fitted sk-toggleable__label-arrow fitted\">ScalerTransformer</label><div class=\"sk-toggleable__content fitted\"><pre>ScalerTransformer(min_max_scaler_features=[&#x27;Fare&#x27;],\n",
       "                  standard_scaler_features=[&#x27;Pclass&#x27;, &#x27;Age&#x27;, &#x27;Sex&#x27;,\n",
       "                                            &#x27;FamilySize&#x27;, &#x27;Title&#x27;, &#x27;Embarked_Q&#x27;,\n",
       "                                            &#x27;Embarked_S&#x27;])</pre></div> </div></div></div></div><div class=\"sk-item\"><div class=\"sk-estimator fitted sk-toggleable\"><input class=\"sk-toggleable__control sk-hidden--visually\" id=\"sk-estimator-id-30\" type=\"checkbox\" ><label for=\"sk-estimator-id-30\" class=\"sk-toggleable__label fitted sk-toggleable__label-arrow fitted\">&nbsp;KNeighborsClassifier<a class=\"sk-estimator-doc-link fitted\" rel=\"noreferrer\" target=\"_blank\" href=\"https://scikit-learn.org/1.5/modules/generated/sklearn.neighbors.KNeighborsClassifier.html\">?<span>Documentation for KNeighborsClassifier</span></a></label><div class=\"sk-toggleable__content fitted\"><pre>KNeighborsClassifier(metric=&#x27;manhattan&#x27;, n_neighbors=15)</pre></div> </div></div></div></div></div></div>"
      ],
      "text/plain": [
       "Pipeline(steps=[('preprocessing',\n",
       "                 Pipeline(steps=[('type_converter',\n",
       "                                  TypeConverter(type_mapping={'Age': <class 'float'>,\n",
       "                                                              'Cabin': <class 'object'>,\n",
       "                                                              'Embarked': <class 'object'>,\n",
       "                                                              'Fare': <class 'float'>,\n",
       "                                                              'Name': <class 'object'>,\n",
       "                                                              'Parch': <class 'int'>,\n",
       "                                                              'PassengerId': <class 'int'>,\n",
       "                                                              'Pclass': <class 'object'>,\n",
       "                                                              'Sex': <class 'object'>,\n",
       "                                                              'SibSp': <class 'int'>,\n",
       "                                                              'Ticket': <class 'object...\n",
       "                                 ('sex_label_encoder',\n",
       "                                  LabelEncoderTransformer(column='Sex')),\n",
       "                                 ('title_label_encoder',\n",
       "                                  LabelEncoderTransformer(column='Title')),\n",
       "                                 ('scaler',\n",
       "                                  ScalerTransformer(min_max_scaler_features=['Fare'],\n",
       "                                                    standard_scaler_features=['Pclass',\n",
       "                                                                              'Age',\n",
       "                                                                              'Sex',\n",
       "                                                                              'FamilySize',\n",
       "                                                                              'Title',\n",
       "                                                                              'Embarked_Q',\n",
       "                                                                              'Embarked_S']))])),\n",
       "                ('model',\n",
       "                 KNeighborsClassifier(metric='manhattan', n_neighbors=15))])"
      ]
     },
     "execution_count": 71,
     "metadata": {},
     "output_type": "execute_result"
    }
   ],
   "source": [
    "random_search.best_estimator_"
   ]
  },
  {
   "cell_type": "code",
   "execution_count": 72,
   "metadata": {},
   "outputs": [
    {
     "name": "stdout",
     "output_type": "stream",
     "text": [
      "Pipeline saved to 'best_pipeline_random.pkl'.\n"
     ]
    }
   ],
   "source": [
    "import pickle\n",
    "\n",
    "best_pipeline_random = random_search.best_estimator_\n",
    "\n",
    "with open('../best_pipeline_random.pkl', 'wb') as f:\n",
    "    pickle.dump(best_pipeline_random, f)\n",
    "\n",
    "print(\"Pipeline saved to 'best_pipeline_random.pkl'.\")"
   ]
  },
  {
   "cell_type": "markdown",
   "metadata": {},
   "source": [
    "### Evaluate your system on the Test Set"
   ]
  },
  {
   "cell_type": "code",
   "execution_count": 73,
   "metadata": {},
   "outputs": [
    {
     "name": "stdout",
     "output_type": "stream",
     "text": [
      "Pipeline loaded successfully.\n",
      "\n",
      "Evaluation Results:\n",
      "Test Accuracy: 0.8380\n"
     ]
    }
   ],
   "source": [
    "from sklearn.metrics import accuracy_score\n",
    "\n",
    "with open('../best_pipeline_random.pkl', 'rb') as f:\n",
    "    loaded_pipeline = pickle.load(f)\n",
    "\n",
    "print(\"Pipeline loaded successfully.\")\n",
    "\n",
    "y_test_pred = loaded_pipeline.predict(X_test)\n",
    "\n",
    "test_acc = accuracy_score(y_test, y_test_pred)\n",
    "\n",
    "print(\"\\nEvaluation Results:\")\n",
    "print(f\"Test Accuracy: {test_acc:.4f}\")"
   ]
  },
  {
   "cell_type": "code",
   "execution_count": null,
   "metadata": {},
   "outputs": [],
   "source": []
  }
 ],
 "metadata": {
  "kernelspec": {
   "display_name": "env",
   "language": "python",
   "name": "python3"
  },
  "language_info": {
   "codemirror_mode": {
    "name": "ipython",
    "version": 3
   },
   "file_extension": ".py",
   "mimetype": "text/x-python",
   "name": "python",
   "nbconvert_exporter": "python",
   "pygments_lexer": "ipython3",
   "version": "3.10.8"
  }
 },
 "nbformat": 4,
 "nbformat_minor": 2
}
