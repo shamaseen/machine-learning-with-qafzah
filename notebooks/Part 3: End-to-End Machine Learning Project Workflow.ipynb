{
 "cells": [
  {
   "cell_type": "code",
   "execution_count": 1,
   "metadata": {},
   "outputs": [],
   "source": [
    "import numpy as np\n",
    "import pandas as pd\n",
    "\n",
    "import matplotlib.pyplot as plt\n",
    "import seaborn as sns"
   ]
  },
  {
   "cell_type": "code",
   "execution_count": 2,
   "metadata": {},
   "outputs": [],
   "source": [
    "data = pd.read_csv('../data/titanic.csv')"
   ]
  },
  {
   "cell_type": "code",
   "execution_count": 3,
   "metadata": {},
   "outputs": [
    {
     "name": "stdout",
     "output_type": "stream",
     "text": [
      "First few rows of the dataset and shape:\n",
      "(891, 12)\n"
     ]
    },
    {
     "data": {
      "text/html": [
       "<div>\n",
       "<style scoped>\n",
       "    .dataframe tbody tr th:only-of-type {\n",
       "        vertical-align: middle;\n",
       "    }\n",
       "\n",
       "    .dataframe tbody tr th {\n",
       "        vertical-align: top;\n",
       "    }\n",
       "\n",
       "    .dataframe thead th {\n",
       "        text-align: right;\n",
       "    }\n",
       "</style>\n",
       "<table border=\"1\" class=\"dataframe\">\n",
       "  <thead>\n",
       "    <tr style=\"text-align: right;\">\n",
       "      <th></th>\n",
       "      <th>PassengerId</th>\n",
       "      <th>Survived</th>\n",
       "      <th>Pclass</th>\n",
       "      <th>Name</th>\n",
       "      <th>Sex</th>\n",
       "      <th>Age</th>\n",
       "      <th>SibSp</th>\n",
       "      <th>Parch</th>\n",
       "      <th>Ticket</th>\n",
       "      <th>Fare</th>\n",
       "      <th>Cabin</th>\n",
       "      <th>Embarked</th>\n",
       "    </tr>\n",
       "  </thead>\n",
       "  <tbody>\n",
       "    <tr>\n",
       "      <th>0</th>\n",
       "      <td>1</td>\n",
       "      <td>0</td>\n",
       "      <td>3</td>\n",
       "      <td>Braund, Mr. Owen Harris</td>\n",
       "      <td>male</td>\n",
       "      <td>22.0</td>\n",
       "      <td>1</td>\n",
       "      <td>0</td>\n",
       "      <td>A/5 21171</td>\n",
       "      <td>7.2500</td>\n",
       "      <td>NaN</td>\n",
       "      <td>S</td>\n",
       "    </tr>\n",
       "    <tr>\n",
       "      <th>1</th>\n",
       "      <td>2</td>\n",
       "      <td>1</td>\n",
       "      <td>1</td>\n",
       "      <td>Cumings, Mrs. John Bradley (Florence Briggs Th...</td>\n",
       "      <td>female</td>\n",
       "      <td>38.0</td>\n",
       "      <td>1</td>\n",
       "      <td>0</td>\n",
       "      <td>PC 17599</td>\n",
       "      <td>71.2833</td>\n",
       "      <td>C85</td>\n",
       "      <td>C</td>\n",
       "    </tr>\n",
       "    <tr>\n",
       "      <th>2</th>\n",
       "      <td>3</td>\n",
       "      <td>1</td>\n",
       "      <td>3</td>\n",
       "      <td>Heikkinen, Miss. Laina</td>\n",
       "      <td>female</td>\n",
       "      <td>26.0</td>\n",
       "      <td>0</td>\n",
       "      <td>0</td>\n",
       "      <td>STON/O2. 3101282</td>\n",
       "      <td>7.9250</td>\n",
       "      <td>NaN</td>\n",
       "      <td>S</td>\n",
       "    </tr>\n",
       "    <tr>\n",
       "      <th>3</th>\n",
       "      <td>4</td>\n",
       "      <td>1</td>\n",
       "      <td>1</td>\n",
       "      <td>Futrelle, Mrs. Jacques Heath (Lily May Peel)</td>\n",
       "      <td>female</td>\n",
       "      <td>35.0</td>\n",
       "      <td>1</td>\n",
       "      <td>0</td>\n",
       "      <td>113803</td>\n",
       "      <td>53.1000</td>\n",
       "      <td>C123</td>\n",
       "      <td>S</td>\n",
       "    </tr>\n",
       "    <tr>\n",
       "      <th>4</th>\n",
       "      <td>5</td>\n",
       "      <td>0</td>\n",
       "      <td>3</td>\n",
       "      <td>Allen, Mr. William Henry</td>\n",
       "      <td>male</td>\n",
       "      <td>35.0</td>\n",
       "      <td>0</td>\n",
       "      <td>0</td>\n",
       "      <td>373450</td>\n",
       "      <td>8.0500</td>\n",
       "      <td>NaN</td>\n",
       "      <td>S</td>\n",
       "    </tr>\n",
       "  </tbody>\n",
       "</table>\n",
       "</div>"
      ],
      "text/plain": [
       "   PassengerId  Survived  Pclass  \\\n",
       "0            1         0       3   \n",
       "1            2         1       1   \n",
       "2            3         1       3   \n",
       "3            4         1       1   \n",
       "4            5         0       3   \n",
       "\n",
       "                                                Name     Sex   Age  SibSp  \\\n",
       "0                            Braund, Mr. Owen Harris    male  22.0      1   \n",
       "1  Cumings, Mrs. John Bradley (Florence Briggs Th...  female  38.0      1   \n",
       "2                             Heikkinen, Miss. Laina  female  26.0      0   \n",
       "3       Futrelle, Mrs. Jacques Heath (Lily May Peel)  female  35.0      1   \n",
       "4                           Allen, Mr. William Henry    male  35.0      0   \n",
       "\n",
       "   Parch            Ticket     Fare Cabin Embarked  \n",
       "0      0         A/5 21171   7.2500   NaN        S  \n",
       "1      0          PC 17599  71.2833   C85        C  \n",
       "2      0  STON/O2. 3101282   7.9250   NaN        S  \n",
       "3      0            113803  53.1000  C123        S  \n",
       "4      0            373450   8.0500   NaN        S  "
      ]
     },
     "execution_count": 3,
     "metadata": {},
     "output_type": "execute_result"
    }
   ],
   "source": [
    "print(\"First few rows of the dataset and shape:\")\n",
    "print(data.shape)\n",
    "data.head()"
   ]
  },
  {
   "cell_type": "code",
   "execution_count": 4,
   "metadata": {},
   "outputs": [
    {
     "name": "stdout",
     "output_type": "stream",
     "text": [
      "\n",
      "Data structure information:\n",
      "<class 'pandas.core.frame.DataFrame'>\n",
      "RangeIndex: 891 entries, 0 to 890\n",
      "Data columns (total 12 columns):\n",
      " #   Column       Non-Null Count  Dtype  \n",
      "---  ------       --------------  -----  \n",
      " 0   PassengerId  891 non-null    int64  \n",
      " 1   Survived     891 non-null    int64  \n",
      " 2   Pclass       891 non-null    int64  \n",
      " 3   Name         891 non-null    object \n",
      " 4   Sex          891 non-null    object \n",
      " 5   Age          714 non-null    float64\n",
      " 6   SibSp        891 non-null    int64  \n",
      " 7   Parch        891 non-null    int64  \n",
      " 8   Ticket       891 non-null    object \n",
      " 9   Fare         891 non-null    float64\n",
      " 10  Cabin        204 non-null    object \n",
      " 11  Embarked     889 non-null    object \n",
      "dtypes: float64(2), int64(5), object(5)\n",
      "memory usage: 83.7+ KB\n",
      "None\n"
     ]
    }
   ],
   "source": [
    "print(\"\\nData structure information:\")\n",
    "print(data.info())"
   ]
  },
  {
   "cell_type": "code",
   "execution_count": 5,
   "metadata": {},
   "outputs": [
    {
     "name": "stdout",
     "output_type": "stream",
     "text": [
      "\n",
      "Summary statistics of numerical columns:\n",
      "       PassengerId    Survived      Pclass         Age       SibSp  \\\n",
      "count   891.000000  891.000000  891.000000  714.000000  891.000000   \n",
      "mean    446.000000    0.383838    2.308642   29.699118    0.523008   \n",
      "std     257.353842    0.486592    0.836071   14.526497    1.102743   \n",
      "min       1.000000    0.000000    1.000000    0.420000    0.000000   \n",
      "25%     223.500000    0.000000    2.000000   20.125000    0.000000   \n",
      "50%     446.000000    0.000000    3.000000   28.000000    0.000000   \n",
      "75%     668.500000    1.000000    3.000000   38.000000    1.000000   \n",
      "max     891.000000    1.000000    3.000000   80.000000    8.000000   \n",
      "\n",
      "            Parch        Fare  \n",
      "count  891.000000  891.000000  \n",
      "mean     0.381594   32.204208  \n",
      "std      0.806057   49.693429  \n",
      "min      0.000000    0.000000  \n",
      "25%      0.000000    7.910400  \n",
      "50%      0.000000   14.454200  \n",
      "75%      0.000000   31.000000  \n",
      "max      6.000000  512.329200  \n"
     ]
    }
   ],
   "source": [
    "print(\"\\nSummary statistics of numerical columns:\")\n",
    "print(data.describe())"
   ]
  },
  {
   "cell_type": "code",
   "execution_count": 6,
   "metadata": {},
   "outputs": [
    {
     "name": "stdout",
     "output_type": "stream",
     "text": [
      "\n",
      "Summary statistics of categorical columns:\n",
      "                           Name   Sex  Ticket    Cabin Embarked\n",
      "count                       891   891     891      204      889\n",
      "unique                      891     2     681      147        3\n",
      "top     Braund, Mr. Owen Harris  male  347082  B96 B98        S\n",
      "freq                          1   577       7        4      644\n"
     ]
    }
   ],
   "source": [
    "print(\"\\nSummary statistics of categorical columns:\")\n",
    "print(data.describe(include='O'))"
   ]
  },
  {
   "cell_type": "code",
   "execution_count": 7,
   "metadata": {},
   "outputs": [
    {
     "name": "stdout",
     "output_type": "stream",
     "text": [
      "\n",
      "Data types of each column:\n",
      "PassengerId      int64\n",
      "Survived         int64\n",
      "Pclass           int64\n",
      "Name            object\n",
      "Sex             object\n",
      "Age            float64\n",
      "SibSp            int64\n",
      "Parch            int64\n",
      "Ticket          object\n",
      "Fare           float64\n",
      "Cabin           object\n",
      "Embarked        object\n",
      "dtype: object\n"
     ]
    }
   ],
   "source": [
    "print(\"\\nData types of each column:\")\n",
    "print(data.dtypes)"
   ]
  },
  {
   "cell_type": "code",
   "execution_count": 8,
   "metadata": {},
   "outputs": [
    {
     "name": "stdout",
     "output_type": "stream",
     "text": [
      "\n",
      "Unique values in each column:\n",
      "PassengerId    891\n",
      "Survived         2\n",
      "Pclass           3\n",
      "Name           891\n",
      "Sex              2\n",
      "Age             88\n",
      "SibSp            7\n",
      "Parch            7\n",
      "Ticket         681\n",
      "Fare           248\n",
      "Cabin          147\n",
      "Embarked         3\n",
      "dtype: int64\n"
     ]
    }
   ],
   "source": [
    "print(\"\\nUnique values in each column:\")\n",
    "print(data.nunique())"
   ]
  },
  {
   "cell_type": "code",
   "execution_count": 9,
   "metadata": {},
   "outputs": [
    {
     "name": "stdout",
     "output_type": "stream",
     "text": [
      "\n",
      "Value counts for the 'Sex' column:\n",
      "Sex\n",
      "male      577\n",
      "female    314\n",
      "Name: count, dtype: int64\n"
     ]
    }
   ],
   "source": [
    "print(\"\\nValue counts for the 'Sex' column:\")\n",
    "print(data['Sex'].value_counts())"
   ]
  },
  {
   "cell_type": "code",
   "execution_count": 10,
   "metadata": {},
   "outputs": [
    {
     "name": "stdout",
     "output_type": "stream",
     "text": [
      "\n",
      "Number of duplicate rows:\n",
      "0\n"
     ]
    }
   ],
   "source": [
    "print(\"\\nNumber of duplicate rows:\")\n",
    "print(data.duplicated().sum())"
   ]
  },
  {
   "cell_type": "code",
   "execution_count": 11,
   "metadata": {},
   "outputs": [],
   "source": [
    "# After obtaining a quick overview of the dataset, we usually proceed to split the data into training and testing sets.\n",
    "# However, if we know what we are doing, it's beneficial to analyze the data more thoroughly before splitting.\n",
    "# This allows us to examine all categorical features, check for missing data, and understand the distribution of variables.\n",
    "# \n",
    "# Analyzing before the split ensures that we identify any patterns, anomalies, or features that may affect model performance.\n",
    "# For example, if we analyze the data after splitting, we might miss important categorical variables or nuances in the data.\n",
    "# This phase is crucial for ensuring that our model is built on a solid understanding of the dataset, which can lead to better performance."
   ]
  },
  {
   "cell_type": "markdown",
   "metadata": {},
   "source": [
    "# Exploratory Data Analysis (EDA)"
   ]
  },
  {
   "cell_type": "markdown",
   "metadata": {},
   "source": [
    "### Analyze the target variable"
   ]
  },
  {
   "cell_type": "code",
   "execution_count": 12,
   "metadata": {},
   "outputs": [
    {
     "name": "stdout",
     "output_type": "stream",
     "text": [
      "Target variable distribution (Survived):\n",
      "Survived\n",
      "0    0.616162\n",
      "1    0.383838\n",
      "Name: proportion, dtype: float64\n"
     ]
    },
    {
     "data": {
      "image/png": "[encoded data removed]",
      "text/plain": [
       "<Figure size 640x480 with 1 Axes>"
      ]
     },
     "metadata": {},
     "output_type": "display_data"
    }
   ],
   "source": [
    "print(\"Target variable distribution (Survived):\")\n",
    "print(data['Survived'].value_counts(normalize=True))\n",
    "sns.countplot(x='Survived', data=data)\n",
    "plt.title('Count of Survivors')\n",
    "plt.show()"
   ]
  },
  {
   "cell_type": "markdown",
   "metadata": {},
   "source": [
    "### Split variables into numerical and categorical"
   ]
  },
  {
   "cell_type": "code",
   "execution_count": 13,
   "metadata": {},
   "outputs": [
    {
     "name": "stdout",
     "output_type": "stream",
     "text": [
      "\n",
      "Numerical Features: ['PassengerId', 'Survived', 'Pclass', 'Age', 'SibSp', 'Parch', 'Fare']\n",
      "Categorical Features: ['Name', 'Sex', 'Ticket', 'Cabin', 'Embarked']\n"
     ]
    }
   ],
   "source": [
    "numerical_features = data.select_dtypes(include=['int64', 'float64']).columns.tolist()\n",
    "categorical_features = data.select_dtypes(include=['object']).columns.tolist()\n",
    "\n",
    "print(\"\\nNumerical Features:\", numerical_features)\n",
    "print(\"Categorical Features:\", categorical_features)"
   ]
  },
  {
   "cell_type": "markdown",
   "metadata": {},
   "source": [
    "### Assess Missing Values"
   ]
  },
  {
   "cell_type": "code",
   "execution_count": 14,
   "metadata": {},
   "outputs": [
    {
     "name": "stdout",
     "output_type": "stream",
     "text": [
      "\n",
      "Missing Values in Each Column:\n",
      "PassengerId      0\n",
      "Survived         0\n",
      "Pclass           0\n",
      "Name             0\n",
      "Sex              0\n",
      "Age            177\n",
      "SibSp            0\n",
      "Parch            0\n",
      "Ticket           0\n",
      "Fare             0\n",
      "Cabin          687\n",
      "Embarked         2\n",
      "dtype: int64\n"
     ]
    }
   ],
   "source": [
    "print(\"\\nMissing Values in Each Column:\")\n",
    "print(data.isnull().sum())"
   ]
  },
  {
   "cell_type": "code",
   "execution_count": 15,
   "metadata": {},
   "outputs": [
    {
     "data": {
      "image/png": "[encoded data removed]",
      "text/plain": [
       "<Figure size 640x480 with 1 Axes>"
      ]
     },
     "metadata": {},
     "output_type": "display_data"
    }
   ],
   "source": [
    "# Visualize Missing Values\n",
    "sns.heatmap(data.isnull(), cbar=False, cmap='binary')\n",
    "plt.title('Missing Values Heatmap')\n",
    "plt.show()"
   ]
  },
  {
   "cell_type": "markdown",
   "metadata": {},
   "source": [
    "### Explore relationships between features and the target variable"
   ]
  },
  {
   "cell_type": "code",
   "execution_count": 16,
   "metadata": {},
   "outputs": [
    {
     "data": {
      "image/png": "[encoded data removed]",
      "text/plain": [
       "<Figure size 800x500 with 1 Axes>"
      ]
     },
     "metadata": {},
     "output_type": "display_data"
    }
   ],
   "source": [
    "# Relationship between Gender and Survival\n",
    "plt.figure(figsize=(8, 5))\n",
    "sns.barplot(x='Sex', y='Survived', data=data)\n",
    "plt.title('Survival Rate by Gender')\n",
    "plt.ylabel('Survival Rate')\n",
    "plt.show()"
   ]
  },
  {
   "cell_type": "code",
   "execution_count": 17,
   "metadata": {},
   "outputs": [
    {
     "data": {
      "image/png": "[encoded data removed]",
      "text/plain": [
       "<Figure size 800x500 with 1 Axes>"
      ]
     },
     "metadata": {},
     "output_type": "display_data"
    }
   ],
   "source": [
    "# Relationship between Pclass and Survival\n",
    "plt.figure(figsize=(8, 5))\n",
    "sns.barplot(x='Pclass', y='Survived', data=data)\n",
    "plt.title('Survival Rate by Passenger Class')\n",
    "plt.ylabel('Survival Rate')\n",
    "plt.show()"
   ]
  },
  {
   "cell_type": "code",
   "execution_count": 18,
   "metadata": {},
   "outputs": [
    {
     "data": {
      "image/png": "[encoded data removed]",
      "text/plain": [
       "<Figure size 1000x600 with 1 Axes>"
      ]
     },
     "metadata": {},
     "output_type": "display_data"
    }
   ],
   "source": [
    "plt.figure(figsize=(10, 6))\n",
    "sns.histplot(data=data, x='Age', hue='Survived', bins=30, kde=True, \n",
    "             palette='pastel', stat='density', common_norm=False)\n",
    "\n",
    "plt.title('Age Distribution by Survival Status')\n",
    "plt.xlabel('Age')\n",
    "plt.ylabel('Density')\n",
    "plt.legend(title='Survived', labels=['Not Survived (0)', 'Survived (1)'])\n",
    "plt.show()"
   ]
  },
  {
   "cell_type": "markdown",
   "metadata": {},
   "source": [
    "# Data Cleaning"
   ]
  },
  {
   "cell_type": "code",
   "execution_count": 19,
   "metadata": {},
   "outputs": [],
   "source": [
    "row_data = data.copy()"
   ]
  },
  {
   "cell_type": "markdown",
   "metadata": {},
   "source": [
    "### Type Conversion"
   ]
  },
  {
   "cell_type": "code",
   "execution_count": 20,
   "metadata": {},
   "outputs": [
    {
     "name": "stdout",
     "output_type": "stream",
     "text": [
      "\n",
      "Data Types After Conversion:\n",
      "PassengerId      int64\n",
      "Survived         int64\n",
      "Pclass          object\n",
      "Name            object\n",
      "Sex             object\n",
      "Age            float64\n",
      "SibSp            int64\n",
      "Parch            int64\n",
      "Ticket          object\n",
      "Fare           float64\n",
      "Cabin           object\n",
      "Embarked        object\n",
      "dtype: object\n"
     ]
    }
   ],
   "source": [
    "# Define a dictionary to specify the desired data types for each column\n",
    "type_mapping = {\n",
    "    'PassengerId': int,\n",
    "    'Survived': int,\n",
    "    'Pclass': str,  # Change to string as you mentioned previously\n",
    "    'Name': str,\n",
    "    'Sex': str,\n",
    "    'Age': float,\n",
    "    'SibSp': int,\n",
    "    'Parch': int,\n",
    "    'Ticket': str,\n",
    "    'Fare': float,\n",
    "    'Cabin': str,\n",
    "    'Embarked': str\n",
    "}\n",
    "\n",
    "# Convert columns to their specified types\n",
    "for column, dtype in type_mapping.items():\n",
    "    data[column] = data[column].astype(dtype)\n",
    "\n",
    "# Display the data types after conversion\n",
    "print(\"\\nData Types After Conversion:\")\n",
    "print(data.dtypes)"
   ]
  },
  {
   "cell_type": "markdown",
   "metadata": {},
   "source": [
    "### Filter Bad Data"
   ]
  },
  {
   "cell_type": "code",
   "execution_count": 21,
   "metadata": {},
   "outputs": [
    {
     "name": "stdout",
     "output_type": "stream",
     "text": [
      "\n",
      "Original shape of the data:\n",
      "(891, 12)\n",
      "\n",
      "Shape of the data after filtering bad data:\n",
      "(831, 12)\n",
      "\n",
      "Number of rows filtered out:\n",
      "60\n"
     ]
    }
   ],
   "source": [
    "original_shape = data.shape\n",
    "print(\"\\nOriginal shape of the data:\")\n",
    "print(original_shape)\n",
    "\n",
    "# Assume bad data: Age should be in the range 0-120 and Fare should not be 0\n",
    "bad_age_condition = (data['Age'] < 5) | (data['Age'] > 70)\n",
    "bad_fare_condition = data['Fare'] <= 0\n",
    "\n",
    "# Filter out bad data\n",
    "filtered_data = data[~(bad_age_condition | bad_fare_condition)]\n",
    "\n",
    "# Display the shape of the DataFrame after filtering\n",
    "filtered_shape = filtered_data.shape\n",
    "print(\"\\nShape of the data after filtering bad data:\")\n",
    "print(filtered_shape)\n",
    "\n",
    "# Calculate and display the number of rows filtered out\n",
    "filtered_rows = original_shape[0] - filtered_shape[0]\n",
    "print(\"\\nNumber of rows filtered out:\")\n",
    "print(filtered_rows)"
   ]
  },
  {
   "cell_type": "markdown",
   "metadata": {},
   "source": [
    "### Replace and Map Categories to Fix Them"
   ]
  },
  {
   "cell_type": "code",
   "execution_count": 22,
   "metadata": {},
   "outputs": [
    {
     "name": "stdout",
     "output_type": "stream",
     "text": [
      "\n",
      "Unique values in the 'Sex' column after mapping:\n",
      "['Male' 'Female']\n"
     ]
    }
   ],
   "source": [
    "# Example: Standardizing 'Sex' column\n",
    "data['Sex'] = data['Sex'].replace({'male': 'Male', 'female': 'Female', 'F': 'Female', 'M': 'Male'})\n",
    "\n",
    "# Display unique values in 'Sex' to confirm changes\n",
    "print(\"\\nUnique values in the 'Sex' column after mapping:\")\n",
    "print(data['Sex'].unique())"
   ]
  },
  {
   "cell_type": "markdown",
   "metadata": {},
   "source": [
    "### Drop Unnecessary Features"
   ]
  },
  {
   "cell_type": "code",
   "execution_count": 23,
   "metadata": {},
   "outputs": [
    {
     "name": "stdout",
     "output_type": "stream",
     "text": [
      "\n",
      "Shape of the data after dropping unnecessary features:\n",
      "(891, 9)\n"
     ]
    }
   ],
   "source": [
    "# Make 'PassengerId' the index and drop unnecessary columns\n",
    "data.set_index('PassengerId', inplace=True)  # Set 'PassengerId' as index\n",
    "data.drop(columns=['Cabin', 'Ticket'], inplace=True)  # Drop unnecessary columns\n",
    "\n",
    "# Display the shape of the DataFrame after dropping columns\n",
    "print(\"\\nShape of the data after dropping unnecessary features:\")\n",
    "print(data.shape)"
   ]
  },
  {
   "cell_type": "code",
   "execution_count": 24,
   "metadata": {},
   "outputs": [
    {
     "name": "stdout",
     "output_type": "stream",
     "text": [
      "\n",
      "Cleaned DataFrame:\n"
     ]
    },
    {
     "data": {
      "text/html": [
       "<div>\n",
       "<style scoped>\n",
       "    .dataframe tbody tr th:only-of-type {\n",
       "        vertical-align: middle;\n",
       "    }\n",
       "\n",
       "    .dataframe tbody tr th {\n",
       "        vertical-align: top;\n",
       "    }\n",
       "\n",
       "    .dataframe thead th {\n",
       "        text-align: right;\n",
       "    }\n",
       "</style>\n",
       "<table border=\"1\" class=\"dataframe\">\n",
       "  <thead>\n",
       "    <tr style=\"text-align: right;\">\n",
       "      <th></th>\n",
       "      <th>Survived</th>\n",
       "      <th>Pclass</th>\n",
       "      <th>Name</th>\n",
       "      <th>Sex</th>\n",
       "      <th>Age</th>\n",
       "      <th>SibSp</th>\n",
       "      <th>Parch</th>\n",
       "      <th>Fare</th>\n",
       "      <th>Embarked</th>\n",
       "    </tr>\n",
       "    <tr>\n",
       "      <th>PassengerId</th>\n",
       "      <th></th>\n",
       "      <th></th>\n",
       "      <th></th>\n",
       "      <th></th>\n",
       "      <th></th>\n",
       "      <th></th>\n",
       "      <th></th>\n",
       "      <th></th>\n",
       "      <th></th>\n",
       "    </tr>\n",
       "  </thead>\n",
       "  <tbody>\n",
       "    <tr>\n",
       "      <th>1</th>\n",
       "      <td>0</td>\n",
       "      <td>3</td>\n",
       "      <td>Braund, Mr. Owen Harris</td>\n",
       "      <td>Male</td>\n",
       "      <td>22.0</td>\n",
       "      <td>1</td>\n",
       "      <td>0</td>\n",
       "      <td>7.2500</td>\n",
       "      <td>S</td>\n",
       "    </tr>\n",
       "    <tr>\n",
       "      <th>2</th>\n",
       "      <td>1</td>\n",
       "      <td>1</td>\n",
       "      <td>Cumings, Mrs. John Bradley (Florence Briggs Th...</td>\n",
       "      <td>Female</td>\n",
       "      <td>38.0</td>\n",
       "      <td>1</td>\n",
       "      <td>0</td>\n",
       "      <td>71.2833</td>\n",
       "      <td>C</td>\n",
       "    </tr>\n",
       "    <tr>\n",
       "      <th>3</th>\n",
       "      <td>1</td>\n",
       "      <td>3</td>\n",
       "      <td>Heikkinen, Miss. Laina</td>\n",
       "      <td>Female</td>\n",
       "      <td>26.0</td>\n",
       "      <td>0</td>\n",
       "      <td>0</td>\n",
       "      <td>7.9250</td>\n",
       "      <td>S</td>\n",
       "    </tr>\n",
       "    <tr>\n",
       "      <th>4</th>\n",
       "      <td>1</td>\n",
       "      <td>1</td>\n",
       "      <td>Futrelle, Mrs. Jacques Heath (Lily May Peel)</td>\n",
       "      <td>Female</td>\n",
       "      <td>35.0</td>\n",
       "      <td>1</td>\n",
       "      <td>0</td>\n",
       "      <td>53.1000</td>\n",
       "      <td>S</td>\n",
       "    </tr>\n",
       "    <tr>\n",
       "      <th>5</th>\n",
       "      <td>0</td>\n",
       "      <td>3</td>\n",
       "      <td>Allen, Mr. William Henry</td>\n",
       "      <td>Male</td>\n",
       "      <td>35.0</td>\n",
       "      <td>0</td>\n",
       "      <td>0</td>\n",
       "      <td>8.0500</td>\n",
       "      <td>S</td>\n",
       "    </tr>\n",
       "  </tbody>\n",
       "</table>\n",
       "</div>"
      ],
      "text/plain": [
       "             Survived Pclass  \\\n",
       "PassengerId                    \n",
       "1                   0      3   \n",
       "2                   1      1   \n",
       "3                   1      3   \n",
       "4                   1      1   \n",
       "5                   0      3   \n",
       "\n",
       "                                                          Name     Sex   Age  \\\n",
       "PassengerId                                                                    \n",
       "1                                      Braund, Mr. Owen Harris    Male  22.0   \n",
       "2            Cumings, Mrs. John Bradley (Florence Briggs Th...  Female  38.0   \n",
       "3                                       Heikkinen, Miss. Laina  Female  26.0   \n",
       "4                 Futrelle, Mrs. Jacques Heath (Lily May Peel)  Female  35.0   \n",
       "5                                     Allen, Mr. William Henry    Male  35.0   \n",
       "\n",
       "             SibSp  Parch     Fare Embarked  \n",
       "PassengerId                                  \n",
       "1                1      0   7.2500        S  \n",
       "2                1      0  71.2833        C  \n",
       "3                0      0   7.9250        S  \n",
       "4                1      0  53.1000        S  \n",
       "5                0      0   8.0500        S  "
      ]
     },
     "execution_count": 24,
     "metadata": {},
     "output_type": "execute_result"
    }
   ],
   "source": [
    "# Display the cleaned DataFrame\n",
    "print(\"\\nCleaned DataFrame:\")\n",
    "data.head()"
   ]
  },
  {
   "cell_type": "markdown",
   "metadata": {},
   "source": [
    "# Split the data into Training, Validation, and Test sets"
   ]
  },
  {
   "cell_type": "code",
   "execution_count": 25,
   "metadata": {},
   "outputs": [],
   "source": [
    "from sklearn.model_selection import train_test_split, StratifiedKFold, cross_val_score\n",
    "from sklearn.dummy import DummyClassifier"
   ]
  },
  {
   "cell_type": "code",
   "execution_count": 26,
   "metadata": {},
   "outputs": [],
   "source": [
    "# Let's say our target variable is 'Survived'\n",
    "X = data.drop('Survived', axis=1)\n",
    "y = data['Survived']"
   ]
  },
  {
   "cell_type": "markdown",
   "metadata": {},
   "source": [
    "### Random Split"
   ]
  },
  {
   "cell_type": "code",
   "execution_count": 27,
   "metadata": {},
   "outputs": [
    {
     "name": "stdout",
     "output_type": "stream",
     "text": [
      "\n",
      "Value Counts for Target Variable (Random Split):\n",
      "Training set (Survived):\n",
      "Survived\n",
      "0    0.623596\n",
      "1    0.376404\n",
      "Name: proportion, dtype: float64\n",
      "\n",
      "Validation set (Survived):\n",
      "Survived\n",
      "0    0.634831\n",
      "1    0.365169\n",
      "Name: proportion, dtype: float64\n",
      "\n",
      "Test set (Survived):\n",
      "Survived\n",
      "0    0.575419\n",
      "1    0.424581\n",
      "Name: proportion, dtype: float64\n"
     ]
    }
   ],
   "source": [
    "X_train, X_temp, y_train, y_temp = train_test_split(X, y, test_size=0.4, random_state=42)\n",
    "X_val, X_test, y_val, y_test = train_test_split(X_temp, y_temp, test_size=0.5, random_state=42)\n",
    "\n",
    "# Show value counts for target variable in random split\n",
    "print(\"\\nValue Counts for Target Variable (Random Split):\")\n",
    "print(\"Training set (Survived):\")\n",
    "print(y_train.value_counts(normalize=True))  \n",
    "print(\"\\nValidation set (Survived):\")\n",
    "print(y_val.value_counts(normalize=True))    \n",
    "print(\"\\nTest set (Survived):\")\n",
    "print(y_test.value_counts(normalize=True))   "
   ]
  },
  {
   "cell_type": "markdown",
   "metadata": {},
   "source": [
    "### Stratified Split"
   ]
  },
  {
   "cell_type": "code",
   "execution_count": 28,
   "metadata": {},
   "outputs": [
    {
     "name": "stdout",
     "output_type": "stream",
     "text": [
      "\n",
      "Value Counts for Target Variable (Stratified Split):\n",
      "Training set (Survived):\n",
      "Survived\n",
      "0    0.616105\n",
      "1    0.383895\n",
      "Name: proportion, dtype: float64\n",
      "\n",
      "Validation set (Survived):\n",
      "Survived\n",
      "0    0.617978\n",
      "1    0.382022\n",
      "Name: proportion, dtype: float64\n",
      "\n",
      "Test set (Survived):\n",
      "Survived\n",
      "0    0.614525\n",
      "1    0.385475\n",
      "Name: proportion, dtype: float64\n"
     ]
    }
   ],
   "source": [
    "# This ensures that the proportions of classes are maintained in the split\n",
    "X_train_strat, X_temp_strat, y_train_strat, y_temp_strat = train_test_split(X, y, test_size=0.4, random_state=42, stratify=y)\n",
    "X_val_strat, X_test_strat, y_val_strat, y_test_strat = train_test_split(X_temp_strat, y_temp_strat, test_size=0.5, random_state=42, stratify=y_temp_strat)\n",
    "\n",
    "# Show value counts for target variable in stratified split\n",
    "print(\"\\nValue Counts for Target Variable (Stratified Split):\")\n",
    "print(\"Training set (Survived):\")\n",
    "print(y_train_strat.value_counts(normalize=True))\n",
    "print(\"\\nValidation set (Survived):\")\n",
    "print(y_val_strat.value_counts(normalize=True))  \n",
    "print(\"\\nTest set (Survived):\")\n",
    "print(y_test_strat.value_counts(normalize=True)) "
   ]
  },
  {
   "cell_type": "markdown",
   "metadata": {},
   "source": [
    "### Cross-validation (Data Leakage)"
   ]
  },
  {
   "cell_type": "markdown",
   "metadata": {},
   "source": [
    "##### Wrong"
   ]
  },
  {
   "cell_type": "code",
   "execution_count": 29,
   "metadata": {},
   "outputs": [
    {
     "name": "stdout",
     "output_type": "stream",
     "text": [
      "\n",
      "Cross-Validation Scores:\n",
      "[0.61452514 0.61797753 0.61797753 0.61797753 0.61235955]\n"
     ]
    }
   ],
   "source": [
    "X_clean = X.copy()\n",
    "y_clean = y.copy()\n",
    "\n",
    "# Initialize a Dummy Classifier for illustration purposes\n",
    "dummy_clf = DummyClassifier(strategy='most_frequent')\n",
    "\n",
    "# Set up a stratified K-Fold cross-validation\n",
    "skf = StratifiedKFold(n_splits=5, shuffle=True, random_state=42)\n",
    "\n",
    "# Perform cross-validation and get scores\n",
    "cross_val_scores = cross_val_score(dummy_clf, X_clean, y_clean, cv=skf)\n",
    "\n",
    "print(\"\\nCross-Validation Scores:\")\n",
    "print(cross_val_scores)"
   ]
  },
  {
   "cell_type": "markdown",
   "metadata": {},
   "source": [
    "##### Right"
   ]
  },
  {
   "cell_type": "code",
   "execution_count": 30,
   "metadata": {},
   "outputs": [
    {
     "name": "stdout",
     "output_type": "stream",
     "text": [
      "\n",
      "Cross-Validation Scores:\n",
      "[0.6145251396648045, 0.6179775280898876, 0.6179775280898876, 0.6179775280898876, 0.6123595505617978]\n"
     ]
    }
   ],
   "source": [
    "# Initialize a Dummy Classifier for illustration purposes\n",
    "dummy_clf = DummyClassifier(strategy='most_frequent')\n",
    "\n",
    "# Set up a stratified K-Fold cross-validation\n",
    "skf = StratifiedKFold(n_splits=5, shuffle=True, random_state=42)\n",
    "\n",
    "# Define a custom class for data cleaning\n",
    "class DataCleaner:\n",
    "    def fit(self, X, y=None):\n",
    "        # This would be where fitting logic goes (e.g., calculating statistics)\n",
    "        pass\n",
    "    \n",
    "    def transform(self, X):\n",
    "        # In a real scenario, cleaning steps would go here\n",
    "        return X  # Return the data as is without any changes\n",
    "\n",
    "# Cross-validation loop\n",
    "cross_val_scores = []\n",
    "\n",
    "for train_index, val_index in skf.split(X, y):\n",
    "    # Split the data into training and validation sets\n",
    "    X_train, X_val = X.iloc[train_index], X.iloc[val_index]\n",
    "    y_train, y_val = y.iloc[train_index], y.iloc[val_index]\n",
    "\n",
    "    # Initialize DataCleaner\n",
    "    cleaner = DataCleaner()\n",
    "\n",
    "    # Fit the cleaner on the training data (currently does nothing)\n",
    "    cleaner.fit(X_train)\n",
    "\n",
    "    # Transform the training and validation data\n",
    "    X_train_cleaned = cleaner.transform(X_train)\n",
    "    X_val_cleaned = cleaner.transform(X_val)\n",
    "\n",
    "    # Fit the model on the cleaned training data\n",
    "    dummy_clf.fit(X_train_cleaned, y_train)\n",
    "\n",
    "    # Predict on the cleaned validation data and evaluate the model\n",
    "    score = dummy_clf.score(X_val_cleaned, y_val)\n",
    "    cross_val_scores.append(score)\n",
    "\n",
    "# Display cross-validation scores\n",
    "print(\"\\nCross-Validation Scores:\")\n",
    "print(cross_val_scores)"
   ]
  },
  {
   "cell_type": "code",
   "execution_count": 31,
   "metadata": {},
   "outputs": [],
   "source": [
    "# Perform the final split: first into training and temp (which will be split into validation and test)\n",
    "X_train, X_temp, y_train, y_temp = train_test_split(X, y, test_size=0.4, random_state=42, stratify=y)\n",
    "\n",
    "# Now split the temp set into validation and test sets\n",
    "X_val, X_test, y_val, y_test = train_test_split(X_temp, y_temp, test_size=0.5, random_state=42, stratify=y_temp)"
   ]
  },
  {
   "cell_type": "markdown",
   "metadata": {},
   "source": [
    "# Feature Engineering and Transformation"
   ]
  },
  {
   "cell_type": "markdown",
   "metadata": {},
   "source": [
    "### Transformations Applied to the Target Variable (y)"
   ]
  },
  {
   "cell_type": "code",
   "execution_count": 32,
   "metadata": {},
   "outputs": [
    {
     "data": {
      "image/png": "[encoded data removed]",
      "text/plain": [
       "<Figure size 1200x600 with 2 Axes>"
      ]
     },
     "metadata": {},
     "output_type": "display_data"
    }
   ],
   "source": [
    "# Define the target variable (y_fake) for regression\n",
    "y_fake = data['Fare']\n",
    "\n",
    "# Plot the original distribution of the target variable\n",
    "plt.figure(figsize=(12, 6))\n",
    "\n",
    "# Plot original Fare distribution\n",
    "plt.subplot(1, 2, 1)\n",
    "plt.hist(y_fake, bins=30, color='blue', alpha=0.7)\n",
    "plt.title('Original Fare Distribution')\n",
    "plt.xlabel('Fare')\n",
    "plt.ylabel('Frequency')\n",
    "\n",
    "# Apply log transformation to the target variable\n",
    "y_log = np.log1p(y_fake)  # log1p is used to handle log(0) case\n",
    "\n",
    "# Plot the transformed distribution\n",
    "plt.subplot(1, 2, 2)\n",
    "plt.hist(y_log, bins=30, color='green', alpha=0.7)\n",
    "plt.title('Log Transformed Fare Distribution')\n",
    "plt.xlabel('Log(Fare + 1)')\n",
    "plt.ylabel('Frequency')\n",
    "\n",
    "# Show plots\n",
    "plt.tight_layout()\n",
    "plt.show()"
   ]
  },
  {
   "cell_type": "markdown",
   "metadata": {},
   "source": [
    "### Imputing Missing Values"
   ]
  },
  {
   "cell_type": "code",
   "execution_count": 33,
   "metadata": {},
   "outputs": [
    {
     "name": "stdout",
     "output_type": "stream",
     "text": [
      "\n",
      "Missing Values in Each Column:\n",
      "Pclass      0\n",
      "Name        0\n",
      "Sex         0\n",
      "Age         0\n",
      "SibSp       0\n",
      "Parch       0\n",
      "Fare        0\n",
      "Embarked    0\n",
      "dtype: int64\n",
      "Pclass      0\n",
      "Name        0\n",
      "Sex         0\n",
      "Age         0\n",
      "SibSp       0\n",
      "Parch       0\n",
      "Fare        0\n",
      "Embarked    0\n",
      "dtype: int64\n",
      "Pclass      0\n",
      "Name        0\n",
      "Sex         0\n",
      "Age         0\n",
      "SibSp       0\n",
      "Parch       0\n",
      "Fare        0\n",
      "Embarked    0\n",
      "dtype: int64\n"
     ]
    }
   ],
   "source": [
    "from sklearn.impute import SimpleImputer\n",
    "\n",
    "# Initialize the SimpleImputer for missing values\n",
    "age_imputer = SimpleImputer(strategy='median')\n",
    "fare_imputer = SimpleImputer(strategy='median')\n",
    "embarked_imputer = SimpleImputer(strategy='most_frequent')\n",
    "\n",
    "# Impute missing values for 'Age' and 'Fare'\n",
    "X_train['Age'] = age_imputer.fit_transform(X_train[['Age']])\n",
    "X_val['Age'] = age_imputer.transform(X_val[['Age']])\n",
    "X_test['Age'] = age_imputer.transform(X_test[['Age']])\n",
    "\n",
    "X_train['Fare'] = fare_imputer.fit_transform(X_train[['Fare']])\n",
    "X_val['Fare'] = fare_imputer.transform(X_val[['Fare']])\n",
    "X_test['Fare'] = fare_imputer.transform(X_test[['Fare']])\n",
    "\n",
    "# Impute missing values for 'Embarked'\n",
    "X_train['Embarked'] = embarked_imputer.fit_transform(X_train[['Embarked']]).flatten()\n",
    "X_val['Embarked'] = embarked_imputer.transform(X_val[['Embarked']]).flatten()\n",
    "X_test['Embarked'] = embarked_imputer.transform(X_test[['Embarked']]).flatten()\n",
    "\n",
    "print(\"\\nMissing Values in Each Column:\")\n",
    "print(X_train.isnull().sum())\n",
    "print(X_val.isnull().sum())\n",
    "print(X_test.isnull().sum())"
   ]
  },
  {
   "cell_type": "markdown",
   "metadata": {},
   "source": [
    "### Creating New Feature"
   ]
  },
  {
   "cell_type": "code",
   "execution_count": 34,
   "metadata": {},
   "outputs": [
    {
     "data": {
      "text/html": [
       "<div>\n",
       "<style scoped>\n",
       "    .dataframe tbody tr th:only-of-type {\n",
       "        vertical-align: middle;\n",
       "    }\n",
       "\n",
       "    .dataframe tbody tr th {\n",
       "        vertical-align: top;\n",
       "    }\n",
       "\n",
       "    .dataframe thead th {\n",
       "        text-align: right;\n",
       "    }\n",
       "</style>\n",
       "<table border=\"1\" class=\"dataframe\">\n",
       "  <thead>\n",
       "    <tr style=\"text-align: right;\">\n",
       "      <th></th>\n",
       "      <th>Pclass</th>\n",
       "      <th>Name</th>\n",
       "      <th>Sex</th>\n",
       "      <th>Age</th>\n",
       "      <th>SibSp</th>\n",
       "      <th>Parch</th>\n",
       "      <th>Fare</th>\n",
       "      <th>Embarked</th>\n",
       "      <th>FamilySize</th>\n",
       "      <th>Title</th>\n",
       "    </tr>\n",
       "    <tr>\n",
       "      <th>PassengerId</th>\n",
       "      <th></th>\n",
       "      <th></th>\n",
       "      <th></th>\n",
       "      <th></th>\n",
       "      <th></th>\n",
       "      <th></th>\n",
       "      <th></th>\n",
       "      <th></th>\n",
       "      <th></th>\n",
       "      <th></th>\n",
       "    </tr>\n",
       "  </thead>\n",
       "  <tbody>\n",
       "    <tr>\n",
       "      <th>845</th>\n",
       "      <td>3</td>\n",
       "      <td>Culumovic, Mr. Jeso</td>\n",
       "      <td>Male</td>\n",
       "      <td>17.0</td>\n",
       "      <td>0</td>\n",
       "      <td>0</td>\n",
       "      <td>8.6625</td>\n",
       "      <td>S</td>\n",
       "      <td>1</td>\n",
       "      <td>Mr</td>\n",
       "    </tr>\n",
       "    <tr>\n",
       "      <th>317</th>\n",
       "      <td>2</td>\n",
       "      <td>Kantor, Mrs. Sinai (Miriam Sternin)</td>\n",
       "      <td>Female</td>\n",
       "      <td>24.0</td>\n",
       "      <td>1</td>\n",
       "      <td>0</td>\n",
       "      <td>26.0000</td>\n",
       "      <td>S</td>\n",
       "      <td>2</td>\n",
       "      <td>Mrs</td>\n",
       "    </tr>\n",
       "    <tr>\n",
       "      <th>769</th>\n",
       "      <td>3</td>\n",
       "      <td>Moran, Mr. Daniel J</td>\n",
       "      <td>Male</td>\n",
       "      <td>29.0</td>\n",
       "      <td>1</td>\n",
       "      <td>0</td>\n",
       "      <td>24.1500</td>\n",
       "      <td>Q</td>\n",
       "      <td>2</td>\n",
       "      <td>Mr</td>\n",
       "    </tr>\n",
       "    <tr>\n",
       "      <th>256</th>\n",
       "      <td>3</td>\n",
       "      <td>Touma, Mrs. Darwis (Hanne Youssef Razi)</td>\n",
       "      <td>Female</td>\n",
       "      <td>29.0</td>\n",
       "      <td>0</td>\n",
       "      <td>2</td>\n",
       "      <td>15.2458</td>\n",
       "      <td>C</td>\n",
       "      <td>3</td>\n",
       "      <td>Mrs</td>\n",
       "    </tr>\n",
       "    <tr>\n",
       "      <th>131</th>\n",
       "      <td>3</td>\n",
       "      <td>Drazenoic, Mr. Jozef</td>\n",
       "      <td>Male</td>\n",
       "      <td>33.0</td>\n",
       "      <td>0</td>\n",
       "      <td>0</td>\n",
       "      <td>7.8958</td>\n",
       "      <td>C</td>\n",
       "      <td>1</td>\n",
       "      <td>Mr</td>\n",
       "    </tr>\n",
       "  </tbody>\n",
       "</table>\n",
       "</div>"
      ],
      "text/plain": [
       "            Pclass                                     Name     Sex   Age  \\\n",
       "PassengerId                                                                 \n",
       "845              3                      Culumovic, Mr. Jeso    Male  17.0   \n",
       "317              2      Kantor, Mrs. Sinai (Miriam Sternin)  Female  24.0   \n",
       "769              3                      Moran, Mr. Daniel J    Male  29.0   \n",
       "256              3  Touma, Mrs. Darwis (Hanne Youssef Razi)  Female  29.0   \n",
       "131              3                     Drazenoic, Mr. Jozef    Male  33.0   \n",
       "\n",
       "             SibSp  Parch     Fare Embarked  FamilySize Title  \n",
       "PassengerId                                                    \n",
       "845              0      0   8.6625        S           1    Mr  \n",
       "317              1      0  26.0000        S           2   Mrs  \n",
       "769              1      0  24.1500        Q           2    Mr  \n",
       "256              0      2  15.2458        C           3   Mrs  \n",
       "131              0      0   7.8958        C           1    Mr  "
      ]
     },
     "execution_count": 34,
     "metadata": {},
     "output_type": "execute_result"
    }
   ],
   "source": [
    "def create_features(X):\n",
    "    # Create a new feature 'FamilySize'\n",
    "    X['FamilySize'] = X['SibSp'] + X['Parch'] + 1  # +1 for the individual themselves\n",
    "    \n",
    "    # Create a new feature 'Title' from the 'Name' column\n",
    "    X['Title'] = X['Name'].str.extract(' ([A-Za-z]+)\\.')  # Extract title based on the pattern\n",
    "\n",
    "    # Map titles to a more general category\n",
    "    title_mapping = {\n",
    "        'Mr': 'Mr',\n",
    "        'Mrs': 'Mrs',\n",
    "        'Miss': 'Miss',\n",
    "        'Master': 'Master',\n",
    "        'Dr': 'Rare',\n",
    "        'Rev': 'Rare',\n",
    "        'Col': 'Rare',\n",
    "        'Mlle': 'Miss',\n",
    "        'Ms': 'Mrs',\n",
    "        'Mme': 'Mrs',\n",
    "        'Don': 'Rare',\n",
    "        'Dona': 'Rare',\n",
    "        'Jonkheer': 'Rare',\n",
    "        'Lady': 'Rare',\n",
    "        'Sir': 'Rare'\n",
    "    }\n",
    "    X['Title'] = X['Title'].map(title_mapping)\n",
    "    X['Title'] = X['Title'].fillna('Rare')\n",
    "    return X\n",
    "\n",
    "# Apply feature creation to training, validation, and test sets\n",
    "X_train = create_features(X_train)\n",
    "X_val = create_features(X_val)\n",
    "X_test = create_features(X_test)\n",
    "\n",
    "X_train.head()"
   ]
  },
  {
   "cell_type": "markdown",
   "metadata": {},
   "source": [
    "### Drop features"
   ]
  },
  {
   "cell_type": "code",
   "execution_count": 35,
   "metadata": {},
   "outputs": [
    {
     "data": {
      "text/html": [
       "<div>\n",
       "<style scoped>\n",
       "    .dataframe tbody tr th:only-of-type {\n",
       "        vertical-align: middle;\n",
       "    }\n",
       "\n",
       "    .dataframe tbody tr th {\n",
       "        vertical-align: top;\n",
       "    }\n",
       "\n",
       "    .dataframe thead th {\n",
       "        text-align: right;\n",
       "    }\n",
       "</style>\n",
       "<table border=\"1\" class=\"dataframe\">\n",
       "  <thead>\n",
       "    <tr style=\"text-align: right;\">\n",
       "      <th></th>\n",
       "      <th>Pclass</th>\n",
       "      <th>Sex</th>\n",
       "      <th>Age</th>\n",
       "      <th>Fare</th>\n",
       "      <th>Embarked</th>\n",
       "      <th>FamilySize</th>\n",
       "      <th>Title</th>\n",
       "    </tr>\n",
       "    <tr>\n",
       "      <th>PassengerId</th>\n",
       "      <th></th>\n",
       "      <th></th>\n",
       "      <th></th>\n",
       "      <th></th>\n",
       "      <th></th>\n",
       "      <th></th>\n",
       "      <th></th>\n",
       "    </tr>\n",
       "  </thead>\n",
       "  <tbody>\n",
       "    <tr>\n",
       "      <th>845</th>\n",
       "      <td>3</td>\n",
       "      <td>Male</td>\n",
       "      <td>17.0</td>\n",
       "      <td>8.6625</td>\n",
       "      <td>S</td>\n",
       "      <td>1</td>\n",
       "      <td>Mr</td>\n",
       "    </tr>\n",
       "    <tr>\n",
       "      <th>317</th>\n",
       "      <td>2</td>\n",
       "      <td>Female</td>\n",
       "      <td>24.0</td>\n",
       "      <td>26.0000</td>\n",
       "      <td>S</td>\n",
       "      <td>2</td>\n",
       "      <td>Mrs</td>\n",
       "    </tr>\n",
       "    <tr>\n",
       "      <th>769</th>\n",
       "      <td>3</td>\n",
       "      <td>Male</td>\n",
       "      <td>29.0</td>\n",
       "      <td>24.1500</td>\n",
       "      <td>Q</td>\n",
       "      <td>2</td>\n",
       "      <td>Mr</td>\n",
       "    </tr>\n",
       "    <tr>\n",
       "      <th>256</th>\n",
       "      <td>3</td>\n",
       "      <td>Female</td>\n",
       "      <td>29.0</td>\n",
       "      <td>15.2458</td>\n",
       "      <td>C</td>\n",
       "      <td>3</td>\n",
       "      <td>Mrs</td>\n",
       "    </tr>\n",
       "    <tr>\n",
       "      <th>131</th>\n",
       "      <td>3</td>\n",
       "      <td>Male</td>\n",
       "      <td>33.0</td>\n",
       "      <td>7.8958</td>\n",
       "      <td>C</td>\n",
       "      <td>1</td>\n",
       "      <td>Mr</td>\n",
       "    </tr>\n",
       "  </tbody>\n",
       "</table>\n",
       "</div>"
      ],
      "text/plain": [
       "            Pclass     Sex   Age     Fare Embarked  FamilySize Title\n",
       "PassengerId                                                         \n",
       "845              3    Male  17.0   8.6625        S           1    Mr\n",
       "317              2  Female  24.0  26.0000        S           2   Mrs\n",
       "769              3    Male  29.0  24.1500        Q           2    Mr\n",
       "256              3  Female  29.0  15.2458        C           3   Mrs\n",
       "131              3    Male  33.0   7.8958        C           1    Mr"
      ]
     },
     "execution_count": 35,
     "metadata": {},
     "output_type": "execute_result"
    }
   ],
   "source": [
    "from feature_engine.selection import DropFeatures\n",
    "\n",
    "# Initialize the DropFeatures transformer\n",
    "drop_features = DropFeatures(features_to_drop=['Name', 'SibSp', 'Parch'])\n",
    "\n",
    "# Fit the transformer on the training data and transform\n",
    "X_train = drop_features.fit_transform(X_train)\n",
    "\n",
    "# Transform the validation and test sets\n",
    "X_val = drop_features.transform(X_val)\n",
    "X_test = drop_features.transform(X_test)\n",
    "\n",
    "X_train.head()"
   ]
  },
  {
   "cell_type": "markdown",
   "metadata": {},
   "source": [
    "### Encoding categorical variables\n"
   ]
  },
  {
   "cell_type": "code",
   "execution_count": 36,
   "metadata": {},
   "outputs": [],
   "source": [
    "from sklearn.preprocessing import OneHotEncoder, LabelEncoder\n",
    "\n",
    "# 1. One-Hot Encoding for 'Sex'\n",
    "one_hot_encoder = OneHotEncoder(drop='first', sparse_output=False)\n",
    "\n",
    "X_train_sex_encoded = one_hot_encoder.fit_transform(X_train[['Sex']])\n",
    "X_val_sex_encoded = one_hot_encoder.transform(X_val[['Sex']])\n",
    "X_test_sex_encoded = one_hot_encoder.transform(X_test[['Sex']])\n",
    "\n",
    "# Convert the one-hot encoded features to DataFrame\n",
    "X_train_sex_encoded = pd.DataFrame(X_train_sex_encoded, columns=one_hot_encoder.get_feature_names_out(['Sex']), index=X_train.index)\n",
    "X_val_sex_encoded = pd.DataFrame(X_val_sex_encoded, columns=one_hot_encoder.get_feature_names_out(['Sex']), index=X_val.index)\n",
    "X_test_sex_encoded = pd.DataFrame(X_test_sex_encoded, columns=one_hot_encoder.get_feature_names_out(['Sex']), index=X_test.index)\n",
    "\n",
    "# Combine the one-hot encoded features with the original DataFrame\n",
    "X_train = pd.concat([X_train.drop('Sex', axis=1), X_train_sex_encoded], axis=1)\n",
    "X_val = pd.concat([X_val.drop('Sex', axis=1), X_val_sex_encoded], axis=1)\n",
    "X_test = pd.concat([X_test.drop('Sex', axis=1), X_test_sex_encoded], axis=1)"
   ]
  },
  {
   "cell_type": "code",
   "execution_count": 39,
   "metadata": {},
   "outputs": [],
   "source": [
    "# 2. Label Encoding for 'Embarked' and 'Title'\n",
    "label_encoder_embarked = LabelEncoder()\n",
    "label_encoder_title = LabelEncoder()\n",
    "\n",
    "# Fit and transform on the training set\n",
    "X_train['Embarked'] = label_encoder_embarked.fit_transform(X_train['Embarked'])\n",
    "X_train['Title'] = label_encoder_title.fit_transform(X_train['Title'])\n",
    "\n",
    "# Transform the validation and test sets\n",
    "X_val['Embarked'] = label_encoder_embarked.transform(X_val['Embarked'])\n",
    "X_val['Title'] = label_encoder_title.transform(X_val['Title'])\n",
    "\n",
    "X_test['Embarked'] = label_encoder_embarked.transform(X_test['Embarked'])\n",
    "X_test['Title'] = label_encoder_title.transform(X_test['Title'])"
   ]
  },
  {
   "cell_type": "code",
   "execution_count": 40,
   "metadata": {},
   "outputs": [
    {
     "data": {
      "text/html": [
       "<div>\n",
       "<style scoped>\n",
       "    .dataframe tbody tr th:only-of-type {\n",
       "        vertical-align: middle;\n",
       "    }\n",
       "\n",
       "    .dataframe tbody tr th {\n",
       "        vertical-align: top;\n",
       "    }\n",
       "\n",
       "    .dataframe thead th {\n",
       "        text-align: right;\n",
       "    }\n",
       "</style>\n",
       "<table border=\"1\" class=\"dataframe\">\n",
       "  <thead>\n",
       "    <tr style=\"text-align: right;\">\n",
       "      <th></th>\n",
       "      <th>Pclass</th>\n",
       "      <th>Age</th>\n",
       "      <th>Fare</th>\n",
       "      <th>Embarked</th>\n",
       "      <th>FamilySize</th>\n",
       "      <th>Title</th>\n",
       "      <th>Sex_Male</th>\n",
       "    </tr>\n",
       "    <tr>\n",
       "      <th>PassengerId</th>\n",
       "      <th></th>\n",
       "      <th></th>\n",
       "      <th></th>\n",
       "      <th></th>\n",
       "      <th></th>\n",
       "      <th></th>\n",
       "      <th></th>\n",
       "    </tr>\n",
       "  </thead>\n",
       "  <tbody>\n",
       "    <tr>\n",
       "      <th>845</th>\n",
       "      <td>3</td>\n",
       "      <td>17.0</td>\n",
       "      <td>8.6625</td>\n",
       "      <td>2</td>\n",
       "      <td>1</td>\n",
       "      <td>2</td>\n",
       "      <td>1.0</td>\n",
       "    </tr>\n",
       "    <tr>\n",
       "      <th>317</th>\n",
       "      <td>2</td>\n",
       "      <td>24.0</td>\n",
       "      <td>26.0000</td>\n",
       "      <td>2</td>\n",
       "      <td>2</td>\n",
       "      <td>3</td>\n",
       "      <td>0.0</td>\n",
       "    </tr>\n",
       "    <tr>\n",
       "      <th>769</th>\n",
       "      <td>3</td>\n",
       "      <td>29.0</td>\n",
       "      <td>24.1500</td>\n",
       "      <td>1</td>\n",
       "      <td>2</td>\n",
       "      <td>2</td>\n",
       "      <td>1.0</td>\n",
       "    </tr>\n",
       "    <tr>\n",
       "      <th>256</th>\n",
       "      <td>3</td>\n",
       "      <td>29.0</td>\n",
       "      <td>15.2458</td>\n",
       "      <td>0</td>\n",
       "      <td>3</td>\n",
       "      <td>3</td>\n",
       "      <td>0.0</td>\n",
       "    </tr>\n",
       "    <tr>\n",
       "      <th>131</th>\n",
       "      <td>3</td>\n",
       "      <td>33.0</td>\n",
       "      <td>7.8958</td>\n",
       "      <td>0</td>\n",
       "      <td>1</td>\n",
       "      <td>2</td>\n",
       "      <td>1.0</td>\n",
       "    </tr>\n",
       "    <tr>\n",
       "      <th>...</th>\n",
       "      <td>...</td>\n",
       "      <td>...</td>\n",
       "      <td>...</td>\n",
       "      <td>...</td>\n",
       "      <td>...</td>\n",
       "      <td>...</td>\n",
       "      <td>...</td>\n",
       "    </tr>\n",
       "    <tr>\n",
       "      <th>477</th>\n",
       "      <td>2</td>\n",
       "      <td>34.0</td>\n",
       "      <td>21.0000</td>\n",
       "      <td>2</td>\n",
       "      <td>2</td>\n",
       "      <td>2</td>\n",
       "      <td>1.0</td>\n",
       "    </tr>\n",
       "    <tr>\n",
       "      <th>59</th>\n",
       "      <td>2</td>\n",
       "      <td>5.0</td>\n",
       "      <td>27.7500</td>\n",
       "      <td>2</td>\n",
       "      <td>4</td>\n",
       "      <td>1</td>\n",
       "      <td>0.0</td>\n",
       "    </tr>\n",
       "    <tr>\n",
       "      <th>737</th>\n",
       "      <td>3</td>\n",
       "      <td>48.0</td>\n",
       "      <td>34.3750</td>\n",
       "      <td>2</td>\n",
       "      <td>5</td>\n",
       "      <td>3</td>\n",
       "      <td>0.0</td>\n",
       "    </tr>\n",
       "    <tr>\n",
       "      <th>463</th>\n",
       "      <td>1</td>\n",
       "      <td>47.0</td>\n",
       "      <td>38.5000</td>\n",
       "      <td>2</td>\n",
       "      <td>1</td>\n",
       "      <td>2</td>\n",
       "      <td>1.0</td>\n",
       "    </tr>\n",
       "    <tr>\n",
       "      <th>748</th>\n",
       "      <td>2</td>\n",
       "      <td>30.0</td>\n",
       "      <td>13.0000</td>\n",
       "      <td>2</td>\n",
       "      <td>1</td>\n",
       "      <td>1</td>\n",
       "      <td>0.0</td>\n",
       "    </tr>\n",
       "  </tbody>\n",
       "</table>\n",
       "<p>534 rows × 7 columns</p>\n",
       "</div>"
      ],
      "text/plain": [
       "            Pclass   Age     Fare  Embarked  FamilySize  Title  Sex_Male\n",
       "PassengerId                                                             \n",
       "845              3  17.0   8.6625         2           1      2       1.0\n",
       "317              2  24.0  26.0000         2           2      3       0.0\n",
       "769              3  29.0  24.1500         1           2      2       1.0\n",
       "256              3  29.0  15.2458         0           3      3       0.0\n",
       "131              3  33.0   7.8958         0           1      2       1.0\n",
       "...            ...   ...      ...       ...         ...    ...       ...\n",
       "477              2  34.0  21.0000         2           2      2       1.0\n",
       "59               2   5.0  27.7500         2           4      1       0.0\n",
       "737              3  48.0  34.3750         2           5      3       0.0\n",
       "463              1  47.0  38.5000         2           1      2       1.0\n",
       "748              2  30.0  13.0000         2           1      1       0.0\n",
       "\n",
       "[534 rows x 7 columns]"
      ]
     },
     "execution_count": 40,
     "metadata": {},
     "output_type": "execute_result"
    }
   ],
   "source": [
    "X_train"
   ]
  },
  {
   "cell_type": "markdown",
   "metadata": {},
   "source": [
    "# Feature scaling"
   ]
  },
  {
   "cell_type": "code",
   "execution_count": 44,
   "metadata": {},
   "outputs": [],
   "source": [
    "from sklearn.preprocessing import StandardScaler, MinMaxScaler\n",
    "\n",
    "# Apply Standard Scaling to all features except the target\n",
    "scaler = StandardScaler()\n",
    "\n",
    "# Identify all features to scale (excluding the target variable)\n",
    "features_to_scale = ['Pclass', 'Age', 'Embarked', 'FamilySize', 'Title', 'Sex_Male']\n",
    "\n",
    "# Fit the scaler on the training set and transform\n",
    "X_train[features_to_scale] = scaler.fit_transform(X_train[features_to_scale])\n",
    "\n",
    "# Transform the validation and test sets\n",
    "X_val[features_to_scale] = scaler.transform(X_val[features_to_scale])\n",
    "X_test[features_to_scale] = scaler.transform(X_test[features_to_scale])"
   ]
  },
  {
   "cell_type": "code",
   "execution_count": 45,
   "metadata": {},
   "outputs": [
    {
     "data": {
      "text/html": [
       "<div>\n",
       "<style scoped>\n",
       "    .dataframe tbody tr th:only-of-type {\n",
       "        vertical-align: middle;\n",
       "    }\n",
       "\n",
       "    .dataframe tbody tr th {\n",
       "        vertical-align: top;\n",
       "    }\n",
       "\n",
       "    .dataframe thead th {\n",
       "        text-align: right;\n",
       "    }\n",
       "</style>\n",
       "<table border=\"1\" class=\"dataframe\">\n",
       "  <thead>\n",
       "    <tr style=\"text-align: right;\">\n",
       "      <th></th>\n",
       "      <th>Pclass</th>\n",
       "      <th>Age</th>\n",
       "      <th>Fare</th>\n",
       "      <th>Embarked</th>\n",
       "      <th>FamilySize</th>\n",
       "      <th>Title</th>\n",
       "      <th>Sex_Male</th>\n",
       "    </tr>\n",
       "    <tr>\n",
       "      <th>PassengerId</th>\n",
       "      <th></th>\n",
       "      <th></th>\n",
       "      <th></th>\n",
       "      <th></th>\n",
       "      <th></th>\n",
       "      <th></th>\n",
       "      <th></th>\n",
       "    </tr>\n",
       "  </thead>\n",
       "  <tbody>\n",
       "    <tr>\n",
       "      <th>845</th>\n",
       "      <td>0.819472</td>\n",
       "      <td>-1.009092</td>\n",
       "      <td>8.6625</td>\n",
       "      <td>0.604826</td>\n",
       "      <td>-0.570526</td>\n",
       "      <td>0.102505</td>\n",
       "      <td>0.743186</td>\n",
       "    </tr>\n",
       "    <tr>\n",
       "      <th>317</th>\n",
       "      <td>-0.379427</td>\n",
       "      <td>-0.470634</td>\n",
       "      <td>26.0000</td>\n",
       "      <td>0.604826</td>\n",
       "      <td>0.129844</td>\n",
       "      <td>1.375475</td>\n",
       "      <td>-1.345558</td>\n",
       "    </tr>\n",
       "    <tr>\n",
       "      <th>769</th>\n",
       "      <td>0.819472</td>\n",
       "      <td>-0.086022</td>\n",
       "      <td>24.1500</td>\n",
       "      <td>-0.613955</td>\n",
       "      <td>0.129844</td>\n",
       "      <td>0.102505</td>\n",
       "      <td>0.743186</td>\n",
       "    </tr>\n",
       "    <tr>\n",
       "      <th>256</th>\n",
       "      <td>0.819472</td>\n",
       "      <td>-0.086022</td>\n",
       "      <td>15.2458</td>\n",
       "      <td>-1.832736</td>\n",
       "      <td>0.830213</td>\n",
       "      <td>1.375475</td>\n",
       "      <td>-1.345558</td>\n",
       "    </tr>\n",
       "    <tr>\n",
       "      <th>131</th>\n",
       "      <td>0.819472</td>\n",
       "      <td>0.221668</td>\n",
       "      <td>7.8958</td>\n",
       "      <td>-1.832736</td>\n",
       "      <td>-0.570526</td>\n",
       "      <td>0.102505</td>\n",
       "      <td>0.743186</td>\n",
       "    </tr>\n",
       "    <tr>\n",
       "      <th>...</th>\n",
       "      <td>...</td>\n",
       "      <td>...</td>\n",
       "      <td>...</td>\n",
       "      <td>...</td>\n",
       "      <td>...</td>\n",
       "      <td>...</td>\n",
       "      <td>...</td>\n",
       "    </tr>\n",
       "    <tr>\n",
       "      <th>477</th>\n",
       "      <td>-0.379427</td>\n",
       "      <td>0.298590</td>\n",
       "      <td>21.0000</td>\n",
       "      <td>0.604826</td>\n",
       "      <td>0.129844</td>\n",
       "      <td>0.102505</td>\n",
       "      <td>0.743186</td>\n",
       "    </tr>\n",
       "    <tr>\n",
       "      <th>59</th>\n",
       "      <td>-0.379427</td>\n",
       "      <td>-1.932161</td>\n",
       "      <td>27.7500</td>\n",
       "      <td>0.604826</td>\n",
       "      <td>1.530583</td>\n",
       "      <td>-1.170465</td>\n",
       "      <td>-1.345558</td>\n",
       "    </tr>\n",
       "    <tr>\n",
       "      <th>737</th>\n",
       "      <td>0.819472</td>\n",
       "      <td>1.375505</td>\n",
       "      <td>34.3750</td>\n",
       "      <td>0.604826</td>\n",
       "      <td>2.230953</td>\n",
       "      <td>1.375475</td>\n",
       "      <td>-1.345558</td>\n",
       "    </tr>\n",
       "    <tr>\n",
       "      <th>463</th>\n",
       "      <td>-1.578325</td>\n",
       "      <td>1.298582</td>\n",
       "      <td>38.5000</td>\n",
       "      <td>0.604826</td>\n",
       "      <td>-0.570526</td>\n",
       "      <td>0.102505</td>\n",
       "      <td>0.743186</td>\n",
       "    </tr>\n",
       "    <tr>\n",
       "      <th>748</th>\n",
       "      <td>-0.379427</td>\n",
       "      <td>-0.009100</td>\n",
       "      <td>13.0000</td>\n",
       "      <td>0.604826</td>\n",
       "      <td>-0.570526</td>\n",
       "      <td>-1.170465</td>\n",
       "      <td>-1.345558</td>\n",
       "    </tr>\n",
       "  </tbody>\n",
       "</table>\n",
       "<p>534 rows × 7 columns</p>\n",
       "</div>"
      ],
      "text/plain": [
       "               Pclass       Age     Fare  Embarked  FamilySize     Title  \\\n",
       "PassengerId                                                                \n",
       "845          0.819472 -1.009092   8.6625  0.604826   -0.570526  0.102505   \n",
       "317         -0.379427 -0.470634  26.0000  0.604826    0.129844  1.375475   \n",
       "769          0.819472 -0.086022  24.1500 -0.613955    0.129844  0.102505   \n",
       "256          0.819472 -0.086022  15.2458 -1.832736    0.830213  1.375475   \n",
       "131          0.819472  0.221668   7.8958 -1.832736   -0.570526  0.102505   \n",
       "...               ...       ...      ...       ...         ...       ...   \n",
       "477         -0.379427  0.298590  21.0000  0.604826    0.129844  0.102505   \n",
       "59          -0.379427 -1.932161  27.7500  0.604826    1.530583 -1.170465   \n",
       "737          0.819472  1.375505  34.3750  0.604826    2.230953  1.375475   \n",
       "463         -1.578325  1.298582  38.5000  0.604826   -0.570526  0.102505   \n",
       "748         -0.379427 -0.009100  13.0000  0.604826   -0.570526 -1.170465   \n",
       "\n",
       "             Sex_Male  \n",
       "PassengerId            \n",
       "845          0.743186  \n",
       "317         -1.345558  \n",
       "769          0.743186  \n",
       "256         -1.345558  \n",
       "131          0.743186  \n",
       "...               ...  \n",
       "477          0.743186  \n",
       "59          -1.345558  \n",
       "737         -1.345558  \n",
       "463          0.743186  \n",
       "748         -1.345558  \n",
       "\n",
       "[534 rows x 7 columns]"
      ]
     },
     "execution_count": 45,
     "metadata": {},
     "output_type": "execute_result"
    }
   ],
   "source": [
    "X_train"
   ]
  },
  {
   "cell_type": "code",
   "execution_count": 46,
   "metadata": {},
   "outputs": [],
   "source": [
    "# Apply Min-Max Scaling to the one-hot encoded 'Sex' features\n",
    "min_max_scaler = MinMaxScaler()\n",
    "\n",
    "# Identify one-hot encoded features for scaling\n",
    "sex_columns = ['Fare']\n",
    "\n",
    "# Fit the Min-Max scaler on the training set and transform\n",
    "X_train[sex_columns] = min_max_scaler.fit_transform(X_train[sex_columns])\n",
    "\n",
    "# Transform the validation and test sets for 'Sex'\n",
    "X_val[sex_columns] = min_max_scaler.transform(X_val[sex_columns])\n",
    "X_test[sex_columns] = min_max_scaler.transform(X_test[sex_columns])"
   ]
  },
  {
   "cell_type": "code",
   "execution_count": 47,
   "metadata": {},
   "outputs": [
    {
     "data": {
      "text/html": [
       "<div>\n",
       "<style scoped>\n",
       "    .dataframe tbody tr th:only-of-type {\n",
       "        vertical-align: middle;\n",
       "    }\n",
       "\n",
       "    .dataframe tbody tr th {\n",
       "        vertical-align: top;\n",
       "    }\n",
       "\n",
       "    .dataframe thead th {\n",
       "        text-align: right;\n",
       "    }\n",
       "</style>\n",
       "<table border=\"1\" class=\"dataframe\">\n",
       "  <thead>\n",
       "    <tr style=\"text-align: right;\">\n",
       "      <th></th>\n",
       "      <th>Pclass</th>\n",
       "      <th>Age</th>\n",
       "      <th>Fare</th>\n",
       "      <th>Embarked</th>\n",
       "      <th>FamilySize</th>\n",
       "      <th>Title</th>\n",
       "      <th>Sex_Male</th>\n",
       "    </tr>\n",
       "    <tr>\n",
       "      <th>PassengerId</th>\n",
       "      <th></th>\n",
       "      <th></th>\n",
       "      <th></th>\n",
       "      <th></th>\n",
       "      <th></th>\n",
       "      <th></th>\n",
       "      <th></th>\n",
       "    </tr>\n",
       "  </thead>\n",
       "  <tbody>\n",
       "    <tr>\n",
       "      <th>845</th>\n",
       "      <td>0.819472</td>\n",
       "      <td>-1.009092</td>\n",
       "      <td>0.016908</td>\n",
       "      <td>0.604826</td>\n",
       "      <td>-0.570526</td>\n",
       "      <td>0.102505</td>\n",
       "      <td>0.743186</td>\n",
       "    </tr>\n",
       "    <tr>\n",
       "      <th>317</th>\n",
       "      <td>-0.379427</td>\n",
       "      <td>-0.470634</td>\n",
       "      <td>0.050749</td>\n",
       "      <td>0.604826</td>\n",
       "      <td>0.129844</td>\n",
       "      <td>1.375475</td>\n",
       "      <td>-1.345558</td>\n",
       "    </tr>\n",
       "    <tr>\n",
       "      <th>769</th>\n",
       "      <td>0.819472</td>\n",
       "      <td>-0.086022</td>\n",
       "      <td>0.047138</td>\n",
       "      <td>-0.613955</td>\n",
       "      <td>0.129844</td>\n",
       "      <td>0.102505</td>\n",
       "      <td>0.743186</td>\n",
       "    </tr>\n",
       "    <tr>\n",
       "      <th>256</th>\n",
       "      <td>0.819472</td>\n",
       "      <td>-0.086022</td>\n",
       "      <td>0.029758</td>\n",
       "      <td>-1.832736</td>\n",
       "      <td>0.830213</td>\n",
       "      <td>1.375475</td>\n",
       "      <td>-1.345558</td>\n",
       "    </tr>\n",
       "    <tr>\n",
       "      <th>131</th>\n",
       "      <td>0.819472</td>\n",
       "      <td>0.221668</td>\n",
       "      <td>0.015412</td>\n",
       "      <td>-1.832736</td>\n",
       "      <td>-0.570526</td>\n",
       "      <td>0.102505</td>\n",
       "      <td>0.743186</td>\n",
       "    </tr>\n",
       "    <tr>\n",
       "      <th>...</th>\n",
       "      <td>...</td>\n",
       "      <td>...</td>\n",
       "      <td>...</td>\n",
       "      <td>...</td>\n",
       "      <td>...</td>\n",
       "      <td>...</td>\n",
       "      <td>...</td>\n",
       "    </tr>\n",
       "    <tr>\n",
       "      <th>477</th>\n",
       "      <td>-0.379427</td>\n",
       "      <td>0.298590</td>\n",
       "      <td>0.040989</td>\n",
       "      <td>0.604826</td>\n",
       "      <td>0.129844</td>\n",
       "      <td>0.102505</td>\n",
       "      <td>0.743186</td>\n",
       "    </tr>\n",
       "    <tr>\n",
       "      <th>59</th>\n",
       "      <td>-0.379427</td>\n",
       "      <td>-1.932161</td>\n",
       "      <td>0.054164</td>\n",
       "      <td>0.604826</td>\n",
       "      <td>1.530583</td>\n",
       "      <td>-1.170465</td>\n",
       "      <td>-1.345558</td>\n",
       "    </tr>\n",
       "    <tr>\n",
       "      <th>737</th>\n",
       "      <td>0.819472</td>\n",
       "      <td>1.375505</td>\n",
       "      <td>0.067096</td>\n",
       "      <td>0.604826</td>\n",
       "      <td>2.230953</td>\n",
       "      <td>1.375475</td>\n",
       "      <td>-1.345558</td>\n",
       "    </tr>\n",
       "    <tr>\n",
       "      <th>463</th>\n",
       "      <td>-1.578325</td>\n",
       "      <td>1.298582</td>\n",
       "      <td>0.075147</td>\n",
       "      <td>0.604826</td>\n",
       "      <td>-0.570526</td>\n",
       "      <td>0.102505</td>\n",
       "      <td>0.743186</td>\n",
       "    </tr>\n",
       "    <tr>\n",
       "      <th>748</th>\n",
       "      <td>-0.379427</td>\n",
       "      <td>-0.009100</td>\n",
       "      <td>0.025374</td>\n",
       "      <td>0.604826</td>\n",
       "      <td>-0.570526</td>\n",
       "      <td>-1.170465</td>\n",
       "      <td>-1.345558</td>\n",
       "    </tr>\n",
       "  </tbody>\n",
       "</table>\n",
       "<p>534 rows × 7 columns</p>\n",
       "</div>"
      ],
      "text/plain": [
       "               Pclass       Age      Fare  Embarked  FamilySize     Title  \\\n",
       "PassengerId                                                                 \n",
       "845          0.819472 -1.009092  0.016908  0.604826   -0.570526  0.102505   \n",
       "317         -0.379427 -0.470634  0.050749  0.604826    0.129844  1.375475   \n",
       "769          0.819472 -0.086022  0.047138 -0.613955    0.129844  0.102505   \n",
       "256          0.819472 -0.086022  0.029758 -1.832736    0.830213  1.375475   \n",
       "131          0.819472  0.221668  0.015412 -1.832736   -0.570526  0.102505   \n",
       "...               ...       ...       ...       ...         ...       ...   \n",
       "477         -0.379427  0.298590  0.040989  0.604826    0.129844  0.102505   \n",
       "59          -0.379427 -1.932161  0.054164  0.604826    1.530583 -1.170465   \n",
       "737          0.819472  1.375505  0.067096  0.604826    2.230953  1.375475   \n",
       "463         -1.578325  1.298582  0.075147  0.604826   -0.570526  0.102505   \n",
       "748         -0.379427 -0.009100  0.025374  0.604826   -0.570526 -1.170465   \n",
       "\n",
       "             Sex_Male  \n",
       "PassengerId            \n",
       "845          0.743186  \n",
       "317         -1.345558  \n",
       "769          0.743186  \n",
       "256         -1.345558  \n",
       "131          0.743186  \n",
       "...               ...  \n",
       "477          0.743186  \n",
       "59          -1.345558  \n",
       "737         -1.345558  \n",
       "463          0.743186  \n",
       "748         -1.345558  \n",
       "\n",
       "[534 rows x 7 columns]"
      ]
     },
     "execution_count": 47,
     "metadata": {},
     "output_type": "execute_result"
    }
   ],
   "source": [
    "X_train"
   ]
  },
  {
   "cell_type": "code",
   "execution_count": null,
   "metadata": {},
   "outputs": [],
   "source": []
  }
 ],
 "metadata": {
  "kernelspec": {
   "display_name": "env",
   "language": "python",
   "name": "python3"
  },
  "language_info": {
   "codemirror_mode": {
    "name": "ipython",
    "version": 3
   },
   "file_extension": ".py",
   "mimetype": "text/x-python",
   "name": "python",
   "nbconvert_exporter": "python",
   "pygments_lexer": "ipython3",
   "version": "3.10.8"
  }
 },
 "nbformat": 4,
 "nbformat_minor": 2
}
